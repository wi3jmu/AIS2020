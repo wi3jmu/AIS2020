{
 "cells": [
  {
   "cell_type": "markdown",
   "metadata": {
    "cell_style": "center",
    "slideshow": {
     "slide_type": "slide"
    }
   },
   "source": [
    "*Analytical Information Systems*\n",
    "\n",
    "# Worksheet 4 - Data Visualization\n",
    "\n",
    "Matthias Griebel<br>\n",
    "Lehrstuhl für Wirtschaftsinformatik und Informationsmanagement\n",
    "\n",
    "SS 2020"
   ]
  },
  {
   "cell_type": "markdown",
   "metadata": {
    "cell_style": "split",
    "slideshow": {
     "slide_type": "subslide"
    }
   },
   "source": [
    "__Credits__\n",
    "\n",
    "- John Burn-Murdoch, Financial Times http://johnburnmurdoch.github.io\n",
    "\n",
    "- \"R for Data Science\" by Garrett Grolemund and Hadley Wickham\n",
    "    - Chapter 3: [Data Visualisation](https://r4ds.had.co.nz/data-visualisation.html)\n",
    "    - Chapter 7: [Exploratory Data Analysis](https://r4ds.had.co.nz/exploratory-data-analysis.html)"
   ]
  },
  {
   "cell_type": "markdown",
   "metadata": {
    "slideshow": {
     "slide_type": "slide"
    }
   },
   "source": [
    "# Data Visualization"
   ]
  },
  {
   "cell_type": "markdown",
   "metadata": {
    "slideshow": {
     "slide_type": "subslide"
    }
   },
   "source": [
    "## Why use Data Visualization?\n",
    "\n",
    "The depiction of information using spatial or graphical representations, to facilitate comparison, pattern recognition, change detection, and other cognitive skills by making use of the visual system.\n",
    "\n",
    "- Problem \n",
    "    - Big datasets: How to understand them?\n",
    "- Solution\n",
    "    - Take better advantage of human perceptual system\n",
    "    - Convert information into a graphical representation.\n",
    "- Issues\n",
    "    - How to convert abstract information into graphical form?\n",
    "    - Do visualizations do a better job than other methods?\n",
    "\n",
    "\n"
   ]
  },
  {
   "cell_type": "markdown",
   "metadata": {
    "slideshow": {
     "slide_type": "subslide"
    }
   },
   "source": [
    "### Graphical Excellence\n",
    "\n",
    "Excellence in statistical graphics consists of complex ideas communicated with clarity, precision, and efficiency\n",
    "\n",
    "Graphical Displays should show the data and...\n",
    "\n",
    "- induce the viewer to think about the substance\n",
    "- avoid distorting what the data says\n",
    "- present many numbers in small space\n",
    "- make large data sets coherent\n",
    "- encourage the eye to compare different pieces of data\n",
    "- reveal the data at several levels of detail, from a broad overview to the new structure\n",
    "- serve a reasonably clear purpose: description, exploration, tabulation, or decoration"
   ]
  },
  {
   "cell_type": "markdown",
   "metadata": {},
   "source": [
    "### \"Man shall not live on lines and bars alone\"\n",
    "\n",
    "1. __Ubiquity__: \n",
    "    - if chart becomes 'just another bar chart popping up on Twitter', it's useless as an attention-grabbing device\n",
    "    \n",
    "   \n",
    "2. __Discourages creativity__: \n",
    "    - if charts are perceived simply as 'jobs' to be done, they will be misused. \n",
    "    - The worst case scenario is that they become seen simply as 'things to break up text', interchangeable with quotes, photographs"
   ]
  },
  {
   "cell_type": "markdown",
   "metadata": {},
   "source": [
    "### A picture paints a thousand words\n",
    "\n",
    "- \"[Data visualisation] is not meant just to be seen but to be read, like written text.\" - Alberto Cairo\n",
    "- Bars and lines have their place, but you need to add some GaaS (Graphic as a Story)"
   ]
  },
  {
   "cell_type": "markdown",
   "metadata": {
    "slideshow": {
     "slide_type": "subslide"
    }
   },
   "source": [
    "__Example for graphical excellence__\n",
    "\n",
    "Goal-Contribution Matrix for the Premier League! Special focus on Eden Hazard, Jamie Vardy, Glen Murray, and Ryan Fraser ([Link](https://twitter.com/r_by_ryo/status/1129773418184925184?s=12)/[Code](https://gist.github.com/Ryo-N7/67ca1c364c342a82c4098918082ca445)).\n",
    "\n",
    "<img src=\"https://pbs.twimg.com/media/D63BjrRXoAAdbZi.png:large\" style=\"width:60%\">"
   ]
  },
  {
   "cell_type": "markdown",
   "metadata": {},
   "source": [
    "# Introduction to ggplot"
   ]
  },
  {
   "cell_type": "markdown",
   "metadata": {
    "cell_style": "split",
    "slideshow": {
     "slide_type": "subslide"
    }
   },
   "source": [
    "<img src=\"https://github.com/tidyverse/ggplot2/raw/master/man/figures/logo.png\">"
   ]
  },
  {
   "cell_type": "markdown",
   "metadata": {},
   "source": [
    "ggplot2 makes it easy to quickly experiment with:\n",
    "\n",
    "- Different ways of encoding data in shape, space and colour\n",
    "\n",
    "- Small multiples vs multiple series\n",
    "\n",
    "- Display ratios\n",
    "\n",
    "- Layering visual elements"
   ]
  },
  {
   "cell_type": "markdown",
   "metadata": {
    "cell_style": "split",
    "slideshow": {
     "slide_type": "subslide"
    }
   },
   "source": [
    "The ggplot2 package lets you make beautiful and customizable plots of your data. \n",
    "\n",
    "- one of the core members of the tidyverse\n",
    "- based on the __grammar of graphics__, the idea that you can build every graph from the same components:\n",
    "    - a data set\n",
    "    - a coordinate system\n",
    "    - geoms - visual marks that represent data points"
   ]
  },
  {
   "cell_type": "markdown",
   "metadata": {
    "slideshow": {
     "slide_type": "subslide"
    }
   },
   "source": [
    "A `ggplot2` graph consists of the following compenents.\n",
    "\n",
    "```R\n",
    "ggplot(data = <DATA> ) +\n",
    "    <GEOM_FUNCTION>(mapping=aes(<MAPPINGS>),stat=<STAT>,position=<POSITION>)+\n",
    "    (opt) <COORDINATE_FUNCTION> + \n",
    "    (opt) <FACET_FUNCTION> +\n",
    "    (opt) <SCALE_FUNCTION> + \n",
    "    (opt) <THEME_FUNCTION>\n",
    "``` "
   ]
  },
  {
   "cell_type": "markdown",
   "metadata": {
    "cell_style": "split",
    "slideshow": {
     "slide_type": "subslide"
    }
   },
   "source": [
    "[Cheatsheet](https://github.com/rstudio/cheatsheets/raw/master/data-visualization-2.1.pdf)"
   ]
  },
  {
   "cell_type": "code",
   "execution_count": null,
   "metadata": {},
   "outputs": [],
   "source": [
    "library(tidyverse)"
   ]
  },
  {
   "cell_type": "markdown",
   "metadata": {
    "slideshow": {
     "slide_type": "subslide"
    }
   },
   "source": [
    "Let's complete the template below to build a graph of the the relationship between `carat`and `price`in the `diamonds`data:"
   ]
  },
  {
   "cell_type": "code",
   "execution_count": null,
   "metadata": {},
   "outputs": [],
   "source": [
    "options(repr.plot.width=4, repr.plot.height=4)\n",
    "ggplot(data = diamonds) +\n",
    "    geom_point(mapping = aes(x = carat, y = price))"
   ]
  },
  {
   "cell_type": "markdown",
   "metadata": {
    "cell_style": "center",
    "slideshow": {
     "slide_type": "subslide"
    }
   },
   "source": [
    "__Controlling plots in Jupyter Notebooks__\n",
    "\n",
    "You can control the size and quality of plots. \n",
    "- Use `options(repr.* = ...)` and `getOption('repr.*')` to set and get them, respectively.\n",
    "- Example: adjust width and heigth\n",
    "```R\n",
    "options(repr.plot.width=7, repr.plot.height=7)\n",
    "```\n",
    "\n",
    "[Documentation](https://www.rdocumentation.org/packages/repr/versions/0.7/topics/repr-options)"
   ]
  },
  {
   "cell_type": "markdown",
   "metadata": {
    "cell_style": "center",
    "slideshow": {
     "slide_type": "subslide"
    }
   },
   "source": [
    "__Choosing Plots and Aesthetic Elements__\n",
    "\n",
    "<img src=\"https://raw.githubusercontent.com/wi3jmu/AIS_2019/master/notebooks/images/03/taxonomy.png\" width=\"700\">"
   ]
  },
  {
   "cell_type": "markdown",
   "metadata": {
    "slideshow": {
     "slide_type": "subslide"
    }
   },
   "source": [
    "### Comparison\n",
    "\n",
    "__Columns Charts__\n",
    "\n",
    "If you want the heights of the bars to represent values in the data, use `geom_col()`. "
   ]
  },
  {
   "cell_type": "code",
   "execution_count": null,
   "metadata": {},
   "outputs": [],
   "source": [
    "options(repr.plot.width=4, repr.plot.height=4)\n",
    "diamonds %>%\n",
    "    group_by(cut) %>%\n",
    "    summarize(avgprice = mean(price)) %>%\n",
    "    ggplot() + \n",
    "      geom_col(mapping = aes(x = cut, y = avgprice))"
   ]
  },
  {
   "cell_type": "markdown",
   "metadata": {
    "slideshow": {
     "slide_type": "subslide"
    }
   },
   "source": [
    "There's plenty of unused (uninformative) space in the chart, so let's change the width of th bars:"
   ]
  },
  {
   "cell_type": "code",
   "execution_count": null,
   "metadata": {},
   "outputs": [],
   "source": [
    "options(repr.plot.width=4, repr.plot.height=4)\n",
    "diamonds %>%\n",
    "    group_by(cut) %>%\n",
    "    summarize(avgprice = mean(price)) %>%\n",
    "    ggplot() + \n",
    "      geom_col(mapping = aes(x = cut, y = avgprice), width=0.2)"
   ]
  },
  {
   "cell_type": "markdown",
   "metadata": {
    "slideshow": {
     "slide_type": "subslide"
    }
   },
   "source": [
    "This chart contains the same information:"
   ]
  },
  {
   "cell_type": "code",
   "execution_count": null,
   "metadata": {},
   "outputs": [],
   "source": [
    "diamonds %>%\n",
    "    group_by(cut) %>%\n",
    "    summarize(avgprice = mean(price)) %>%\n",
    "    ggplot() + \n",
    "      geom_point(mapping = aes(x = cut, y = avgprice))"
   ]
  },
  {
   "cell_type": "markdown",
   "metadata": {
    "slideshow": {
     "slide_type": "subslide"
    }
   },
   "source": [
    "Finding an explanation (avgprice low for ideal cut) is not easy!"
   ]
  },
  {
   "cell_type": "code",
   "execution_count": null,
   "metadata": {},
   "outputs": [],
   "source": [
    "options(repr.plot.width=4, repr.plot.height=5)\n",
    "diamonds %>%\n",
    "    group_by(cut) %>%\n",
    "    summarize(avgpricepercarat = mean(price)/mean(carat)) %>%\n",
    "    ggplot() + \n",
    "      geom_col(mapping = aes(x = cut, y = avgpricepercarat), width=0.2)"
   ]
  },
  {
   "cell_type": "markdown",
   "metadata": {
    "slideshow": {
     "slide_type": "subslide"
    }
   },
   "source": [
    "Clarity as explanation?"
   ]
  },
  {
   "cell_type": "code",
   "execution_count": null,
   "metadata": {},
   "outputs": [],
   "source": [
    "options(repr.plot.width=4, repr.plot.height=5)\n",
    "diamonds %>%\n",
    "    filter(clarity == \"IF\") %>%\n",
    "    group_by(cut) %>%\n",
    "    summarize(avgpricepercarat = mean(price)/mean(carat)) %>%\n",
    "    ggplot() + \n",
    "      geom_col(mapping = aes(x = cut, y = avgpricepercarat), width=0.2)"
   ]
  },
  {
   "cell_type": "markdown",
   "metadata": {
    "slideshow": {
     "slide_type": "subslide"
    }
   },
   "source": [
    "### Composition"
   ]
  },
  {
   "cell_type": "markdown",
   "metadata": {},
   "source": [
    "__Bar chart__\n",
    "\n",
    "To examine the counts of different classes of a categorical variable, use a bar chart:"
   ]
  },
  {
   "cell_type": "code",
   "execution_count": null,
   "metadata": {},
   "outputs": [],
   "source": [
    "options(repr.plot.width=4, repr.plot.height=4)\n",
    "ggplot(data = diamonds) + \n",
    "  geom_bar(mapping = aes(x = cut))"
   ]
  },
  {
   "cell_type": "markdown",
   "metadata": {
    "slideshow": {
     "slide_type": "subslide"
    }
   },
   "source": [
    "The algorithm used to calculate new values for a graph is called a stat, short for statistical transformation. The figure below describes how this process works with geom_bar().\n",
    "\n",
    "<img src=\"https://raw.githubusercontent.com/wi3jmu/AIS_2019/master/notebooks/images/03/visualization-stat-bar-2.png\" style=\"width:80%\">"
   ]
  },
  {
   "cell_type": "markdown",
   "metadata": {
    "slideshow": {
     "slide_type": "subslide"
    }
   },
   "source": [
    "__Stacked Bar chart__\n",
    "\n",
    "To examine the composition (with respect to other categorical variables) of the different classes of a categorical variable, we use a stacked bar chart:"
   ]
  },
  {
   "cell_type": "code",
   "execution_count": null,
   "metadata": {},
   "outputs": [],
   "source": [
    "options(repr.plot.width=4, repr.plot.height=4)\n",
    "ggplot(data = diamonds) + \n",
    "  geom_bar(mapping = aes(x = cut, fill = clarity))"
   ]
  },
  {
   "cell_type": "markdown",
   "metadata": {
    "slideshow": {
     "slide_type": "subslide"
    }
   },
   "source": [
    "__100% Stacked Bar chart__\n",
    "\n",
    "To focus exclusively on the composition (with respect to other categorical variables) of the different classes of a categorical variable, we use a 100% stacked bar chart:"
   ]
  },
  {
   "cell_type": "code",
   "execution_count": null,
   "metadata": {},
   "outputs": [],
   "source": [
    "options(repr.plot.width=4, repr.plot.height=4)\n",
    "ggplot(data = diamonds) + \n",
    "  geom_bar(mapping = aes(x = cut, fill = clarity), position=\"fill\")"
   ]
  },
  {
   "cell_type": "markdown",
   "metadata": {
    "slideshow": {
     "slide_type": "subslide"
    }
   },
   "source": [
    "### Distributions\n",
    "\n",
    "How you visualize the distribution of a variable will depend on whether the variable is categorical or continuous. A variable is categorical if it can only take one of a small set of values. In R, categorical variables are usually saved as factors or character vectors. "
   ]
  },
  {
   "cell_type": "markdown",
   "metadata": {
    "slideshow": {
     "slide_type": "subslide"
    }
   },
   "source": [
    "__Histograms__\n",
    "\n",
    "To examine the distribution of a continuous variable, use a histogram. A histogram divides the x-axis into equally spaced bins and then uses the height of a bar to display the number of observations that fall in each bin. "
   ]
  },
  {
   "cell_type": "code",
   "execution_count": null,
   "metadata": {},
   "outputs": [],
   "source": [
    "ggplot(data = diamonds) +\n",
    "  geom_histogram(mapping = aes(x = carat), bins = 30, color=\"black\", fill=\"white\")"
   ]
  },
  {
   "cell_type": "markdown",
   "metadata": {
    "slideshow": {
     "slide_type": "subslide"
    }
   },
   "source": [
    "__Smoothed density estimates__\n",
    "\n",
    "`geom_density` computes and draws kernel density estimate, which is a smoothed version of the histogram. This is a useful alternative to the histogram for continuous data that comes from an underlying smooth distribution."
   ]
  },
  {
   "cell_type": "code",
   "execution_count": null,
   "metadata": {},
   "outputs": [],
   "source": [
    "ggplot(data = diamonds) +\n",
    "  geom_density(mapping = aes(x = carat))"
   ]
  },
  {
   "cell_type": "markdown",
   "metadata": {
    "slideshow": {
     "slide_type": "subslide"
    }
   },
   "source": [
    "__Boxplots__\n",
    "\n",
    "You can use boxplots to display the distribution of a continuous variable broken down by a categorical variable.\n",
    "\n",
    "- Concise way to illustrate the standard quantiles, shape, and outliers of data\n",
    "- Each “box” is created according to some standard composition rules\n",
    "\n",
    "<img src=\"https://raw.githubusercontent.com/wi3jmu/AIS_2019/master/notebooks/images/03/eda-boxplot.png\" width=\"700\">\n",
    "\n",
    "[Source](https://r4ds.had.co.nz/exploratory-data-analysis.html)\n"
   ]
  },
  {
   "cell_type": "code",
   "execution_count": null,
   "metadata": {
    "slideshow": {
     "slide_type": "subslide"
    }
   },
   "outputs": [],
   "source": [
    "options(repr.plot.width=2, repr.plot.height=5)\n",
    "ggplot(data = diamonds) +\n",
    "  geom_boxplot(mapping = aes(y=carat))"
   ]
  },
  {
   "cell_type": "markdown",
   "metadata": {
    "slideshow": {
     "slide_type": "subslide"
    }
   },
   "source": [
    "__Comparing Distributions__\n",
    "\n",
    "It’s common to want to explore the distribution of a continuous variable broken down by a categorical variable"
   ]
  },
  {
   "cell_type": "code",
   "execution_count": null,
   "metadata": {},
   "outputs": [],
   "source": [
    "options(repr.plot.width=5, repr.plot.height=4)\n",
    "ggplot(data = diamonds, mapping = aes(fill = cut, x = price), position=\"identity\") +\n",
    "  geom_density(alpha=0.3)"
   ]
  },
  {
   "cell_type": "markdown",
   "metadata": {
    "slideshow": {
     "slide_type": "subslide"
    }
   },
   "source": [
    "...better use boxplots!"
   ]
  },
  {
   "cell_type": "code",
   "execution_count": null,
   "metadata": {},
   "outputs": [],
   "source": [
    "options(repr.plot.width=3, repr.plot.height=3)\n",
    "ggplot(data = diamonds, mapping = aes(x = cut, y = price)) +\n",
    "  geom_boxplot()"
   ]
  },
  {
   "cell_type": "markdown",
   "metadata": {
    "slideshow": {
     "slide_type": "subslide"
    }
   },
   "source": [
    "If the descriptions on the x-Axis do not fit well, flip the coordinates"
   ]
  },
  {
   "cell_type": "code",
   "execution_count": null,
   "metadata": {
    "slideshow": {
     "slide_type": "-"
    }
   },
   "outputs": [],
   "source": [
    "options(repr.plot.width=3, repr.plot.height=3)\n",
    "ggplot(data = diamonds, mapping = aes(x = cut, y = price)) +\n",
    "  geom_boxplot() + coord_flip()"
   ]
  },
  {
   "cell_type": "markdown",
   "metadata": {
    "slideshow": {
     "slide_type": "subslide"
    }
   },
   "source": [
    "### Relationships\n",
    "\n",
    "If variation describes the behavior within a variable, covariation describes the behavior between variables. Covariation is the tendency for the values of two or more variables to vary together in a related way. The best way to spot covariation is to visualise the relationship between two or more variables. How you do that should again depend on the type of variables involved."
   ]
  },
  {
   "cell_type": "markdown",
   "metadata": {
    "slideshow": {
     "slide_type": "subslide"
    }
   },
   "source": [
    "__Relationship between two continuous variables__\n",
    "\n",
    "Using a scatterplot with two variables you can see covariation as a pattern in the points. You can see an exponential relationship between the carat size and price of a diamond."
   ]
  },
  {
   "cell_type": "code",
   "execution_count": null,
   "metadata": {},
   "outputs": [],
   "source": [
    "options(repr.plot.width=3, repr.plot.height=3)\n",
    "ggplot(data = diamonds) + \n",
    "  geom_point(mapping = aes(x = carat, y = price), alpha = 1 / 100)"
   ]
  },
  {
   "cell_type": "markdown",
   "metadata": {
    "slideshow": {
     "slide_type": "subslide"
    }
   },
   "source": [
    "__Two categorical variables__\n",
    "\n",
    "To visualise the covariation between categorical variables, you’ll need to count the number of observations for each combination"
   ]
  },
  {
   "cell_type": "code",
   "execution_count": null,
   "metadata": {},
   "outputs": [],
   "source": [
    "options(repr.plot.width=4, repr.plot.height=3)\n",
    "ggplot(data = diamonds) +\n",
    "  geom_count(mapping = aes(x = cut, y = color))"
   ]
  },
  {
   "cell_type": "code",
   "execution_count": null,
   "metadata": {
    "slideshow": {
     "slide_type": "subslide"
    }
   },
   "outputs": [],
   "source": [
    "options(repr.plot.width=5, repr.plot.height=3)\n",
    "diamonds %>%\n",
    "    group_by(cut, color) %>%\n",
    "    mutate(avgPricePerCarat = mean(price)/mean(carat)) %>%\n",
    "    ggplot() +\n",
    "      geom_count(mapping = aes(x = cut, y = color, color = avgPricePerCarat))"
   ]
  },
  {
   "cell_type": "markdown",
   "metadata": {
    "slideshow": {
     "slide_type": "subslide"
    }
   },
   "source": [
    "### Coloring"
   ]
  },
  {
   "cell_type": "markdown",
   "metadata": {},
   "source": [
    "__Continuous data:__\n",
    "- differences between your steps should be high enough\n",
    "    - Sequential palettes (single hue vs multiple hues)\n",
    "    - Diverging palettes which emphasize extremes\n",
    "\n",
    "__Qualitative data:__\n",
    "- find colors which go well together and attract the reader’s eye\n",
    "    - Qualitative palettes"
   ]
  },
  {
   "cell_type": "markdown",
   "metadata": {
    "slideshow": {
     "slide_type": "subslide"
    }
   },
   "source": [
    "__RColorBrewer for color palettes__"
   ]
  },
  {
   "cell_type": "code",
   "execution_count": null,
   "metadata": {},
   "outputs": [],
   "source": [
    "options(repr.plot.width=7, repr.plot.height=7)\n",
    "RColorBrewer::display.brewer.all(n=NULL, type=\"all\", select=NULL, exact.n=TRUE, colorblindFriendly=FALSE)"
   ]
  },
  {
   "cell_type": "markdown",
   "metadata": {
    "slideshow": {
     "slide_type": "subslide"
    }
   },
   "source": [
    "__Using color palettes on the `diamonds`data__"
   ]
  },
  {
   "cell_type": "code",
   "execution_count": null,
   "metadata": {},
   "outputs": [],
   "source": [
    "options(repr.plot.width=5, repr.plot.height=3)\n",
    "diamonds %>% \n",
    "    sample_n(1000) %>%\n",
    "    ggplot(aes(carat, price)) +\n",
    "    geom_point(aes(colour = clarity)) -> d\n",
    "d"
   ]
  },
  {
   "cell_type": "markdown",
   "metadata": {
    "slideshow": {
     "slide_type": "subslide"
    }
   },
   "source": [
    "Select brewer palette to use - Sequential"
   ]
  },
  {
   "cell_type": "code",
   "execution_count": null,
   "metadata": {},
   "outputs": [],
   "source": [
    "d + scale_colour_brewer(palette = \"Greens\")"
   ]
  },
  {
   "cell_type": "markdown",
   "metadata": {
    "slideshow": {
     "slide_type": "subslide"
    }
   },
   "source": [
    "Select brewer palette to use - Qualitative"
   ]
  },
  {
   "cell_type": "code",
   "execution_count": null,
   "metadata": {},
   "outputs": [],
   "source": [
    "d + scale_colour_brewer(palette = \"Set1\")"
   ]
  },
  {
   "cell_type": "markdown",
   "metadata": {
    "slideshow": {
     "slide_type": "subslide"
    }
   },
   "source": [
    "`scale_fill_brewer` works just the same as `scale_colour_brewer` but for fill colours"
   ]
  },
  {
   "cell_type": "code",
   "execution_count": null,
   "metadata": {},
   "outputs": [],
   "source": [
    "diamonds %>%\n",
    "    ggplot(aes(x = price, fill = cut)) +\n",
    "    geom_histogram(position = \"dodge\", binwidth = 1000) -> p\n",
    "p + scale_fill_brewer(palette=\"Blues\")"
   ]
  },
  {
   "cell_type": "markdown",
   "metadata": {
    "slideshow": {
     "slide_type": "subslide"
    }
   },
   "source": [
    "The direction of colors can be reversed"
   ]
  },
  {
   "cell_type": "code",
   "execution_count": null,
   "metadata": {},
   "outputs": [],
   "source": [
    "p + scale_fill_brewer(direction = -1) + theme_dark()"
   ]
  },
  {
   "cell_type": "markdown",
   "metadata": {
    "slideshow": {
     "slide_type": "subslide"
    }
   },
   "source": [
    "### Faceting\n",
    "\n",
    "One way to add additional variables is with aesthetics. Another way, particularly useful for categorical variables, is to split your plot into facets, subplots that each display one subset of the data."
   ]
  },
  {
   "cell_type": "code",
   "execution_count": null,
   "metadata": {},
   "outputs": [],
   "source": [
    "options(repr.plot.width=9, repr.plot.height=4)\n",
    "diamonds %>%\n",
    "    ggplot(aes(x = price)) +\n",
    "    geom_histogram(binwidth = 1000) + \n",
    "    facet_wrap(~cut)"
   ]
  },
  {
   "cell_type": "markdown",
   "metadata": {},
   "source": [
    "# Exercises"
   ]
  },
  {
   "cell_type": "markdown",
   "metadata": {},
   "source": [
    "## 1. Changing tides of european footballing power"
   ]
  },
  {
   "cell_type": "markdown",
   "metadata": {},
   "source": [
    "Materials from John Burn-Murdoch, Financial Times \n",
    "http://johnburnmurdoch.github.io"
   ]
  },
  {
   "cell_type": "markdown",
   "metadata": {},
   "source": [
    "The top-end quality, strength-in-depth and competitive balance of European football leagues have changed markedly over the last 15 years. We want to show:"
   ]
  },
  {
   "cell_type": "markdown",
   "metadata": {},
   "source": [
    "1. Which countries have the best teams?\n",
    "\n",
    "2. Which leagues are the most/least balanced?\n",
    "\n",
    "3. What is the 'quality gap' between a given pair of leagues?\n",
    "\n",
    "4. How does the nth best team in league x today compare to its predecessors?\n",
    "\n",
    "5. How have all of the above changed over time?"
   ]
  },
  {
   "cell_type": "code",
   "execution_count": null,
   "metadata": {},
   "outputs": [],
   "source": [
    "library(tidyverse)"
   ]
  },
  {
   "cell_type": "markdown",
   "metadata": {},
   "source": [
    "Load the data"
   ]
  },
  {
   "cell_type": "code",
   "execution_count": null,
   "metadata": {},
   "outputs": [],
   "source": [
    "allSeasons <- read.csv('https://raw.githubusercontent.com/johnburnmurdoch/johnburnmurdoch.github.io/master/slides/r-ggplot/changing-tides-of-football.csv', stringsAsFactors = F)"
   ]
  },
  {
   "cell_type": "markdown",
   "metadata": {},
   "source": [
    "Get to know the data"
   ]
  },
  {
   "cell_type": "code",
   "execution_count": null,
   "metadata": {},
   "outputs": [],
   "source": [
    "# Write your code here"
   ]
  },
  {
   "cell_type": "markdown",
   "metadata": {},
   "source": [
    "1. Which countries have the best teams in 2016? \n",
    "    - filter your data\n",
    "    - look at the `score` "
   ]
  },
  {
   "cell_type": "code",
   "execution_count": null,
   "metadata": {},
   "outputs": [],
   "source": [
    "# Write your code here"
   ]
  },
  {
   "cell_type": "markdown",
   "metadata": {},
   "source": [
    "2. Which leagues are the most/least balanced in 2016?\n",
    "    - combine `rank`and `score`"
   ]
  },
  {
   "cell_type": "code",
   "execution_count": null,
   "metadata": {},
   "outputs": [],
   "source": [
    "# Write your code here"
   ]
  },
  {
   "cell_type": "markdown",
   "metadata": {},
   "source": [
    "3. What is the 'quality gap' between a given pair of leagues in 2016?\n",
    "    - Prepare a data set of two leagues ('countries')\n",
    "    - Compare the scores of the teams at each rank    "
   ]
  },
  {
   "cell_type": "code",
   "execution_count": null,
   "metadata": {},
   "outputs": [],
   "source": [
    "# Write your code here"
   ]
  },
  {
   "cell_type": "markdown",
   "metadata": {},
   "source": [
    "4. How does the nth best team in league x today compare to its predecessors in 2016?\n",
    "    - Choose and filter one league"
   ]
  },
  {
   "cell_type": "code",
   "execution_count": null,
   "metadata": {},
   "outputs": [],
   "source": [
    "# Write your code here"
   ]
  },
  {
   "cell_type": "markdown",
   "metadata": {},
   "source": [
    "alternatively,"
   ]
  },
  {
   "cell_type": "code",
   "execution_count": null,
   "metadata": {},
   "outputs": [],
   "source": [
    "# Write your code here"
   ]
  },
  {
   "cell_type": "markdown",
   "metadata": {},
   "source": [
    "5. How have all of the above changed over time? \n",
    "    - Balance of leagues\n",
    "    - Use `facet_wrap`"
   ]
  },
  {
   "cell_type": "code",
   "execution_count": null,
   "metadata": {},
   "outputs": [],
   "source": [
    "# Write your code here"
   ]
  },
  {
   "cell_type": "markdown",
   "metadata": {},
   "source": [
    "5. How have all of the above changed over time? \n",
    "     - Quality gap between a pair of leagues"
   ]
  },
  {
   "cell_type": "code",
   "execution_count": null,
   "metadata": {},
   "outputs": [],
   "source": [
    "# Write your code here"
   ]
  },
  {
   "cell_type": "markdown",
   "metadata": {
    "slideshow": {
     "slide_type": "slide"
    }
   },
   "source": [
    "## 2. Exam Questions"
   ]
  },
  {
   "cell_type": "markdown",
   "metadata": {
    "slideshow": {
     "slide_type": "subslide"
    }
   },
   "source": [
    "### 2.1 Exam AIS WS 2018/19\n",
    "__Question 2: Descriptive Analytics__\n",
    "\n",
    "(b) (3 Points) __Color palettes__: In the lecture we discussed that color palettes should reflect the underlying data types. Recommend a suitable palette choice for the following data sets:"
   ]
  },
  {
   "cell_type": "markdown",
   "metadata": {
    "slideshow": {
     "slide_type": "fragment"
    }
   },
   "source": [
    "i. (1 points) Daily stock performance measured as percent change"
   ]
  },
  {
   "cell_type": "code",
   "execution_count": null,
   "metadata": {
    "slideshow": {
     "slide_type": "fragment"
    }
   },
   "outputs": [],
   "source": [
    "# Write your answer here"
   ]
  },
  {
   "cell_type": "markdown",
   "metadata": {
    "slideshow": {
     "slide_type": "subslide"
    }
   },
   "source": [
    "ii. (1 points) Annual sales data of a single company"
   ]
  },
  {
   "cell_type": "code",
   "execution_count": null,
   "metadata": {
    "slideshow": {
     "slide_type": "fragment"
    }
   },
   "outputs": [],
   "source": [
    "# Write your answer here"
   ]
  },
  {
   "cell_type": "markdown",
   "metadata": {
    "slideshow": {
     "slide_type": "fragment"
    }
   },
   "source": [
    "iii. (1 points) Monthly earnings data of a single company"
   ]
  },
  {
   "cell_type": "code",
   "execution_count": null,
   "metadata": {
    "slideshow": {
     "slide_type": "fragment"
    }
   },
   "outputs": [],
   "source": [
    "# Write your answer here"
   ]
  },
  {
   "cell_type": "markdown",
   "metadata": {
    "slideshow": {
     "slide_type": "subslide"
    }
   },
   "source": [
    "iv. (1 points) Distinguishing different companies in stock price charts"
   ]
  },
  {
   "cell_type": "code",
   "execution_count": null,
   "metadata": {
    "slideshow": {
     "slide_type": "fragment"
    }
   },
   "outputs": [],
   "source": [
    "# Write your answer here"
   ]
  },
  {
   "cell_type": "markdown",
   "metadata": {
    "slideshow": {
     "slide_type": "fragment"
    }
   },
   "source": [
    "v. (1 points) Points in AIS exam achieved by students ranging from 0 to 60"
   ]
  },
  {
   "cell_type": "code",
   "execution_count": null,
   "metadata": {
    "slideshow": {
     "slide_type": "fragment"
    }
   },
   "outputs": [],
   "source": [
    "# Write your answer here"
   ]
  },
  {
   "cell_type": "markdown",
   "metadata": {
    "slideshow": {
     "slide_type": "fragment"
    }
   },
   "source": [
    "vi. (1 points) Coloring countries on a map based on the population's favorite sport"
   ]
  },
  {
   "cell_type": "code",
   "execution_count": null,
   "metadata": {
    "slideshow": {
     "slide_type": "fragment"
    }
   },
   "outputs": [],
   "source": [
    "# Write your answer here"
   ]
  },
  {
   "cell_type": "markdown",
   "metadata": {
    "slideshow": {
     "slide_type": "subslide"
    }
   },
   "source": [
    "### 2.2 Exam SS 2018\n",
    "__Question 2: Descriptive Analytics__\n",
    "\n",
    "(a) (4 points) __Plots and Colors__ In the lecture, you learned about different types of visualizations. Additionally, we talked about color palettes. Your task is to visualize the following data sets. Which plots and color palettes do you recommend? Sketch the plots and highlight for each data set what you are trying to achieve with your visualization."
   ]
  },
  {
   "cell_type": "markdown",
   "metadata": {
    "cell_style": "center",
    "slideshow": {
     "slide_type": "-"
    }
   },
   "source": [
    "\\begin{array}{|l|l|}\n",
    "    \\hline\n",
    "    Fund ID & Performance \\\\\n",
    "    \\hline\n",
    "    1         & $+7.03\\%$        \\\\\n",
    "    2         & $+3.14\\%$         \\\\\n",
    "    3         & $-1.12\\%$         \\\\\n",
    "    4         & $-5.87\\%$          \\\\\n",
    "    \\dots       & \\dots        \\\\\n",
    "    \\hline\n",
    "\\end{array}\n",
    "<center>\n",
    "(a) Asset Management\n",
    "<center>"
   ]
  },
  {
   "cell_type": "markdown",
   "metadata": {
    "slideshow": {
     "slide_type": "-"
    }
   },
   "source": [
    "Solution: "
   ]
  },
  {
   "cell_type": "code",
   "execution_count": null,
   "metadata": {},
   "outputs": [],
   "source": [
    "# Write your answer here"
   ]
  },
  {
   "cell_type": "markdown",
   "metadata": {
    "slideshow": {
     "slide_type": "subslide"
    }
   },
   "source": [
    "Plotting the solution using ggplot2 (___not___ in exam)"
   ]
  },
  {
   "cell_type": "code",
   "execution_count": null,
   "metadata": {
    "slideshow": {
     "slide_type": "-"
    }
   },
   "outputs": [],
   "source": [
    "library(tidyverse)\n",
    "asset_performance <- tribble(\n",
    "  ~FundID, ~Performance,\n",
    "  \"1\",     7.03,\n",
    "  \"2\",     3.14,\n",
    "  \"3\",     -1.12,\n",
    "  \"4\",     -2.84)"
   ]
  },
  {
   "cell_type": "code",
   "execution_count": null,
   "metadata": {},
   "outputs": [],
   "source": [
    "# Write your code here"
   ]
  },
  {
   "cell_type": "markdown",
   "metadata": {
    "cell_style": "center",
    "slideshow": {
     "slide_type": "subslide"
    }
   },
   "source": [
    "[...] Your task is to visualize the following data sets. Which plots and color palettes do you recommend? Sketch the plots and highlight for each data set what you are trying to achieve with your visualization.\n",
    "\n",
    "\\begin{array}{|l|l|l|}\n",
    "    \\hline\n",
    "    Employee ID & Gender & Income\\\\\n",
    "    \\hline\n",
    "    1       & male      &    80,000 \\\\\n",
    "    2       & female    &   70,000 \\\\\n",
    "    3       & male      &   35,000 \\\\\n",
    "    4       & female    &   37,000 \\\\\n",
    "    \\dots   & \\dots           & \\dots \\\\\n",
    "    \\hline\n",
    "\\end{array}\n",
    "\n",
    "<center>\n",
    "(b) Gender Pay Gap\n",
    "<center>"
   ]
  },
  {
   "cell_type": "markdown",
   "metadata": {
    "slideshow": {
     "slide_type": "-"
    }
   },
   "source": [
    "Solution:"
   ]
  },
  {
   "cell_type": "code",
   "execution_count": null,
   "metadata": {
    "slideshow": {
     "slide_type": "-"
    }
   },
   "outputs": [],
   "source": [
    "# Write your answer here"
   ]
  },
  {
   "cell_type": "markdown",
   "metadata": {
    "slideshow": {
     "slide_type": "subslide"
    }
   },
   "source": [
    "Generating sample data (___not___ in exam)"
   ]
  },
  {
   "cell_type": "code",
   "execution_count": null,
   "metadata": {},
   "outputs": [],
   "source": [
    "n=5000\n",
    "tibble(EmployeeID = 1:n,\n",
    "       Gender = sample(c(\"male\",\"female\"), size = n, replace = T)) %>%\n",
    "       mutate(Income = if_else(Gender==\"female\", \n",
    "                            rnorm(n = n, mean = 40000, sd = 5000),\n",
    "                            rnorm(n = n, mean = 45000, sd = 10000))) -> gender\n",
    "gender %>% head()"
   ]
  },
  {
   "cell_type": "markdown",
   "metadata": {
    "slideshow": {
     "slide_type": "subslide"
    }
   },
   "source": [
    "Plotting the solution using ggplot2 (___not___ in exam)"
   ]
  },
  {
   "cell_type": "code",
   "execution_count": null,
   "metadata": {},
   "outputs": [],
   "source": [
    "# Write your code here"
   ]
  }
 ],
 "metadata": {
  "celltoolbar": "Slideshow",
  "kernelspec": {
   "display_name": "R",
   "language": "R",
   "name": "ir"
  },
  "language_info": {
   "codemirror_mode": "r",
   "file_extension": ".r",
   "mimetype": "text/x-r-source",
   "name": "R",
   "pygments_lexer": "r",
   "version": "3.6.1"
  },
  "rise": {
   "enable_chalkboard": false,
   "overlay": "<div class='logo'><img src='images/uniwue4c.png'></div>",
   "scroll": true
  },
  "toc": {
   "base_numbering": 1,
   "nav_menu": {},
   "number_sections": true,
   "sideBar": true,
   "skip_h1_title": true,
   "title_cell": "Agenda",
   "title_sidebar": "Contents",
   "toc_cell": true,
   "toc_position": {},
   "toc_section_display": true,
   "toc_window_display": false
  }
 },
 "nbformat": 4,
 "nbformat_minor": 4
}
