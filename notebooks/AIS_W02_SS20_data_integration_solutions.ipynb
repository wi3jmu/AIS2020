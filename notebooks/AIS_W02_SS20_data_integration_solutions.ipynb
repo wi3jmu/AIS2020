{
 "cells": [
  {
   "cell_type": "markdown",
   "metadata": {
    "slideshow": {
     "slide_type": "slide"
    }
   },
   "source": [
    "*Analytical Information Systems*\n",
    "\n",
    "# Worksheet 2 - Data Integration\n",
    "\n",
    "Matthias Griebel<br>\n",
    "Lehrstuhl für Wirtschaftsinformatik und Informationsmanagement\n",
    "\n",
    "SS 2020"
   ]
  },
  {
   "cell_type": "markdown",
   "metadata": {},
   "source": [
    "## Exercises"
   ]
  },
  {
   "cell_type": "markdown",
   "metadata": {
    "slideshow": {
     "slide_type": "subslide"
    }
   },
   "source": [
    "### 1 Data Extraction\n",
    "\n",
    "You are provided with a set of operational data from a retail company. All files are stored online on [github](https://github.com/wi3jmu/AIS_2019/tree/master/notebooks/data/T02).\n",
    "\n",
    "- Transaction data (Comma Delimited Files): \n",
    "    - *'transactions_eng.csv'*\n",
    "    - *'transactions_ger.csv'*\n",
    "   \n",
    "- Customer data (Semi-colon Delimited Files)\n",
    "    - *'customers.csv*\n",
    "    - *'customers_usa.csv*\n",
    "\n",
    "- Product data (Excel Files)\n",
    "    - *'products_convenience.xlsx'*\n",
    "    - *'products.xlsx*"
   ]
  },
  {
   "cell_type": "markdown",
   "metadata": {
    "slideshow": {
     "slide_type": "subslide"
    }
   },
   "source": [
    "- Load the required packages"
   ]
  },
  {
   "cell_type": "code",
   "execution_count": 36,
   "metadata": {
    "slideshow": {
     "slide_type": "-"
    }
   },
   "outputs": [],
   "source": [
    "library(tidyverse) # includes the readr package\n",
    "library(readxl) # excel files\n",
    "data_url = 'https://raw.githubusercontent.com/wi3jmu/AIS_2019/master/notebooks/data/T02/'"
   ]
  },
  {
   "cell_type": "markdown",
   "metadata": {
    "slideshow": {
     "slide_type": "subslide"
    }
   },
   "source": [
    "#### 1.1 Load the provided files .csv files\n",
    "\n",
    "- Use `read_csv2`\n",
    "- Use `paste0` to concatenate the `data_url` and the file name\n",
    "\n",
    "Example:\n",
    "```R\n",
    "customers <- read_csv2(paste0(data_url, 'customers.csv'))\n",
    "```"
   ]
  },
  {
   "cell_type": "code",
   "execution_count": 2,
   "metadata": {},
   "outputs": [
    {
     "name": "stderr",
     "output_type": "stream",
     "text": [
      "Using ',' as decimal and '.' as grouping mark. Use read_delim() for more control.\n",
      "Parsed with column specification:\n",
      "cols(\n",
      "  customerID = col_double(),\n",
      "  country = col_character(),\n",
      "  gender = col_character(),\n",
      "  firstNames = col_character(),\n",
      "  lastNames = col_character()\n",
      ")\n",
      "Using ',' as decimal and '.' as grouping mark. Use read_delim() for more control.\n",
      "Parsed with column specification:\n",
      "cols(\n",
      "  customerID = col_double(),\n",
      "  country = col_character(),\n",
      "  gender = col_character(),\n",
      "  name = col_character()\n",
      ")\n",
      "Parsed with column specification:\n",
      "cols(\n",
      "  date = col_date(format = \"\"),\n",
      "  customerID = col_double(),\n",
      "  productID = col_double(),\n",
      "  payment = col_character(),\n",
      "  amount = col_double()\n",
      ")\n",
      "Parsed with column specification:\n",
      "cols(\n",
      "  Datum = col_date(format = \"\"),\n",
      "  Kundennummer = col_double(),\n",
      "  Produkt = col_double(),\n",
      "  Zahlungsmethode = col_character(),\n",
      "  Stückzahl = col_double()\n",
      ")\n"
     ]
    }
   ],
   "source": [
    "# Write your code here \n",
    "# Use read_csv for semicolon seperated files\n",
    "customers <- read_csv2(paste0(data_url, 'customers.csv'))\n",
    "customers_usa <- read_csv2(paste0(data_url, 'customers_usa.csv'))\n",
    "\n",
    "# Use read_csv for comma seperated files\n",
    "transactions_eng <- read_csv(paste0(data_url, 'transactions_eng.csv'))\n",
    "transactions_ger <- read_csv(paste0(data_url, 'transactions_ger.csv'))"
   ]
  },
  {
   "cell_type": "markdown",
   "metadata": {},
   "source": [
    "#### 1.2 Load the provided files .xlsx files\n",
    "- Firstly, download the files using `downlaod.file`\n",
    "- Read use `read_xlsx` to read excel files\n",
    "\n",
    "Example:\n",
    "```R\n",
    "download.file(url=paste0(data_url, 'products.xlsx'), destfile='products.xlsx')\n",
    "products <- read_excel('products.xlsx')\n",
    "```"
   ]
  },
  {
   "cell_type": "code",
   "execution_count": 3,
   "metadata": {},
   "outputs": [],
   "source": [
    "# Write your code here \n",
    "download.file(url=paste0(data_url, 'products.xlsx'), destfile='products.xlsx')\n",
    "products <- read_excel('products.xlsx')\n",
    "\n",
    "download.file(url=paste0(data_url, 'products.xlsx'), destfile='products_convenience.xlsx')\n",
    "products_convenience <- read_xlsx('products_convenience.xlsx')"
   ]
  },
  {
   "cell_type": "markdown",
   "metadata": {
    "slideshow": {
     "slide_type": "subslide"
    }
   },
   "source": [
    "#### 1.3 Get to know the data"
   ]
  },
  {
   "cell_type": "markdown",
   "metadata": {
    "slideshow": {
     "slide_type": "subslide"
    }
   },
   "source": [
    "Take a look at the data \n",
    "```R\n",
    "head()\n",
    "sample_n()\n",
    "```"
   ]
  },
  {
   "cell_type": "code",
   "execution_count": 4,
   "metadata": {},
   "outputs": [
    {
     "data": {
      "text/html": [
       "<table>\n",
       "<thead><tr><th scope=col>productID</th><th scope=col>price</th><th scope=col>cost</th><th scope=col>category</th></tr></thead>\n",
       "<tbody>\n",
       "\t<tr><td>25426    </td><td>146.15   </td><td> 75.92   </td><td>emergency</td></tr>\n",
       "\t<tr><td>81136    </td><td> 45.90   </td><td> 23.98   </td><td>emergency</td></tr>\n",
       "\t<tr><td>40784    </td><td>125.79   </td><td> 47.53   </td><td>specialty</td></tr>\n",
       "\t<tr><td>34082    </td><td> 40.67   </td><td> 12.21   </td><td>specialty</td></tr>\n",
       "\t<tr><td>99445    </td><td> 74.29   </td><td> 28.26   </td><td>specialty</td></tr>\n",
       "\t<tr><td>78934    </td><td>586.96   </td><td>264.75   </td><td>specialty</td></tr>\n",
       "</tbody>\n",
       "</table>\n"
      ],
      "text/latex": [
       "\\begin{tabular}{r|llll}\n",
       " productID & price & cost & category\\\\\n",
       "\\hline\n",
       "\t 25426     & 146.15    &  75.92    & emergency\\\\\n",
       "\t 81136     &  45.90    &  23.98    & emergency\\\\\n",
       "\t 40784     & 125.79    &  47.53    & specialty\\\\\n",
       "\t 34082     &  40.67    &  12.21    & specialty\\\\\n",
       "\t 99445     &  74.29    &  28.26    & specialty\\\\\n",
       "\t 78934     & 586.96    & 264.75    & specialty\\\\\n",
       "\\end{tabular}\n"
      ],
      "text/markdown": [
       "\n",
       "| productID | price | cost | category |\n",
       "|---|---|---|---|\n",
       "| 25426     | 146.15    |  75.92    | emergency |\n",
       "| 81136     |  45.90    |  23.98    | emergency |\n",
       "| 40784     | 125.79    |  47.53    | specialty |\n",
       "| 34082     |  40.67    |  12.21    | specialty |\n",
       "| 99445     |  74.29    |  28.26    | specialty |\n",
       "| 78934     | 586.96    | 264.75    | specialty |\n",
       "\n"
      ],
      "text/plain": [
       "  productID price  cost   category \n",
       "1 25426     146.15  75.92 emergency\n",
       "2 81136      45.90  23.98 emergency\n",
       "3 40784     125.79  47.53 specialty\n",
       "4 34082      40.67  12.21 specialty\n",
       "5 99445      74.29  28.26 specialty\n",
       "6 78934     586.96 264.75 specialty"
      ]
     },
     "metadata": {},
     "output_type": "display_data"
    }
   ],
   "source": [
    "# Write your code here \n",
    "# e.g.\n",
    "products_convenience %>%\n",
    "    head()"
   ]
  },
  {
   "cell_type": "markdown",
   "metadata": {
    "slideshow": {
     "slide_type": "subslide"
    }
   },
   "source": [
    "Check that all data is read in correctly\n",
    "\n",
    "```R\n",
    "nrow(), ncol(), colnames()\n",
    "```"
   ]
  },
  {
   "cell_type": "code",
   "execution_count": 5,
   "metadata": {},
   "outputs": [
    {
     "data": {
      "text/html": [
       "347"
      ],
      "text/latex": [
       "347"
      ],
      "text/markdown": [
       "347"
      ],
      "text/plain": [
       "[1] 347"
      ]
     },
     "metadata": {},
     "output_type": "display_data"
    }
   ],
   "source": [
    "# Write your code here \n",
    "# e.g.\n",
    "customers_usa %>% nrow()"
   ]
  },
  {
   "cell_type": "markdown",
   "metadata": {
    "slideshow": {
     "slide_type": "subslide"
    }
   },
   "source": [
    "Understand the rows and columns (observations and variables)\n",
    "```R\n",
    "glimpse()\n",
    "summary()\n",
    "```"
   ]
  },
  {
   "cell_type": "code",
   "execution_count": 6,
   "metadata": {},
   "outputs": [
    {
     "data": {
      "text/plain": [
       "   productID         price            cost          category        \n",
       " Min.   : 2002   Min.   :-99.0   Min.   :-99.00   Length:67         \n",
       " 1st Qu.:25228   1st Qu.:136.0   1st Qu.: 76.45   Class :character  \n",
       " Median :41910   Median :393.7   Median :171.11   Mode  :character  \n",
       " Mean   :47533   Mean   :414.2   Mean   :194.55                     \n",
       " 3rd Qu.:75684   3rd Qu.:675.9   3rd Qu.:325.40                     \n",
       " Max.   :99445   Max.   :942.0   Max.   :543.90                     "
      ]
     },
     "metadata": {},
     "output_type": "display_data"
    }
   ],
   "source": [
    "# Write your code here \n",
    "# e.g.\n",
    "products_convenience %>% \n",
    "    summary()"
   ]
  },
  {
   "cell_type": "markdown",
   "metadata": {
    "slideshow": {
     "slide_type": "subslide"
    }
   },
   "source": [
    "### 2 Data Tranformation\n",
    "\n",
    "#### 2.1 Resolve 1st class deficiencies\n",
    "\n",
    "Find the syntactic in the products convenience data sets\n",
    "\n",
    "- `products_convenience`: look at price and costs\n",
    "- `customers_usa`: look at the names"
   ]
  },
  {
   "cell_type": "code",
   "execution_count": 7,
   "metadata": {},
   "outputs": [
    {
     "data": {
      "text/html": [
       "<table>\n",
       "<thead><tr><th scope=col>productID</th><th scope=col>price</th><th scope=col>cost</th><th scope=col>category</th></tr></thead>\n",
       "<tbody>\n",
       "\t<tr><td>25426    </td><td>146.15   </td><td> 75.92   </td><td>emergency</td></tr>\n",
       "\t<tr><td>81136    </td><td> 45.90   </td><td> 23.98   </td><td>emergency</td></tr>\n",
       "\t<tr><td>40784    </td><td>125.79   </td><td> 47.53   </td><td>specialty</td></tr>\n",
       "\t<tr><td>34082    </td><td> 40.67   </td><td> 12.21   </td><td>specialty</td></tr>\n",
       "\t<tr><td>99445    </td><td> 74.29   </td><td> 28.26   </td><td>specialty</td></tr>\n",
       "\t<tr><td>78934    </td><td>586.96   </td><td>264.75   </td><td>specialty</td></tr>\n",
       "\t<tr><td>70159    </td><td>905.96   </td><td>345.40   </td><td>emergency</td></tr>\n",
       "\t<tr><td>50304    </td><td> 95.66   </td><td> 30.34   </td><td>specialty</td></tr>\n",
       "\t<tr><td>10130    </td><td>767.88   </td><td>417.93   </td><td>specialty</td></tr>\n",
       "\t<tr><td> 2002    </td><td>799.99   </td><td>407.30   </td><td>emergency</td></tr>\n",
       "</tbody>\n",
       "</table>\n"
      ],
      "text/latex": [
       "\\begin{tabular}{r|llll}\n",
       " productID & price & cost & category\\\\\n",
       "\\hline\n",
       "\t 25426     & 146.15    &  75.92    & emergency\\\\\n",
       "\t 81136     &  45.90    &  23.98    & emergency\\\\\n",
       "\t 40784     & 125.79    &  47.53    & specialty\\\\\n",
       "\t 34082     &  40.67    &  12.21    & specialty\\\\\n",
       "\t 99445     &  74.29    &  28.26    & specialty\\\\\n",
       "\t 78934     & 586.96    & 264.75    & specialty\\\\\n",
       "\t 70159     & 905.96    & 345.40    & emergency\\\\\n",
       "\t 50304     &  95.66    &  30.34    & specialty\\\\\n",
       "\t 10130     & 767.88    & 417.93    & specialty\\\\\n",
       "\t  2002     & 799.99    & 407.30    & emergency\\\\\n",
       "\\end{tabular}\n"
      ],
      "text/markdown": [
       "\n",
       "| productID | price | cost | category |\n",
       "|---|---|---|---|\n",
       "| 25426     | 146.15    |  75.92    | emergency |\n",
       "| 81136     |  45.90    |  23.98    | emergency |\n",
       "| 40784     | 125.79    |  47.53    | specialty |\n",
       "| 34082     |  40.67    |  12.21    | specialty |\n",
       "| 99445     |  74.29    |  28.26    | specialty |\n",
       "| 78934     | 586.96    | 264.75    | specialty |\n",
       "| 70159     | 905.96    | 345.40    | emergency |\n",
       "| 50304     |  95.66    |  30.34    | specialty |\n",
       "| 10130     | 767.88    | 417.93    | specialty |\n",
       "|  2002     | 799.99    | 407.30    | emergency |\n",
       "\n"
      ],
      "text/plain": [
       "   productID price  cost   category \n",
       "1  25426     146.15  75.92 emergency\n",
       "2  81136      45.90  23.98 emergency\n",
       "3  40784     125.79  47.53 specialty\n",
       "4  34082      40.67  12.21 specialty\n",
       "5  99445      74.29  28.26 specialty\n",
       "6  78934     586.96 264.75 specialty\n",
       "7  70159     905.96 345.40 emergency\n",
       "8  50304      95.66  30.34 specialty\n",
       "9  10130     767.88 417.93 specialty\n",
       "10  2002     799.99 407.30 emergency"
      ]
     },
     "metadata": {},
     "output_type": "display_data"
    }
   ],
   "source": [
    "# Write your code here \n",
    "products_convenience %>% head(10)"
   ]
  },
  {
   "cell_type": "code",
   "execution_count": 8,
   "metadata": {},
   "outputs": [
    {
     "data": {
      "text/html": [
       "<table>\n",
       "<thead><tr><th scope=col>customerID</th><th scope=col>country</th><th scope=col>gender</th><th scope=col>name</th></tr></thead>\n",
       "<tbody>\n",
       "\t<tr><td>97218           </td><td>usa             </td><td>m               </td><td>Daleel, el-Sinai</td></tr>\n",
       "\t<tr><td>71221           </td><td>usa             </td><td>m               </td><td>Waseef, Sharma  </td></tr>\n",
       "\t<tr><td>39248           </td><td>usa             </td><td>f               </td><td>Jessica, el-Taha</td></tr>\n",
       "\t<tr><td>41419           </td><td>usa             </td><td>f               </td><td>Hannah, Cung    </td></tr>\n",
       "\t<tr><td>55495           </td><td>usa             </td><td>f               </td><td>Chelsea, Vang   </td></tr>\n",
       "\t<tr><td>17358           </td><td>usa             </td><td>f               </td><td>Ashley, Marler  </td></tr>\n",
       "\t<tr><td>86957           </td><td>usa             </td><td>f               </td><td>Tiegen, Chambers</td></tr>\n",
       "\t<tr><td>65343           </td><td>usa             </td><td>m               </td><td>Marwaan, Estrada</td></tr>\n",
       "\t<tr><td>85419           </td><td>usa             </td><td>m               </td><td>Jeramiah, Brame </td></tr>\n",
       "\t<tr><td>79896           </td><td>usa             </td><td>f               </td><td>Zeinab, Brown   </td></tr>\n",
       "</tbody>\n",
       "</table>\n"
      ],
      "text/latex": [
       "\\begin{tabular}{r|llll}\n",
       " customerID & country & gender & name\\\\\n",
       "\\hline\n",
       "\t 97218            & usa              & m                & Daleel, el-Sinai\\\\\n",
       "\t 71221            & usa              & m                & Waseef, Sharma  \\\\\n",
       "\t 39248            & usa              & f                & Jessica, el-Taha\\\\\n",
       "\t 41419            & usa              & f                & Hannah, Cung    \\\\\n",
       "\t 55495            & usa              & f                & Chelsea, Vang   \\\\\n",
       "\t 17358            & usa              & f                & Ashley, Marler  \\\\\n",
       "\t 86957            & usa              & f                & Tiegen, Chambers\\\\\n",
       "\t 65343            & usa              & m                & Marwaan, Estrada\\\\\n",
       "\t 85419            & usa              & m                & Jeramiah, Brame \\\\\n",
       "\t 79896            & usa              & f                & Zeinab, Brown   \\\\\n",
       "\\end{tabular}\n"
      ],
      "text/markdown": [
       "\n",
       "| customerID | country | gender | name |\n",
       "|---|---|---|---|\n",
       "| 97218            | usa              | m                | Daleel, el-Sinai |\n",
       "| 71221            | usa              | m                | Waseef, Sharma   |\n",
       "| 39248            | usa              | f                | Jessica, el-Taha |\n",
       "| 41419            | usa              | f                | Hannah, Cung     |\n",
       "| 55495            | usa              | f                | Chelsea, Vang    |\n",
       "| 17358            | usa              | f                | Ashley, Marler   |\n",
       "| 86957            | usa              | f                | Tiegen, Chambers |\n",
       "| 65343            | usa              | m                | Marwaan, Estrada |\n",
       "| 85419            | usa              | m                | Jeramiah, Brame  |\n",
       "| 79896            | usa              | f                | Zeinab, Brown    |\n",
       "\n"
      ],
      "text/plain": [
       "   customerID country gender name            \n",
       "1  97218      usa     m      Daleel, el-Sinai\n",
       "2  71221      usa     m      Waseef, Sharma  \n",
       "3  39248      usa     f      Jessica, el-Taha\n",
       "4  41419      usa     f      Hannah, Cung    \n",
       "5  55495      usa     f      Chelsea, Vang   \n",
       "6  17358      usa     f      Ashley, Marler  \n",
       "7  86957      usa     f      Tiegen, Chambers\n",
       "8  65343      usa     m      Marwaan, Estrada\n",
       "9  85419      usa     m      Jeramiah, Brame \n",
       "10 79896      usa     f      Zeinab, Brown   "
      ]
     },
     "metadata": {},
     "output_type": "display_data"
    }
   ],
   "source": [
    "# Write your code here \n",
    "customers_usa %>% head(10)"
   ]
  },
  {
   "cell_type": "markdown",
   "metadata": {
    "slideshow": {
     "slide_type": "subslide"
    }
   },
   "source": [
    "Implement transformation rules to resolve the deficiencies\n",
    "- Transformation rules can be implemented as pipes\n",
    "- You will have to use mutate() in combination with *str_replace()* and/or *str_split()*"
   ]
  },
  {
   "cell_type": "code",
   "execution_count": 9,
   "metadata": {},
   "outputs": [],
   "source": [
    "# Write your code here \n",
    "products_convenience %>%\n",
    "    mutate(price = as.numeric(str_replace(price,' €', \"\")),\n",
    "           cost = as.numeric(str_replace(cost, ' €', \"\"))) -> products_convenience"
   ]
  },
  {
   "cell_type": "code",
   "execution_count": 10,
   "metadata": {},
   "outputs": [],
   "source": [
    "# Write your code here \n",
    "customers_usa %>%\n",
    "    mutate(firstNames = str_split(string = name, pattern = ', ', simplify = TRUE)[, 1],\n",
    "           lastNames = str_split(string = name, pattern = ', ', simplify = TRUE)[, 2]) %>%\n",
    "    select(-name) -> customers_usa"
   ]
  },
  {
   "cell_type": "markdown",
   "metadata": {
    "slideshow": {
     "slide_type": "subslide"
    }
   },
   "source": [
    "#### 2. Resolve 2<sup>nd</sup> class deficiencies*\n",
    "\n",
    "- Perform plausibility checks (min, mean, max, …) to identify deficiencies in the product data \n"
   ]
  },
  {
   "cell_type": "code",
   "execution_count": 11,
   "metadata": {},
   "outputs": [
    {
     "data": {
      "text/plain": [
       "   productID         price            cost          category        \n",
       " Min.   : 2002   Min.   :-99.0   Min.   :-99.00   Length:67         \n",
       " 1st Qu.:25228   1st Qu.:136.0   1st Qu.: 76.45   Class :character  \n",
       " Median :41910   Median :393.7   Median :171.11   Mode  :character  \n",
       " Mean   :47533   Mean   :414.2   Mean   :194.55                     \n",
       " 3rd Qu.:75684   3rd Qu.:675.9   3rd Qu.:325.40                     \n",
       " Max.   :99445   Max.   :942.0   Max.   :543.90                     "
      ]
     },
     "metadata": {},
     "output_type": "display_data"
    }
   ],
   "source": [
    "# Write your code here \n",
    "products %>%\n",
    "    summary()"
   ]
  },
  {
   "cell_type": "code",
   "execution_count": 12,
   "metadata": {},
   "outputs": [
    {
     "data": {
      "text/plain": [
       "   productID         price            cost          category        \n",
       " Min.   : 2002   Min.   :-99.0   Min.   :-99.00   Length:67         \n",
       " 1st Qu.:25228   1st Qu.:136.0   1st Qu.: 76.45   Class :character  \n",
       " Median :41910   Median :393.7   Median :171.11   Mode  :character  \n",
       " Mean   :47533   Mean   :414.2   Mean   :194.55                     \n",
       " 3rd Qu.:75684   3rd Qu.:675.9   3rd Qu.:325.40                     \n",
       " Max.   :99445   Max.   :942.0   Max.   :543.90                     "
      ]
     },
     "metadata": {},
     "output_type": "display_data"
    }
   ],
   "source": [
    "# Write your code here \n",
    "products_convenience %>%\n",
    "    summary()"
   ]
  },
  {
   "cell_type": "markdown",
   "metadata": {
    "cell_style": "center",
    "slideshow": {
     "slide_type": "subslide"
    }
   },
   "source": [
    "- Implement transformation rules to resolve the deficiencies. <br> If you identify errors or missing values you can either:\n",
    "    - Keep the errors / missing values\n",
    "    - Remove the observations\n",
    "    - Impute the values"
   ]
  },
  {
   "cell_type": "code",
   "execution_count": 13,
   "metadata": {},
   "outputs": [],
   "source": [
    "# Write your code here \n",
    "# remove\n",
    "products %>%\n",
    "    filter(cost >= 0, price >= 0) -> products_fil\n",
    "products_convenience %>%\n",
    "    filter(cost >= 0, price >= 0) -> products_convenience_fil"
   ]
  },
  {
   "cell_type": "code",
   "execution_count": 14,
   "metadata": {},
   "outputs": [],
   "source": [
    "# impute (example only, not used further)\n",
    "# products %>%\n",
    "#    mutate(price = if_else(price < 0, mean(price), price),\n",
    "#           cost = if_else(cost < 0, mean(cost), cost)) "
   ]
  },
  {
   "cell_type": "markdown",
   "metadata": {
    "slideshow": {
     "slide_type": "subslide"
    }
   },
   "source": [
    "#### 2.3 Resolve 3<sup>rd</sup> class deficiencies*\n",
    "\n",
    "- Find the semantic 3<sup>rd</sup> class deficiencies in the customer data\n",
    "    - `customer`: Take a closer look at the countries"
   ]
  },
  {
   "cell_type": "code",
   "execution_count": 15,
   "metadata": {},
   "outputs": [
    {
     "data": {
      "text/html": [
       "<table>\n",
       "<thead><tr><th scope=col>country</th></tr></thead>\n",
       "<tbody>\n",
       "\t<tr><td>uk  </td></tr>\n",
       "\t<tr><td>ger </td></tr>\n",
       "\t<tr><td>moon</td></tr>\n",
       "</tbody>\n",
       "</table>\n"
      ],
      "text/latex": [
       "\\begin{tabular}{r|l}\n",
       " country\\\\\n",
       "\\hline\n",
       "\t uk  \\\\\n",
       "\t ger \\\\\n",
       "\t moon\\\\\n",
       "\\end{tabular}\n"
      ],
      "text/markdown": [
       "\n",
       "| country |\n",
       "|---|\n",
       "| uk   |\n",
       "| ger  |\n",
       "| moon |\n",
       "\n"
      ],
      "text/plain": [
       "  country\n",
       "1 uk     \n",
       "2 ger    \n",
       "3 moon   "
      ]
     },
     "metadata": {},
     "output_type": "display_data"
    }
   ],
   "source": [
    "# Write your code here \n",
    "customers %>%\n",
    "    distinct(country)"
   ]
  },
  {
   "cell_type": "markdown",
   "metadata": {
    "slideshow": {
     "slide_type": "subslide"
    }
   },
   "source": [
    "- Resolve the deficiencies"
   ]
  },
  {
   "cell_type": "code",
   "execution_count": 16,
   "metadata": {},
   "outputs": [],
   "source": [
    "# Write your code here \n",
    "customers %>%\n",
    "    filter(country != 'moon') -> customers_filtered"
   ]
  },
  {
   "cell_type": "markdown",
   "metadata": {
    "slideshow": {
     "slide_type": "subslide"
    }
   },
   "source": [
    "#### 2.4 Data Harmonization - Schema Heterogeneity\n",
    "\n",
    "Find and harmonize schema heterogeneity in transaction data sets\n",
    "- Look at the attribute names\n",
    "- Adjust the transactions_ger to the schema of transactions_eng"
   ]
  },
  {
   "cell_type": "code",
   "execution_count": 17,
   "metadata": {},
   "outputs": [
    {
     "data": {
      "text/html": [
       "<ol class=list-inline>\n",
       "\t<li>'Datum'</li>\n",
       "\t<li>'Kundennummer'</li>\n",
       "\t<li>'Produkt'</li>\n",
       "\t<li>'Zahlungsmethode'</li>\n",
       "\t<li>'Stückzahl'</li>\n",
       "</ol>\n"
      ],
      "text/latex": [
       "\\begin{enumerate*}\n",
       "\\item 'Datum'\n",
       "\\item 'Kundennummer'\n",
       "\\item 'Produkt'\n",
       "\\item 'Zahlungsmethode'\n",
       "\\item 'Stückzahl'\n",
       "\\end{enumerate*}\n"
      ],
      "text/markdown": [
       "1. 'Datum'\n",
       "2. 'Kundennummer'\n",
       "3. 'Produkt'\n",
       "4. 'Zahlungsmethode'\n",
       "5. 'Stückzahl'\n",
       "\n",
       "\n"
      ],
      "text/plain": [
       "[1] \"Datum\"           \"Kundennummer\"    \"Produkt\"         \"Zahlungsmethode\"\n",
       "[5] \"Stückzahl\"      "
      ]
     },
     "metadata": {},
     "output_type": "display_data"
    },
    {
     "data": {
      "text/html": [
       "<ol class=list-inline>\n",
       "\t<li>'date'</li>\n",
       "\t<li>'customerID'</li>\n",
       "\t<li>'productID'</li>\n",
       "\t<li>'payment'</li>\n",
       "\t<li>'amount'</li>\n",
       "</ol>\n"
      ],
      "text/latex": [
       "\\begin{enumerate*}\n",
       "\\item 'date'\n",
       "\\item 'customerID'\n",
       "\\item 'productID'\n",
       "\\item 'payment'\n",
       "\\item 'amount'\n",
       "\\end{enumerate*}\n"
      ],
      "text/markdown": [
       "1. 'date'\n",
       "2. 'customerID'\n",
       "3. 'productID'\n",
       "4. 'payment'\n",
       "5. 'amount'\n",
       "\n",
       "\n"
      ],
      "text/plain": [
       "[1] \"date\"       \"customerID\" \"productID\"  \"payment\"    \"amount\"    "
      ]
     },
     "metadata": {},
     "output_type": "display_data"
    }
   ],
   "source": [
    "# Write your code here \n",
    "colnames(transactions_ger)\n",
    "colnames(transactions_eng)\n",
    "\n",
    "colnames(transactions_ger) <- colnames(transactions_eng)"
   ]
  },
  {
   "cell_type": "markdown",
   "metadata": {
    "slideshow": {
     "slide_type": "subslide"
    }
   },
   "source": [
    "#### 2.4 Data Harmonization - Data-level Heterogeneity\n",
    "\n",
    "Find and harmonize data-level heterogeneity in the customer data sets\n",
    "- Take a closer look to the variables names as well as the variable values\n",
    "- Adjust the `customers_usa` to the schema of `customers`"
   ]
  },
  {
   "cell_type": "code",
   "execution_count": 18,
   "metadata": {},
   "outputs": [],
   "source": [
    "# Write your code here \n",
    "customers_usa %>%\n",
    "        mutate(gender = str_replace(gender, \"m\", \"Male\")) %>%\n",
    "        mutate(gender = str_replace(gender, \"f\", \"Female\")) -> customers_usa_harmonized"
   ]
  },
  {
   "cell_type": "markdown",
   "metadata": {
    "slideshow": {
     "slide_type": "subslide"
    }
   },
   "source": [
    "#### 2.5 Combine the data\n",
    "\n",
    "- Combine the harmonised data sets\n",
    "    - Create three new data sets: `customers`, `transactions`, `products`\n",
    "    - Use *bind_rows()* for binding multiple data frames by row"
   ]
  },
  {
   "cell_type": "code",
   "execution_count": 19,
   "metadata": {},
   "outputs": [],
   "source": [
    "# Write your code here \n",
    "transactions_eng %>%\n",
    "    bind_rows(transactions_ger) -> transactions\n",
    "\n",
    "products_fil %>%\n",
    "    bind_rows(products_convenience_fil) -> products\n",
    "\n",
    "customers_filtered %>%\n",
    "    bind_rows(customers_usa_harmonized) -> customers"
   ]
  },
  {
   "cell_type": "markdown",
   "metadata": {
    "slideshow": {
     "slide_type": "subslide"
    }
   },
   "source": [
    "- Join the three data sets into one data final data frame"
   ]
  },
  {
   "cell_type": "code",
   "execution_count": 21,
   "metadata": {},
   "outputs": [
    {
     "name": "stderr",
     "output_type": "stream",
     "text": [
      "Joining, by = \"productID\"\n",
      "Joining, by = \"customerID\"\n"
     ]
    }
   ],
   "source": [
    "# Write your code here \n",
    "transactions %>%\n",
    "    left_join(products) %>%\n",
    "    left_join(customers) -> data_combined"
   ]
  },
  {
   "cell_type": "markdown",
   "metadata": {
    "slideshow": {
     "slide_type": "subslide"
    }
   },
   "source": [
    "#### 2.6 Enrich the data\n",
    "\n",
    "Create two new variables:\n",
    "    - revenue per transaction\n",
    "    - profit per transaction"
   ]
  },
  {
   "cell_type": "code",
   "execution_count": 22,
   "metadata": {},
   "outputs": [],
   "source": [
    "# Write your code here \n",
    "data_combined %>%\n",
    "    mutate(revenue = amount * price,\n",
    "           profit = revenue - amount * cost) -> data_enriched"
   ]
  },
  {
   "cell_type": "markdown",
   "metadata": {},
   "source": [
    "### 3 Data Loading"
   ]
  },
  {
   "cell_type": "markdown",
   "metadata": {
    "slideshow": {
     "slide_type": "subslide"
    }
   },
   "source": [
    "We’ll first create an in-memory SQLite database. We also need to install the `RSQLite` package."
   ]
  },
  {
   "cell_type": "code",
   "execution_count": 23,
   "metadata": {},
   "outputs": [],
   "source": [
    "#install.packages('RSQLite')\n",
    "con <- DBI::dbConnect(RSQLite::SQLite(), \":memory:\")"
   ]
  },
  {
   "cell_type": "markdown",
   "metadata": {
    "slideshow": {
     "slide_type": "fragment"
    }
   },
   "source": [
    "and copy over our dataset"
   ]
  },
  {
   "cell_type": "code",
   "execution_count": 24,
   "metadata": {},
   "outputs": [],
   "source": [
    "copy_to(con, data_enriched)"
   ]
  },
  {
   "cell_type": "markdown",
   "metadata": {
    "slideshow": {
     "slide_type": "subslide"
    }
   },
   "source": [
    "Now you can retrieve a table using `tbl()` . Printing it just retrieves the first few rows:"
   ]
  },
  {
   "cell_type": "code",
   "execution_count": 25,
   "metadata": {},
   "outputs": [
    {
     "data": {
      "text/plain": [
       "# Source:   table<data_enriched> [?? x 14]\n",
       "# Database: sqlite 3.22.0 [:memory:]\n",
       "    date customerID productID payment amount price  cost category country gender\n",
       "   <dbl>      <dbl>     <dbl> <chr>    <dbl> <dbl> <dbl> <chr>    <chr>   <chr> \n",
       " 1 17285      13582     88744 cash         2   NA    NA  <NA>     uk      Male  \n",
       " 2 17328      45708     16105 credit…      3   NA    NA  <NA>     usa     Male  \n",
       " 3 17507      85419     93187 cash         2   NA    NA  <NA>     usa     Male  \n",
       " 4 17182      64292      8403 paypal       3  561.  235. emergen… uk      Male  \n",
       " 5 17182      64292      8403 paypal       3  561.  235. emergen… uk      Male  \n",
       " 6 17394      41174      7234 paypal       3  351.  171. special… usa     Female\n",
       " 7 17394      41174      7234 paypal       3  351.  171. special… usa     Female\n",
       " 8 17380      99042     57590 credit…      3   NA    NA  <NA>     usa     Female\n",
       " 9 17465      49737     32738 paypal       3  343.  105. emergen… uk      Female\n",
       "10 17465      49737     32738 paypal       3  343.  105. emergen… uk      Female\n",
       "# … with more rows, and 4 more variables: firstNames <chr>, lastNames <chr>,\n",
       "#   revenue <dbl>, profit <dbl>"
      ]
     },
     "metadata": {},
     "output_type": "display_data"
    }
   ],
   "source": [
    "db <- tbl(con, \"data_enriched\")\n",
    "db"
   ]
  },
  {
   "cell_type": "markdown",
   "metadata": {
    "slideshow": {
     "slide_type": "subslide"
    }
   },
   "source": [
    "- (Lazily) generate query"
   ]
  },
  {
   "cell_type": "code",
   "execution_count": 26,
   "metadata": {},
   "outputs": [],
   "source": [
    "db %>%\n",
    "    filter(payment == 'cash') %>%\n",
    "    summarise(MeanAmount = mean(amount, na.rm = TRUE)) -> summary"
   ]
  },
  {
   "cell_type": "markdown",
   "metadata": {
    "slideshow": {
     "slide_type": "fragment"
    }
   },
   "source": [
    "- See query"
   ]
  },
  {
   "cell_type": "code",
   "execution_count": 27,
   "metadata": {},
   "outputs": [
    {
     "name": "stdout",
     "output_type": "stream",
     "text": [
      "<SQL>\n"
     ]
    },
    {
     "name": "stderr",
     "output_type": "stream",
     "text": [
      "Warning message:\n",
      "“`overscope_eval_next()` is deprecated as of rlang 0.2.0.\n",
      "Please use `eval_tidy()` with a data mask instead.\n",
      "This warning is displayed once per session.”Warning message:\n",
      "“`overscope_clean()` is deprecated as of rlang 0.2.0.\n",
      "This warning is displayed once per session.”"
     ]
    },
    {
     "name": "stdout",
     "output_type": "stream",
     "text": [
      "SELECT AVG(`amount`) AS `MeanAmount`\n",
      "FROM `data_enriched`\n",
      "WHERE (`payment` = 'cash')\n"
     ]
    }
   ],
   "source": [
    "summary %>% \n",
    "    show_query()"
   ]
  },
  {
   "cell_type": "markdown",
   "metadata": {
    "slideshow": {
     "slide_type": "fragment"
    }
   },
   "source": [
    "- Execute query and retrieve results"
   ]
  },
  {
   "cell_type": "code",
   "execution_count": 28,
   "metadata": {},
   "outputs": [
    {
     "data": {
      "text/html": [
       "<table>\n",
       "<thead><tr><th scope=col>MeanAmount</th></tr></thead>\n",
       "<tbody>\n",
       "\t<tr><td>1.996989</td></tr>\n",
       "</tbody>\n",
       "</table>\n"
      ],
      "text/latex": [
       "\\begin{tabular}{r|l}\n",
       " MeanAmount\\\\\n",
       "\\hline\n",
       "\t 1.996989\\\\\n",
       "\\end{tabular}\n"
      ],
      "text/markdown": [
       "\n",
       "| MeanAmount |\n",
       "|---|\n",
       "| 1.996989 |\n",
       "\n"
      ],
      "text/plain": [
       "  MeanAmount\n",
       "1 1.996989  "
      ]
     },
     "metadata": {},
     "output_type": "display_data"
    }
   ],
   "source": [
    "summary %>% \n",
    "    collect()"
   ]
  },
  {
   "cell_type": "markdown",
   "metadata": {
    "slideshow": {
     "slide_type": "subslide"
    }
   },
   "source": [
    "#### 3.1 Analyze the data\n",
    "\n",
    "Use the database connection to answer the following question:\n",
    "\n",
    "__How much profit did the company realize in 2017?__"
   ]
  },
  {
   "cell_type": "markdown",
   "metadata": {
    "slideshow": {
     "slide_type": "fragment"
    }
   },
   "source": [
    "- Generate query"
   ]
  },
  {
   "cell_type": "code",
   "execution_count": 29,
   "metadata": {},
   "outputs": [],
   "source": [
    "# Write your code here\n",
    "db %>%\n",
    "    summarise(totalProfit = sum(profit, na.rm = TRUE)) -> profit"
   ]
  },
  {
   "cell_type": "markdown",
   "metadata": {
    "slideshow": {
     "slide_type": "fragment"
    }
   },
   "source": [
    "- See query"
   ]
  },
  {
   "cell_type": "code",
   "execution_count": 30,
   "metadata": {
    "slideshow": {
     "slide_type": "-"
    }
   },
   "outputs": [
    {
     "name": "stdout",
     "output_type": "stream",
     "text": [
      "<SQL>\n",
      "SELECT SUM(`profit`) AS `totalProfit`\n",
      "FROM `data_enriched`\n"
     ]
    }
   ],
   "source": [
    "# Write your code here \n",
    "profit %>% \n",
    "    show_query()"
   ]
  },
  {
   "cell_type": "markdown",
   "metadata": {
    "slideshow": {
     "slide_type": "fragment"
    }
   },
   "source": [
    "- Execute query and retrieve results"
   ]
  },
  {
   "cell_type": "code",
   "execution_count": 31,
   "metadata": {
    "slideshow": {
     "slide_type": "-"
    }
   },
   "outputs": [
    {
     "data": {
      "text/html": [
       "<table>\n",
       "<thead><tr><th scope=col>totalProfit</th></tr></thead>\n",
       "<tbody>\n",
       "\t<tr><td>11483190</td></tr>\n",
       "</tbody>\n",
       "</table>\n"
      ],
      "text/latex": [
       "\\begin{tabular}{r|l}\n",
       " totalProfit\\\\\n",
       "\\hline\n",
       "\t 11483190\\\\\n",
       "\\end{tabular}\n"
      ],
      "text/markdown": [
       "\n",
       "| totalProfit |\n",
       "|---|\n",
       "| 11483190 |\n",
       "\n"
      ],
      "text/plain": [
       "  totalProfit\n",
       "1 11483190   "
      ]
     },
     "metadata": {},
     "output_type": "display_data"
    }
   ],
   "source": [
    "# Write your code here \n",
    "profit %>% \n",
    "    collect()"
   ]
  },
  {
   "cell_type": "markdown",
   "metadata": {
    "slideshow": {
     "slide_type": "subslide"
    }
   },
   "source": [
    "### 4 Exam Questions\n",
    "\n",
    "Exam AIS SS 2018, Question 1\n",
    "\n",
    "__Data Engineering & Integration (10 points)__"
   ]
  },
  {
   "cell_type": "markdown",
   "metadata": {
    "slideshow": {
     "slide_type": "fragment"
    }
   },
   "source": [
    "(a) __Getting orders in order__: You are working for a major online retailer who is interested in optimizing internal logistics processes. A key problem in this context is the handling of __orders with a single line item__ vs. __orders with multiple line items__.\n",
    "\n",
    "The cornerstone of your analysis is an orders table with the following structure:<br>\n",
    "\n",
    "<left>\n",
    "    \n",
    "\\begin{array}{cccc}  \n",
    "\\hline\n",
    "productID & quantity & orderID  \\\\ \n",
    "  \\hline\n",
    "...&...&...\\\\\n",
    "\\end{array}\n",
    "    \n",
    "</left>"
   ]
  },
  {
   "cell_type": "markdown",
   "metadata": {
    "slideshow": {
     "slide_type": "subslide"
    }
   },
   "source": [
    "i. (1 points) Explain (verbally or in pseudo code) how you would identify the number of orders with a single line item from this data base."
   ]
  },
  {
   "cell_type": "code",
   "execution_count": 32,
   "metadata": {
    "cell_style": "split",
    "slideshow": {
     "slide_type": "fragment"
    }
   },
   "outputs": [],
   "source": [
    "# Toy example for demonstration\n",
    "order_data = tribble(\n",
    "     ~productID, ~quantity, ~orderID,\n",
    "    \"Prod1\",     2,         \"Ord1\",\n",
    "    \"Prod2\",     3,         \"Ord1\",\n",
    "    \"Prod3\",     4,         \"Ord1\",\n",
    "    \"Prod2\",     5,         \"Ord2\",\n",
    "    \"Prod1\",     2,         \"Ord3\",\n",
    "    \"Prod3\",     1,         \"Ord3\",\n",
    "    \"Prod3\",     1,         \"Ord4\")"
   ]
  },
  {
   "cell_type": "code",
   "execution_count": 33,
   "metadata": {
    "cell_style": "split",
    "slideshow": {
     "slide_type": "fragment"
    }
   },
   "outputs": [
    {
     "data": {
      "text/html": [
       "2"
      ],
      "text/latex": [
       "2"
      ],
      "text/markdown": [
       "2"
      ],
      "text/plain": [
       "[1] 2"
      ]
     },
     "metadata": {},
     "output_type": "display_data"
    }
   ],
   "source": [
    "# Write your code here \n",
    "order_data %>%\n",
    "    group_by(orderID) %>%\n",
    "    filter(n() == 1) %>%\n",
    "    nrow()"
   ]
  },
  {
   "cell_type": "markdown",
   "metadata": {},
   "source": [
    "or alternatively,"
   ]
  },
  {
   "cell_type": "code",
   "execution_count": 34,
   "metadata": {},
   "outputs": [
    {
     "data": {
      "text/html": [
       "2"
      ],
      "text/latex": [
       "2"
      ],
      "text/markdown": [
       "2"
      ],
      "text/plain": [
       "[1] 2"
      ]
     },
     "metadata": {},
     "output_type": "display_data"
    }
   ],
   "source": [
    "order_data %>%\n",
    "    group_by(orderID) %>%\n",
    "    summarise(nItems = n()) %>%\n",
    "    filter(nItems == 1) %>%\n",
    "    nrow()"
   ]
  },
  {
   "cell_type": "markdown",
   "metadata": {
    "slideshow": {
     "slide_type": "subslide"
    }
   },
   "source": [
    "i. (2 points) The frontend reporting tool used by the logistics department cannot handle data sets with more than 1 million rows. Yet your order table has many more rows. Recognizing that individual product IDs are not crucial for the logistics process analysis (handling times are determined by the number of products in an order) you are approached to provide ___a compact representation which retains the structure (number of line items) of the order invoices___. Explain how this can be achieved by means of clever aggregation."
   ]
  },
  {
   "cell_type": "code",
   "execution_count": 35,
   "metadata": {
    "slideshow": {
     "slide_type": "fragment"
    }
   },
   "outputs": [
    {
     "data": {
      "text/html": [
       "<table>\n",
       "<thead><tr><th scope=col>orderID</th><th scope=col>nItems</th></tr></thead>\n",
       "<tbody>\n",
       "\t<tr><td>Ord1</td><td>3   </td></tr>\n",
       "\t<tr><td>Ord2</td><td>1   </td></tr>\n",
       "\t<tr><td>Ord3</td><td>2   </td></tr>\n",
       "\t<tr><td>Ord4</td><td>1   </td></tr>\n",
       "</tbody>\n",
       "</table>\n"
      ],
      "text/latex": [
       "\\begin{tabular}{r|ll}\n",
       " orderID & nItems\\\\\n",
       "\\hline\n",
       "\t Ord1 & 3   \\\\\n",
       "\t Ord2 & 1   \\\\\n",
       "\t Ord3 & 2   \\\\\n",
       "\t Ord4 & 1   \\\\\n",
       "\\end{tabular}\n"
      ],
      "text/markdown": [
       "\n",
       "| orderID | nItems |\n",
       "|---|---|\n",
       "| Ord1 | 3    |\n",
       "| Ord2 | 1    |\n",
       "| Ord3 | 2    |\n",
       "| Ord4 | 1    |\n",
       "\n"
      ],
      "text/plain": [
       "  orderID nItems\n",
       "1 Ord1    3     \n",
       "2 Ord2    1     \n",
       "3 Ord3    2     \n",
       "4 Ord4    1     "
      ]
     },
     "metadata": {},
     "output_type": "display_data"
    }
   ],
   "source": [
    "# Write your code here \n",
    "order_data %>%\n",
    "    group_by(orderID) %>%\n",
    "    summarise(nItems = n()) "
   ]
  }
 ],
 "metadata": {
  "kernelspec": {
   "display_name": "R",
   "language": "R",
   "name": "ir"
  },
  "language_info": {
   "codemirror_mode": "r",
   "file_extension": ".r",
   "mimetype": "text/x-r-source",
   "name": "R",
   "pygments_lexer": "r",
   "version": "3.6.1"
  },
  "rise": {
   "enable_chalkboard": false,
   "overlay": "<div class='logo'><img src='images/uniwue4c.png'></div>",
   "scroll": true
  },
  "toc": {
   "base_numbering": 1,
   "nav_menu": {},
   "number_sections": false,
   "sideBar": true,
   "skip_h1_title": true,
   "title_cell": "Agenda",
   "title_sidebar": "Contents",
   "toc_cell": true,
   "toc_position": {},
   "toc_section_display": true,
   "toc_window_display": false
  },
  "toc-autonumbering": false,
  "toc-showcode": false,
  "toc-showmarkdowntxt": false,
  "toc-showtags": false
 },
 "nbformat": 4,
 "nbformat_minor": 4
}
