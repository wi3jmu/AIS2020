{
  "nbformat": 4,
  "nbformat_minor": 0,
  "metadata": {
    "kernelspec": {
      "display_name": "R",
      "language": "R",
      "name": "ir"
    },
    "language_info": {
      "codemirror_mode": "r",
      "file_extension": ".r",
      "mimetype": "text/x-r-source",
      "name": "R",
      "pygments_lexer": "r",
      "version": "3.6.1"
    },
    "rise": {
      "enable_chalkboard": false,
      "overlay": "<div class='logo'><img src='images/uniwue4c.png'></div>",
      "scroll": true
    },
    "toc": {
      "base_numbering": 1,
      "nav_menu": {},
      "number_sections": true,
      "sideBar": true,
      "skip_h1_title": true,
      "title_cell": "Agenda",
      "title_sidebar": "Contents",
      "toc_cell": true,
      "toc_position": {},
      "toc_section_display": true,
      "toc_window_display": false
    },
    "colab": {
      "name": "AIS_W05_SS20_streaming_solutions.ipynb",
      "provenance": [],
      "toc_visible": true
    }
  },
  "cells": [
    {
      "cell_type": "markdown",
      "metadata": {
        "cell_style": "center",
        "id": "TaLyJWgNMIXQ",
        "colab_type": "text"
      },
      "source": [
        "*Analytical Information Systems*\n",
        "\n",
        "# Worksheet 5 - Big Data and Streaming\n",
        "\n",
        "Matthias Griebel<br>\n",
        "Lehrstuhl für Wirtschaftsinformatik und Informationsmanagement\n",
        "\n",
        "SS 2020"
      ]
    },
    {
      "cell_type": "markdown",
      "metadata": {
        "toc-hr-collapsed": true,
        "toc-nb-collapsed": true,
        "id": "MYPYI12sMIXS",
        "colab_type": "text"
      },
      "source": [
        "## MapReduce"
      ]
    },
    {
      "cell_type": "markdown",
      "metadata": {
        "id": "sGl88uZaMIXT",
        "colab_type": "text"
      },
      "source": [
        "[MapReduce](https://en.wikipedia.org/wiki/MapReduce) is a programming model and an associated implementation for processing and generating big data sets with a parallel, distributed algorithm on a cluster.\n",
        "\n",
        "Let's have a look at the word count example from the lecture again\n",
        "\n",
        "<img src=\"http://wi-wiki.de/lib/exe/fetch.php?cache=&w=899&h=417&tok=68959d&media=bigdata:mapreducewordcountoverview1.png\" style=\"width:50%\">"
      ]
    },
    {
      "cell_type": "markdown",
      "metadata": {
        "id": "MgmDu_OeMIXV",
        "colab_type": "text"
      },
      "source": [
        "1. __Input__\n",
        "\n",
        "1. __Splitting__: Prepare the Map() input\n",
        "\n",
        "1. __Mapping__: Run the user-provided Map() code. Each worker node applies the map function to the local data, and writes the output to a temporary storage.\n",
        "\n",
        "1. __Shuffling__: \"Shuffle\" the Map output to the Reduce processors. \n",
        "\n",
        "1. __Reduce__: Run the user-provided Reduce() code. The Reduce processors process each group of output data, per key, in parallel.\n",
        "\n",
        "1. __Final result__: Produce the final output – the MapReduce system collects and sorts all the Reduce output"
      ]
    },
    {
      "cell_type": "markdown",
      "metadata": {
        "id": "eaFtiGGMMIXW",
        "colab_type": "text"
      },
      "source": [
        "### MapReduce Libraries\n",
        "\n",
        "MapReduce libraries have been written in many programming languages, with different levels of optimization. \n",
        "- A popular open-source implementation that has support for distributed shuffles is part of Apache Hadoop.\n",
        "- [RHadoop](https://github.com/RevolutionAnalytics/RHadoop/wiki) is a collection of five R packages that allow users to manage and analyze data with Apache Hadoop. \n",
        "    - using RHadoop requires a Java and Hadoop installation, the Hadoop Distributed File System, etc.\n",
        "\n",
        "Thus, we will only examplify the MapReduce algorithm using basic R and the `tidyverse`:"
      ]
    },
    {
      "cell_type": "markdown",
      "metadata": {
        "id": "G04K9ET6MIXY",
        "colab_type": "text"
      },
      "source": [
        "### Examplary R MapReduce Word Count Implementation"
      ]
    },
    {
      "cell_type": "markdown",
      "metadata": {
        "id": "HVT2_FMxMIXa",
        "colab_type": "text"
      },
      "source": [
        "__Defining the map function__"
      ]
    },
    {
      "cell_type": "markdown",
      "metadata": {
        "id": "aWRLcPu2MIXc",
        "colab_type": "text"
      },
      "source": [
        "The map function breaks the line into words and outputs a key/value pair for each word."
      ]
    },
    {
      "cell_type": "code",
      "metadata": {
        "id": "l3gjwYtSMUQi",
        "colab_type": "code",
        "colab": {}
      },
      "source": [
        "library(tidyverse)"
      ],
      "execution_count": 0,
      "outputs": []
    },
    {
      "cell_type": "code",
      "metadata": {
        "id": "Cvaab5k6MIXe",
        "colab_type": "code",
        "colab": {}
      },
      "source": [
        "count_words <- function(line){\n",
        "    line %>%\n",
        "            str_split(\" \",simplify=FALSE) %>%\n",
        "            unlist() %>%\n",
        "            tibble(key=., value=1)\n",
        "}"
      ],
      "execution_count": 0,
      "outputs": []
    },
    {
      "cell_type": "markdown",
      "metadata": {
        "id": "WEFGefp7MIXp",
        "colab_type": "text"
      },
      "source": [
        "__Defining the reduce function__"
      ]
    },
    {
      "cell_type": "markdown",
      "metadata": {
        "id": "s8Z68s2OMIXq",
        "colab_type": "text"
      },
      "source": [
        "In the word count example, the Reduce function sums the word counts and generates a single output of the word and the final sum."
      ]
    },
    {
      "cell_type": "code",
      "metadata": {
        "id": "GNvm61KyMIXr",
        "colab_type": "code",
        "colab": {}
      },
      "source": [
        "reduce_count <- function(df){\n",
        "    df %>%\n",
        "        summarise(key=key[1],\n",
        "                  count=sum(value))\n",
        "}"
      ],
      "execution_count": 0,
      "outputs": []
    },
    {
      "cell_type": "markdown",
      "metadata": {
        "id": "6JagksajMIXw",
        "colab_type": "text"
      },
      "source": [
        "__Going through the MapReduce steps__"
      ]
    },
    {
      "cell_type": "markdown",
      "metadata": {
        "id": "rlbwCUNGMIXx",
        "colab_type": "text"
      },
      "source": [
        "__1. Input__"
      ]
    },
    {
      "cell_type": "code",
      "metadata": {
        "id": "buMNyfD6MIXy",
        "colab_type": "code",
        "outputId": "8bb544d2-fca5-4687-db53-0e700205c98a",
        "colab": {
          "base_uri": "https://localhost:8080/",
          "height": 55
        }
      },
      "source": [
        "Input =  \"Deer Bear River\\nCar Car River\\nDeer Car Bear\"\n",
        "Input"
      ],
      "execution_count": 0,
      "outputs": [
        {
          "output_type": "display_data",
          "data": {
            "text/plain": [
              "[1] \"Deer Bear River\\nCar Car River\\nDeer Car Bear\""
            ],
            "text/latex": "'Deer Bear River\\textbackslash{}nCar Car River\\textbackslash{}nDeer Car Bear'",
            "text/markdown": "'Deer Bear River\\nCar Car River\\nDeer Car Bear'",
            "text/html": [
              "'Deer Bear River\\nCar Car River\\nDeer Car Bear'"
            ]
          },
          "metadata": {
            "tags": []
          }
        }
      ]
    },
    {
      "cell_type": "markdown",
      "metadata": {
        "id": "OWIgO0HjMIX4",
        "colab_type": "text"
      },
      "source": [
        "__2. Splitting__\n",
        "\n",
        "We will split the input by line ('\\n' indicates a new line)"
      ]
    },
    {
      "cell_type": "code",
      "metadata": {
        "id": "t9DubbZ-MIX5",
        "colab_type": "code",
        "outputId": "41303e15-b705-4c18-e415-f4454900833d",
        "colab": {
          "base_uri": "https://localhost:8080/",
          "height": 55
        }
      },
      "source": [
        "Input %>%\n",
        "    str_split(\"\\n\",simplify=FALSE) %>% unlist"
      ],
      "execution_count": 0,
      "outputs": [
        {
          "output_type": "display_data",
          "data": {
            "text/plain": [
              "[1] \"Deer Bear River\" \"Car Car River\"   \"Deer Car Bear\"  "
            ],
            "text/latex": "\\begin{enumerate*}\n\\item 'Deer Bear River'\n\\item 'Car Car River'\n\\item 'Deer Car Bear'\n\\end{enumerate*}\n",
            "text/markdown": "1. 'Deer Bear River'\n2. 'Car Car River'\n3. 'Deer Car Bear'\n\n\n",
            "text/html": [
              "<style>\n",
              ".list-inline {list-style: none; margin:0; padding: 0}\n",
              ".list-inline>li {display: inline-block}\n",
              ".list-inline>li:not(:last-child)::after {content: \"\\00b7\"; padding: 0 .5ex}\n",
              "</style>\n",
              "<ol class=list-inline><li>'Deer Bear River'</li><li>'Car Car River'</li><li>'Deer Car Bear'</li></ol>\n"
            ]
          },
          "metadata": {
            "tags": []
          }
        }
      ]
    },
    {
      "cell_type": "markdown",
      "metadata": {
        "id": "FTOsx9fqMIX9",
        "colab_type": "text"
      },
      "source": [
        "2. Mapping"
      ]
    },
    {
      "cell_type": "code",
      "metadata": {
        "id": "vDiSvutaMIX-",
        "colab_type": "code",
        "outputId": "b7a62907-eb3e-4ec1-aab7-9b7c5d2749b2",
        "colab": {
          "base_uri": "https://localhost:8080/",
          "height": 496
        }
      },
      "source": [
        "Input %>%\n",
        "    str_split(\"\\n\",simplify=FALSE) %>% unlist %>%\n",
        "    map(count_words)"
      ],
      "execution_count": 0,
      "outputs": [
        {
          "output_type": "display_data",
          "data": {
            "text/plain": [
              "[[1]]\n",
              "\u001b[90m# A tibble: 3 x 2\u001b[39m\n",
              "  key   value\n",
              "  \u001b[3m\u001b[90m<chr>\u001b[39m\u001b[23m \u001b[3m\u001b[90m<dbl>\u001b[39m\u001b[23m\n",
              "\u001b[90m1\u001b[39m Deer      1\n",
              "\u001b[90m2\u001b[39m Bear      1\n",
              "\u001b[90m3\u001b[39m River     1\n",
              "\n",
              "[[2]]\n",
              "\u001b[90m# A tibble: 3 x 2\u001b[39m\n",
              "  key   value\n",
              "  \u001b[3m\u001b[90m<chr>\u001b[39m\u001b[23m \u001b[3m\u001b[90m<dbl>\u001b[39m\u001b[23m\n",
              "\u001b[90m1\u001b[39m Car       1\n",
              "\u001b[90m2\u001b[39m Car       1\n",
              "\u001b[90m3\u001b[39m River     1\n",
              "\n",
              "[[3]]\n",
              "\u001b[90m# A tibble: 3 x 2\u001b[39m\n",
              "  key   value\n",
              "  \u001b[3m\u001b[90m<chr>\u001b[39m\u001b[23m \u001b[3m\u001b[90m<dbl>\u001b[39m\u001b[23m\n",
              "\u001b[90m1\u001b[39m Deer      1\n",
              "\u001b[90m2\u001b[39m Car       1\n",
              "\u001b[90m3\u001b[39m Bear      1\n"
            ],
            "text/latex": "\\begin{enumerate}\n\\item A tibble: 3 × 2\n\\begin{tabular}{ll}\n key & value\\\\\n <chr> & <dbl>\\\\\n\\hline\n\t Deer  & 1\\\\\n\t Bear  & 1\\\\\n\t River & 1\\\\\n\\end{tabular}\n\n\\item A tibble: 3 × 2\n\\begin{tabular}{ll}\n key & value\\\\\n <chr> & <dbl>\\\\\n\\hline\n\t Car   & 1\\\\\n\t Car   & 1\\\\\n\t River & 1\\\\\n\\end{tabular}\n\n\\item A tibble: 3 × 2\n\\begin{tabular}{ll}\n key & value\\\\\n <chr> & <dbl>\\\\\n\\hline\n\t Deer & 1\\\\\n\t Car  & 1\\\\\n\t Bear & 1\\\\\n\\end{tabular}\n\n\\end{enumerate}\n",
            "text/markdown": "1. \nA tibble: 3 × 2\n\n| key &lt;chr&gt; | value &lt;dbl&gt; |\n|---|---|\n| Deer  | 1 |\n| Bear  | 1 |\n| River | 1 |\n\n\n2. \nA tibble: 3 × 2\n\n| key &lt;chr&gt; | value &lt;dbl&gt; |\n|---|---|\n| Car   | 1 |\n| Car   | 1 |\n| River | 1 |\n\n\n3. \nA tibble: 3 × 2\n\n| key &lt;chr&gt; | value &lt;dbl&gt; |\n|---|---|\n| Deer | 1 |\n| Car  | 1 |\n| Bear | 1 |\n\n\n\n\n",
            "text/html": [
              "<ol>\n",
              "\t<li><table>\n",
              "<caption>A tibble: 3 × 2</caption>\n",
              "<thead>\n",
              "\t<tr><th scope=col>key</th><th scope=col>value</th></tr>\n",
              "\t<tr><th scope=col>&lt;chr&gt;</th><th scope=col>&lt;dbl&gt;</th></tr>\n",
              "</thead>\n",
              "<tbody>\n",
              "\t<tr><td>Deer </td><td>1</td></tr>\n",
              "\t<tr><td>Bear </td><td>1</td></tr>\n",
              "\t<tr><td>River</td><td>1</td></tr>\n",
              "</tbody>\n",
              "</table>\n",
              "</li>\n",
              "\t<li><table>\n",
              "<caption>A tibble: 3 × 2</caption>\n",
              "<thead>\n",
              "\t<tr><th scope=col>key</th><th scope=col>value</th></tr>\n",
              "\t<tr><th scope=col>&lt;chr&gt;</th><th scope=col>&lt;dbl&gt;</th></tr>\n",
              "</thead>\n",
              "<tbody>\n",
              "\t<tr><td>Car  </td><td>1</td></tr>\n",
              "\t<tr><td>Car  </td><td>1</td></tr>\n",
              "\t<tr><td>River</td><td>1</td></tr>\n",
              "</tbody>\n",
              "</table>\n",
              "</li>\n",
              "\t<li><table>\n",
              "<caption>A tibble: 3 × 2</caption>\n",
              "<thead>\n",
              "\t<tr><th scope=col>key</th><th scope=col>value</th></tr>\n",
              "\t<tr><th scope=col>&lt;chr&gt;</th><th scope=col>&lt;dbl&gt;</th></tr>\n",
              "</thead>\n",
              "<tbody>\n",
              "\t<tr><td>Deer</td><td>1</td></tr>\n",
              "\t<tr><td>Car </td><td>1</td></tr>\n",
              "\t<tr><td>Bear</td><td>1</td></tr>\n",
              "</tbody>\n",
              "</table>\n",
              "</li>\n",
              "</ol>\n"
            ]
          },
          "metadata": {
            "tags": []
          }
        }
      ]
    },
    {
      "cell_type": "markdown",
      "metadata": {
        "id": "KlFLqc5oMIYA",
        "colab_type": "text"
      },
      "source": [
        "4. Shuffling"
      ]
    },
    {
      "cell_type": "code",
      "metadata": {
        "id": "sTxRnIR4MIYB",
        "colab_type": "code",
        "outputId": "2a2ef5cc-c4b5-4a53-ef8a-8d9a23168de7",
        "colab": {
          "base_uri": "https://localhost:8080/",
          "height": 575
        }
      },
      "source": [
        "Input %>%\n",
        "    str_split(\"\\n\",simplify=FALSE) %>% unlist %>%\n",
        "    map(count_words) %>% \n",
        "    map_df(rbind) %>% group_split(key)"
      ],
      "execution_count": 0,
      "outputs": [
        {
          "output_type": "display_data",
          "data": {
            "text/plain": [
              "[[1]]\n",
              "\u001b[90m# A tibble: 2 x 2\u001b[39m\n",
              "  key   value\n",
              "  \u001b[3m\u001b[90m<chr>\u001b[39m\u001b[23m \u001b[3m\u001b[90m<dbl>\u001b[39m\u001b[23m\n",
              "\u001b[90m1\u001b[39m Bear      1\n",
              "\u001b[90m2\u001b[39m Bear      1\n",
              "\n",
              "[[2]]\n",
              "\u001b[90m# A tibble: 3 x 2\u001b[39m\n",
              "  key   value\n",
              "  \u001b[3m\u001b[90m<chr>\u001b[39m\u001b[23m \u001b[3m\u001b[90m<dbl>\u001b[39m\u001b[23m\n",
              "\u001b[90m1\u001b[39m Car       1\n",
              "\u001b[90m2\u001b[39m Car       1\n",
              "\u001b[90m3\u001b[39m Car       1\n",
              "\n",
              "[[3]]\n",
              "\u001b[90m# A tibble: 2 x 2\u001b[39m\n",
              "  key   value\n",
              "  \u001b[3m\u001b[90m<chr>\u001b[39m\u001b[23m \u001b[3m\u001b[90m<dbl>\u001b[39m\u001b[23m\n",
              "\u001b[90m1\u001b[39m Deer      1\n",
              "\u001b[90m2\u001b[39m Deer      1\n",
              "\n",
              "[[4]]\n",
              "\u001b[90m# A tibble: 2 x 2\u001b[39m\n",
              "  key   value\n",
              "  \u001b[3m\u001b[90m<chr>\u001b[39m\u001b[23m \u001b[3m\u001b[90m<dbl>\u001b[39m\u001b[23m\n",
              "\u001b[90m1\u001b[39m River     1\n",
              "\u001b[90m2\u001b[39m River     1\n",
              "\n",
              "attr(,\"ptype\")\n",
              "\u001b[90m# A tibble: 0 x 2\u001b[39m\n",
              "\u001b[90m# … with 2 variables: key \u001b[3m\u001b[90m<chr>\u001b[90m\u001b[23m, value \u001b[3m\u001b[90m<dbl>\u001b[90m\u001b[23m\u001b[39m"
            ],
            "text/latex": "\\begin{enumerate}\n\\item A tibble: 2 × 2\n\\begin{tabular}{ll}\n key & value\\\\\n <chr> & <dbl>\\\\\n\\hline\n\t Bear & 1\\\\\n\t Bear & 1\\\\\n\\end{tabular}\n\n\\item A tibble: 3 × 2\n\\begin{tabular}{ll}\n key & value\\\\\n <chr> & <dbl>\\\\\n\\hline\n\t Car & 1\\\\\n\t Car & 1\\\\\n\t Car & 1\\\\\n\\end{tabular}\n\n\\item A tibble: 2 × 2\n\\begin{tabular}{ll}\n key & value\\\\\n <chr> & <dbl>\\\\\n\\hline\n\t Deer & 1\\\\\n\t Deer & 1\\\\\n\\end{tabular}\n\n\\item A tibble: 2 × 2\n\\begin{tabular}{ll}\n key & value\\\\\n <chr> & <dbl>\\\\\n\\hline\n\t River & 1\\\\\n\t River & 1\\\\\n\\end{tabular}\n\n\\end{enumerate}\n",
            "text/markdown": "1. \nA tibble: 2 × 2\n\n| key &lt;chr&gt; | value &lt;dbl&gt; |\n|---|---|\n| Bear | 1 |\n| Bear | 1 |\n\n\n2. \nA tibble: 3 × 2\n\n| key &lt;chr&gt; | value &lt;dbl&gt; |\n|---|---|\n| Car | 1 |\n| Car | 1 |\n| Car | 1 |\n\n\n3. \nA tibble: 2 × 2\n\n| key &lt;chr&gt; | value &lt;dbl&gt; |\n|---|---|\n| Deer | 1 |\n| Deer | 1 |\n\n\n4. \nA tibble: 2 × 2\n\n| key &lt;chr&gt; | value &lt;dbl&gt; |\n|---|---|\n| River | 1 |\n| River | 1 |\n\n\n\n\n",
            "text/html": [
              "<ol>\n",
              "\t<li><table>\n",
              "<caption>A tibble: 2 × 2</caption>\n",
              "<thead>\n",
              "\t<tr><th scope=col>key</th><th scope=col>value</th></tr>\n",
              "\t<tr><th scope=col>&lt;chr&gt;</th><th scope=col>&lt;dbl&gt;</th></tr>\n",
              "</thead>\n",
              "<tbody>\n",
              "\t<tr><td>Bear</td><td>1</td></tr>\n",
              "\t<tr><td>Bear</td><td>1</td></tr>\n",
              "</tbody>\n",
              "</table>\n",
              "</li>\n",
              "\t<li><table>\n",
              "<caption>A tibble: 3 × 2</caption>\n",
              "<thead>\n",
              "\t<tr><th scope=col>key</th><th scope=col>value</th></tr>\n",
              "\t<tr><th scope=col>&lt;chr&gt;</th><th scope=col>&lt;dbl&gt;</th></tr>\n",
              "</thead>\n",
              "<tbody>\n",
              "\t<tr><td>Car</td><td>1</td></tr>\n",
              "\t<tr><td>Car</td><td>1</td></tr>\n",
              "\t<tr><td>Car</td><td>1</td></tr>\n",
              "</tbody>\n",
              "</table>\n",
              "</li>\n",
              "\t<li><table>\n",
              "<caption>A tibble: 2 × 2</caption>\n",
              "<thead>\n",
              "\t<tr><th scope=col>key</th><th scope=col>value</th></tr>\n",
              "\t<tr><th scope=col>&lt;chr&gt;</th><th scope=col>&lt;dbl&gt;</th></tr>\n",
              "</thead>\n",
              "<tbody>\n",
              "\t<tr><td>Deer</td><td>1</td></tr>\n",
              "\t<tr><td>Deer</td><td>1</td></tr>\n",
              "</tbody>\n",
              "</table>\n",
              "</li>\n",
              "\t<li><table>\n",
              "<caption>A tibble: 2 × 2</caption>\n",
              "<thead>\n",
              "\t<tr><th scope=col>key</th><th scope=col>value</th></tr>\n",
              "\t<tr><th scope=col>&lt;chr&gt;</th><th scope=col>&lt;dbl&gt;</th></tr>\n",
              "</thead>\n",
              "<tbody>\n",
              "\t<tr><td>River</td><td>1</td></tr>\n",
              "\t<tr><td>River</td><td>1</td></tr>\n",
              "</tbody>\n",
              "</table>\n",
              "</li>\n",
              "</ol>\n"
            ]
          },
          "metadata": {
            "tags": []
          }
        }
      ]
    },
    {
      "cell_type": "markdown",
      "metadata": {
        "id": "lAMQ1zfEMIYD",
        "colab_type": "text"
      },
      "source": [
        "5. Reducing"
      ]
    },
    {
      "cell_type": "code",
      "metadata": {
        "id": "YkReYQa_MIYE",
        "colab_type": "code",
        "outputId": "1c863bd1-2a0c-4b5c-94f3-0ff91af76f81",
        "colab": {
          "base_uri": "https://localhost:8080/",
          "height": 468
        }
      },
      "source": [
        "Input %>%\n",
        "    str_split(\"\\n\",simplify=FALSE) %>% unlist %>%\n",
        "    map(count_words) %>% \n",
        "    map_df(rbind) %>% group_split(key) %>%\n",
        "    map(reduce_count)"
      ],
      "execution_count": 0,
      "outputs": [
        {
          "output_type": "display_data",
          "data": {
            "text/plain": [
              "[[1]]\n",
              "\u001b[90m# A tibble: 1 x 2\u001b[39m\n",
              "  key   count\n",
              "  \u001b[3m\u001b[90m<chr>\u001b[39m\u001b[23m \u001b[3m\u001b[90m<dbl>\u001b[39m\u001b[23m\n",
              "\u001b[90m1\u001b[39m Bear      2\n",
              "\n",
              "[[2]]\n",
              "\u001b[90m# A tibble: 1 x 2\u001b[39m\n",
              "  key   count\n",
              "  \u001b[3m\u001b[90m<chr>\u001b[39m\u001b[23m \u001b[3m\u001b[90m<dbl>\u001b[39m\u001b[23m\n",
              "\u001b[90m1\u001b[39m Car       3\n",
              "\n",
              "[[3]]\n",
              "\u001b[90m# A tibble: 1 x 2\u001b[39m\n",
              "  key   count\n",
              "  \u001b[3m\u001b[90m<chr>\u001b[39m\u001b[23m \u001b[3m\u001b[90m<dbl>\u001b[39m\u001b[23m\n",
              "\u001b[90m1\u001b[39m Deer      2\n",
              "\n",
              "[[4]]\n",
              "\u001b[90m# A tibble: 1 x 2\u001b[39m\n",
              "  key   count\n",
              "  \u001b[3m\u001b[90m<chr>\u001b[39m\u001b[23m \u001b[3m\u001b[90m<dbl>\u001b[39m\u001b[23m\n",
              "\u001b[90m1\u001b[39m River     2\n"
            ],
            "text/latex": "\\begin{enumerate}\n\\item A tibble: 1 × 2\n\\begin{tabular}{ll}\n key & count\\\\\n <chr> & <dbl>\\\\\n\\hline\n\t Bear & 2\\\\\n\\end{tabular}\n\n\\item A tibble: 1 × 2\n\\begin{tabular}{ll}\n key & count\\\\\n <chr> & <dbl>\\\\\n\\hline\n\t Car & 3\\\\\n\\end{tabular}\n\n\\item A tibble: 1 × 2\n\\begin{tabular}{ll}\n key & count\\\\\n <chr> & <dbl>\\\\\n\\hline\n\t Deer & 2\\\\\n\\end{tabular}\n\n\\item A tibble: 1 × 2\n\\begin{tabular}{ll}\n key & count\\\\\n <chr> & <dbl>\\\\\n\\hline\n\t River & 2\\\\\n\\end{tabular}\n\n\\end{enumerate}\n",
            "text/markdown": "1. \nA tibble: 1 × 2\n\n| key &lt;chr&gt; | count &lt;dbl&gt; |\n|---|---|\n| Bear | 2 |\n\n\n2. \nA tibble: 1 × 2\n\n| key &lt;chr&gt; | count &lt;dbl&gt; |\n|---|---|\n| Car | 3 |\n\n\n3. \nA tibble: 1 × 2\n\n| key &lt;chr&gt; | count &lt;dbl&gt; |\n|---|---|\n| Deer | 2 |\n\n\n4. \nA tibble: 1 × 2\n\n| key &lt;chr&gt; | count &lt;dbl&gt; |\n|---|---|\n| River | 2 |\n\n\n\n\n",
            "text/html": [
              "<ol>\n",
              "\t<li><table>\n",
              "<caption>A tibble: 1 × 2</caption>\n",
              "<thead>\n",
              "\t<tr><th scope=col>key</th><th scope=col>count</th></tr>\n",
              "\t<tr><th scope=col>&lt;chr&gt;</th><th scope=col>&lt;dbl&gt;</th></tr>\n",
              "</thead>\n",
              "<tbody>\n",
              "\t<tr><td>Bear</td><td>2</td></tr>\n",
              "</tbody>\n",
              "</table>\n",
              "</li>\n",
              "\t<li><table>\n",
              "<caption>A tibble: 1 × 2</caption>\n",
              "<thead>\n",
              "\t<tr><th scope=col>key</th><th scope=col>count</th></tr>\n",
              "\t<tr><th scope=col>&lt;chr&gt;</th><th scope=col>&lt;dbl&gt;</th></tr>\n",
              "</thead>\n",
              "<tbody>\n",
              "\t<tr><td>Car</td><td>3</td></tr>\n",
              "</tbody>\n",
              "</table>\n",
              "</li>\n",
              "\t<li><table>\n",
              "<caption>A tibble: 1 × 2</caption>\n",
              "<thead>\n",
              "\t<tr><th scope=col>key</th><th scope=col>count</th></tr>\n",
              "\t<tr><th scope=col>&lt;chr&gt;</th><th scope=col>&lt;dbl&gt;</th></tr>\n",
              "</thead>\n",
              "<tbody>\n",
              "\t<tr><td>Deer</td><td>2</td></tr>\n",
              "</tbody>\n",
              "</table>\n",
              "</li>\n",
              "\t<li><table>\n",
              "<caption>A tibble: 1 × 2</caption>\n",
              "<thead>\n",
              "\t<tr><th scope=col>key</th><th scope=col>count</th></tr>\n",
              "\t<tr><th scope=col>&lt;chr&gt;</th><th scope=col>&lt;dbl&gt;</th></tr>\n",
              "</thead>\n",
              "<tbody>\n",
              "\t<tr><td>River</td><td>2</td></tr>\n",
              "</tbody>\n",
              "</table>\n",
              "</li>\n",
              "</ol>\n"
            ]
          },
          "metadata": {
            "tags": []
          }
        }
      ]
    },
    {
      "cell_type": "markdown",
      "metadata": {
        "id": "6dB7pdNXMIYG",
        "colab_type": "text"
      },
      "source": [
        "5. Merge and sort"
      ]
    },
    {
      "cell_type": "code",
      "metadata": {
        "id": "3JbbknpkMIYH",
        "colab_type": "code",
        "outputId": "3c695f93-1cee-4942-fd45-7a84bf1c1724",
        "colab": {
          "base_uri": "https://localhost:8080/",
          "height": 202
        }
      },
      "source": [
        "Input %>%\n",
        "    str_split(\"\\n\",simplify=FALSE) %>% unlist %>%\n",
        "    map(count_words) %>% \n",
        "    map_df(rbind) %>% group_split(key) %>%\n",
        "    map(reduce_count) %>%\n",
        "    map_df(cbind) %>% arrange(desc(count))"
      ],
      "execution_count": 0,
      "outputs": [
        {
          "output_type": "display_data",
          "data": {
            "text/plain": [
              "  key   count\n",
              "1 Car   3    \n",
              "2 Bear  2    \n",
              "3 Deer  2    \n",
              "4 River 2    "
            ],
            "text/latex": "A data.frame: 4 × 2\n\\begin{tabular}{ll}\n key & count\\\\\n <chr> & <dbl>\\\\\n\\hline\n\t Car   & 3\\\\\n\t Bear  & 2\\\\\n\t Deer  & 2\\\\\n\t River & 2\\\\\n\\end{tabular}\n",
            "text/markdown": "\nA data.frame: 4 × 2\n\n| key &lt;chr&gt; | count &lt;dbl&gt; |\n|---|---|\n| Car   | 3 |\n| Bear  | 2 |\n| Deer  | 2 |\n| River | 2 |\n\n",
            "text/html": [
              "<table>\n",
              "<caption>A data.frame: 4 × 2</caption>\n",
              "<thead>\n",
              "\t<tr><th scope=col>key</th><th scope=col>count</th></tr>\n",
              "\t<tr><th scope=col>&lt;chr&gt;</th><th scope=col>&lt;dbl&gt;</th></tr>\n",
              "</thead>\n",
              "<tbody>\n",
              "\t<tr><td>Car  </td><td>3</td></tr>\n",
              "\t<tr><td>Bear </td><td>2</td></tr>\n",
              "\t<tr><td>Deer </td><td>2</td></tr>\n",
              "\t<tr><td>River</td><td>2</td></tr>\n",
              "</tbody>\n",
              "</table>\n"
            ]
          },
          "metadata": {
            "tags": []
          }
        }
      ]
    },
    {
      "cell_type": "markdown",
      "metadata": {
        "id": "wL-x2tglMIYJ",
        "colab_type": "text"
      },
      "source": [
        "__Doing it the undistributed tidyverse way__"
      ]
    },
    {
      "cell_type": "code",
      "metadata": {
        "id": "iG-BqD05MIYK",
        "colab_type": "code",
        "outputId": "ef0a9de6-7bb4-4ce4-a1f2-f22be7b1e2ce",
        "colab": {
          "base_uri": "https://localhost:8080/",
          "height": 185
        }
      },
      "source": [
        "Input %>%\n",
        "    str_replace_all(\"\\n\", \" \") %>%\n",
        "    str_split(\" \",simplify=FALSE) %>% unlist %>% \n",
        "    tibble(key=.) %>%\n",
        "    group_by(key) %>%\n",
        "    summarize(count=n()) %>%  arrange(desc(count))"
      ],
      "execution_count": 0,
      "outputs": [
        {
          "output_type": "display_data",
          "data": {
            "text/plain": [
              "  key   count\n",
              "1 Car   3    \n",
              "2 Bear  2    \n",
              "3 Deer  2    \n",
              "4 River 2    "
            ],
            "text/latex": "A tibble: 4 × 2\n\\begin{tabular}{ll}\n key & count\\\\\n <chr> & <int>\\\\\n\\hline\n\t Car   & 3\\\\\n\t Bear  & 2\\\\\n\t Deer  & 2\\\\\n\t River & 2\\\\\n\\end{tabular}\n",
            "text/markdown": "\nA tibble: 4 × 2\n\n| key &lt;chr&gt; | count &lt;int&gt; |\n|---|---|\n| Car   | 3 |\n| Bear  | 2 |\n| Deer  | 2 |\n| River | 2 |\n\n",
            "text/html": [
              "<table>\n",
              "<caption>A tibble: 4 × 2</caption>\n",
              "<thead>\n",
              "\t<tr><th scope=col>key</th><th scope=col>count</th></tr>\n",
              "\t<tr><th scope=col>&lt;chr&gt;</th><th scope=col>&lt;int&gt;</th></tr>\n",
              "</thead>\n",
              "<tbody>\n",
              "\t<tr><td>Car  </td><td>3</td></tr>\n",
              "\t<tr><td>Bear </td><td>2</td></tr>\n",
              "\t<tr><td>Deer </td><td>2</td></tr>\n",
              "\t<tr><td>River</td><td>2</td></tr>\n",
              "</tbody>\n",
              "</table>\n"
            ]
          },
          "metadata": {
            "tags": []
          }
        }
      ]
    },
    {
      "cell_type": "markdown",
      "metadata": {
        "id": "z0rRbM56MIYM",
        "colab_type": "text"
      },
      "source": [
        "## Stream Processing"
      ]
    },
    {
      "cell_type": "markdown",
      "metadata": {
        "cell_style": "split",
        "id": "U-0wHE9bMIYM",
        "colab_type": "text"
      },
      "source": [
        "__Credits__\n",
        "\n",
        "- Jure Leskovec, Stanford University, http://web.stanford.edu/class/cs246/slides/15-streams1.pdf\n",
        "- Michael Freedman, Princeton University, https://www.cs.princeton.edu/courses/archive/fall16/cos418/docs/L22-stream-processing.pdf"
      ]
    },
    {
      "cell_type": "markdown",
      "metadata": {
        "id": "arl9NjQlMIYM",
        "colab_type": "text"
      },
      "source": [
        "### Data Streams"
      ]
    },
    {
      "cell_type": "markdown",
      "metadata": {
        "id": "979uU-9TMIYN",
        "colab_type": "text"
      },
      "source": [
        "- In many data mining situations, we do not know the entire data set in advance\n",
        "- We can think of the data as infinite and non-stationary (the distribution changes over time)\n",
        "- Stream Management is important when the input rate is controlled externally:\n",
        "    - Google queries\n",
        "    - Twitter or Facebook status updates"
      ]
    },
    {
      "cell_type": "markdown",
      "metadata": {
        "id": "6qrv8IcIMIYN",
        "colab_type": "text"
      },
      "source": [
        "__The Stream Model__"
      ]
    },
    {
      "cell_type": "markdown",
      "metadata": {
        "id": "16eaRLPmMIYN",
        "colab_type": "text"
      },
      "source": [
        "- Input elements enter at a rapid rate, at one or more input ports (i.e., streams)\n",
        "    - We call elements of the stream tuples\n",
        "- The system cannot store the entire stream accessibly\n",
        "\n",
        "    \n",
        "How do you make critical calculations about the stream using a limited amount of (secondary) memory?"
      ]
    },
    {
      "cell_type": "markdown",
      "metadata": {
        "id": "Mt4Cfe3qMIYO",
        "colab_type": "text"
      },
      "source": [
        "### Basic Stream Operators"
      ]
    },
    {
      "cell_type": "markdown",
      "metadata": {
        "id": "RmNo_0b8MIYP",
        "colab_type": "text"
      },
      "source": [
        "__Stateless conversion__"
      ]
    },
    {
      "cell_type": "markdown",
      "metadata": {
        "id": "CeHD9ZmUMIYP",
        "colab_type": "text"
      },
      "source": [
        "<img src=\"http://raw.githubusercontent.com/wi3jmu/AIS2020/master/notebooks/figures/05/sc_ctoF.png\" width=\"30%\">\n",
        "\n",
        "- Convert Celsius temperature to Fahrenheit: __emit__ (input * 9 / 5) + 3"
      ]
    },
    {
      "cell_type": "markdown",
      "metadata": {
        "id": "hmeIw5CWMIYQ",
        "colab_type": "text"
      },
      "source": [
        "__Stateless filtering__\n",
        "\n",
        "<img src=\"http://raw.githubusercontent.com/wi3jmu/AIS2020/master/notebooks/figures/05/sc_sf.png\" width=\"30%\">\n",
        "\n",
        "Function can filter inputs: –if(input>threshold) {__emit__ input}"
      ]
    },
    {
      "cell_type": "markdown",
      "metadata": {
        "id": "_CBT0XNZMIYQ",
        "colab_type": "text"
      },
      "source": [
        "__Stateful conversion__\n",
        "\n",
        "<img src=\"http://raw.githubusercontent.com/wi3jmu/AIS2020/master/notebooks/figures/05/sc_ewa.png\" width=\"30%\">\n",
        "\n",
        "Compute EWMA of Fahrenheit temperature:\n",
        "- new_temp = ⍺ * ( CtoF(input) ) + (1- ⍺) * last_temp\n",
        "- last_temp = new_temp – emit new_temp\n",
        "- emit new_temp"
      ]
    },
    {
      "cell_type": "markdown",
      "metadata": {
        "id": "rKKeoUtWMIYR",
        "colab_type": "text"
      },
      "source": [
        "__Aggregation (stateful)__\n",
        "\n",
        "<img src=\"http://raw.githubusercontent.com/wi3jmu/AIS2020/master/notebooks/figures/05/sc_agg.png\" width=\"30%\">\n",
        "\n",
        "E.g.,Average value per window\n",
        "- Window can be # elements (10) or time (1s)\n",
        "- Windows can be disjoint (every 5s)\n",
        "- Windows can be “tumbling” (5s window every 1s)"
      ]
    },
    {
      "cell_type": "markdown",
      "metadata": {
        "id": "VEZzB4RmMIYR",
        "colab_type": "text"
      },
      "source": [
        "__Stream processing as chain__\n",
        "\n",
        "<img src=\"http://raw.githubusercontent.com/wi3jmu/AIS2020/master/notebooks/figures/05/sc_chain.png\" width=\"30%\">"
      ]
    },
    {
      "cell_type": "markdown",
      "metadata": {
        "id": "tPnwnHigMIYR",
        "colab_type": "text"
      },
      "source": [
        "__Stream processing as directed graph__"
      ]
    },
    {
      "cell_type": "markdown",
      "metadata": {
        "id": "qKUjvJhRMIYS",
        "colab_type": "text"
      },
      "source": [
        "<img src=\"http://raw.githubusercontent.com/wi3jmu/AIS2020/master/notebooks/figures/05/sc_chain.png\" width=\"30%\">"
      ]
    },
    {
      "cell_type": "markdown",
      "metadata": {
        "id": "dXbgA9uQMIYS",
        "colab_type": "text"
      },
      "source": [
        "### The challenge of stream processing for BIG DATA\n",
        "\n",
        "Large amounts of data to process in realtime\n",
        "\n",
        "__Examples__:\n",
        "- Social network trends (#trending)\n",
        "- Intrusion detection systems (networks, datacenters)\n",
        "- Sensors: Detect earthquakes by correlating vibrations of millions of smartphones\n",
        "- Fraud detection\n",
        "    - Visa: 2000 txn / sec on average, peak ~47,000 / sec"
      ]
    },
    {
      "cell_type": "markdown",
      "metadata": {
        "id": "dSqS5HLmMIYU",
        "colab_type": "text"
      },
      "source": [
        "__Stateless operations: trivially parallelized__\n",
        "\n",
        "<img src=\"http://raw.githubusercontent.com/wi3jmu/AIS2020/master/notebooks/figures/05/scale_out.png\" width=\"30%\">"
      ]
    },
    {
      "cell_type": "markdown",
      "metadata": {
        "id": "C2C4Q4_CMIYU",
        "colab_type": "text"
      },
      "source": [
        "__State complicates parallelization__\n",
        "\n",
        "\n",
        "- Need to join results across parallel computations\n",
        "\n",
        "<img src=\"http://raw.githubusercontent.com/wi3jmu/AIS2020/master/notebooks/figures/05/agg_par.png\" width=\"30%\">\n"
      ]
    },
    {
      "cell_type": "markdown",
      "metadata": {
        "id": "kbBUNxQ2MIYV",
        "colab_type": "text"
      },
      "source": [
        "__Parallelization complicates fault-tolerance__\n",
        "\n",
        "\n",
        "<img src=\"http://raw.githubusercontent.com/wi3jmu/AIS2020/master/notebooks/figures/05/fault.png\" width=\"30%\">\n"
      ]
    },
    {
      "cell_type": "markdown",
      "metadata": {
        "id": "I6kbvraJMIYV",
        "colab_type": "text"
      },
      "source": [
        "__We can parallelize joins__\n",
        "\n",
        "- using partitioned hash joins\n",
        "- but agian, complicates fault-tolerance\n",
        "\n",
        "<img src=\"http://raw.githubusercontent.com/wi3jmu/AIS2020/master/notebooks/figures/05/par_joins.png\" width=\"30%\">\n",
        "\n"
      ]
    },
    {
      "cell_type": "markdown",
      "metadata": {
        "id": "9UQjiUgzMIYV",
        "colab_type": "text"
      },
      "source": [
        "### Stream Processing frameworks\n",
        "\n",
        "Different frameworks handle these challenges differently\n",
        "\n",
        "- Record acknowledgement (Storm)\n",
        "- Micro-batches (Spark Streaming, Storm Trident) \n",
        "- Transactional updates (GoogleClouddataflow) \n",
        "- Distributed snapshots (Flink)"
      ]
    },
    {
      "cell_type": "markdown",
      "metadata": {
        "id": "qDjm4xoaMIYW",
        "colab_type": "text"
      },
      "source": [
        "### Streaming data with R"
      ]
    },
    {
      "cell_type": "markdown",
      "metadata": {
        "id": "k9xUlo7dMIYW",
        "colab_type": "text"
      },
      "source": [
        "__The `sparklyr` interface for Spark Streaming__\n",
        "\n",
        "from the official [Website](https://spark.rstudio.com/guides/streaming/):\n",
        "\n",
        "Spark Streaming makes it easy to build scalable fault-tolerant streaming applications. Because is part of the Spark API, it is possible to re-use query code that queries the current state of the stream, as well as joining the streaming data with historical data. Please see Spark’s official documentation for a deeper look into Spark Streaming.\n",
        "\n",
        "The sparklyr interface provides the following:\n",
        "\n",
        "- Ability to run dplyr, SQL, spark_apply(), and PipelineModels against a stream\n",
        "- Read in multiple formats: CSV, text, JSON, parquet, Kafka, JDBC, and orc\n",
        "- Write stream results to Spark memory and the following file formats: CSV, text, JSON, parquet, Kafka, JDBC, and orc\n",
        "- An out-of-the box graph visualization to monitor the stream\n",
        "- A new reactiveSpark() function, that allows Shiny apps to poll the contents of the stream create Shiny apps that are able to read the contents of the stream\n"
      ]
    },
    {
      "cell_type": "markdown",
      "metadata": {
        "id": "cp_Yi-E8MIYW",
        "colab_type": "text"
      },
      "source": [
        "#### Interacting with a stream\n",
        "\n",
        "A good way of looking at the way how Spark streams update is as a three stage operation:\n",
        "\n",
        "1. __Input__ - Spark reads the data inside a given folder. The folder is expected to contain multiple data files, with new files being created containing the most current stream data.\n",
        "\n",
        "1. __Processing__ - Spark applies the desired operations on top of the data. These operations could be data manipulations (dplyr, SQL), data transformations (sdf operations, PipelineModel predictions), or native R manipulations (spark_apply()).\n",
        "\n",
        "1. __Output__ - The results of processing the input files are saved in a different folder."
      ]
    },
    {
      "cell_type": "markdown",
      "metadata": {
        "id": "95CJt7MDMIYX",
        "colab_type": "text"
      },
      "source": [
        "#### `sparklyr` Example"
      ]
    },
    {
      "cell_type": "markdown",
      "metadata": {
        "id": "Kg-IatOWMIYX",
        "colab_type": "text"
      },
      "source": [
        "__Install requirements__\n",
        "\n",
        "This can take a few minutes..."
      ]
    },
    {
      "cell_type": "code",
      "metadata": {
        "id": "Qu5Y4dXHMIYY",
        "colab_type": "code",
        "colab": {}
      },
      "source": [
        "system(\"apt-get install openjdk-8-jdk-headless -qq > /dev/null\")\n",
        "Sys.setenv(JAVA_HOME = \"/usr/lib/jvm/java-8-openjdk-amd64\")\n",
        "install.packages(c(\"sparklyr\", \"future\"))\n",
        "library(sparklyr)\n",
        "spark_install()\n",
        "library(future)\n",
        "library(tidyverse)"
      ],
      "execution_count": 0,
      "outputs": []
    },
    {
      "cell_type": "markdown",
      "metadata": {
        "id": "zQe1ej7rMIYZ",
        "colab_type": "text"
      },
      "source": [
        "1. Open the Spark connection"
      ]
    },
    {
      "cell_type": "code",
      "metadata": {
        "id": "kmRNnDonMIYa",
        "colab_type": "code",
        "colab": {}
      },
      "source": [
        "sc <- spark_connect(master = \"local\")"
      ],
      "execution_count": 0,
      "outputs": []
    },
    {
      "cell_type": "markdown",
      "metadata": {
        "id": "jyR9zC7PMIYc",
        "colab_type": "text"
      },
      "source": [
        "Optional step. This resets the input and output folders. It makes it easier to run the code multiple times in a clean manner."
      ]
    },
    {
      "cell_type": "code",
      "metadata": {
        "id": "xZ68ePLOMIYc",
        "colab_type": "code",
        "colab": {}
      },
      "source": [
        "if(file.exists(\"source\")) unlink(\"source\", TRUE)\n",
        "if(file.exists(\"source-out\")) unlink(\"source-out\", TRUE)"
      ],
      "execution_count": 0,
      "outputs": []
    },
    {
      "cell_type": "markdown",
      "metadata": {
        "id": "NLHNMiKMMIYe",
        "colab_type": "text"
      },
      "source": [
        "2. Produce a single test file inside the “source” folder. This allows the “read” function to infer CSV file definition."
      ]
    },
    {
      "cell_type": "code",
      "metadata": {
        "id": "V34LW1cmMIYe",
        "colab_type": "code",
        "outputId": "4301179f-5986-48a0-9d1c-ea2ec125528c",
        "colab": {
          "base_uri": "https://localhost:8080/",
          "height": 54
        }
      },
      "source": [
        "stream_generate_test(iterations = 1)\n",
        "list.files(\"source\")"
      ],
      "execution_count": 4,
      "outputs": [
        {
          "output_type": "display_data",
          "data": {
            "text/plain": [
              "[1] \"stream_1.csv\""
            ],
            "text/latex": "'stream\\_1.csv'",
            "text/markdown": "'stream_1.csv'",
            "text/html": [
              "'stream_1.csv'"
            ]
          },
          "metadata": {
            "tags": []
          }
        }
      ]
    },
    {
      "cell_type": "markdown",
      "metadata": {
        "id": "egGqBoOmMIYg",
        "colab_type": "text"
      },
      "source": [
        "3. Point the stream reader to the folder where the streaming files will be placed. "
      ]
    },
    {
      "cell_type": "code",
      "metadata": {
        "id": "xP9Oq-baMIYg",
        "colab_type": "code",
        "colab": {}
      },
      "source": [
        "read_folder <- stream_read_csv(sc, \"source\") "
      ],
      "execution_count": 0,
      "outputs": []
    },
    {
      "cell_type": "markdown",
      "metadata": {
        "id": "fmJeIeolMIYi",
        "colab_type": "text"
      },
      "source": [
        "4. Process stream function: The processing starts with the read_folder variable that contains the input stream. It coerces the integer field x, into a type double. This is because the next function, ft_binarizer() does not accept integers. The binarizer determines if x is over 400 or not. This is a good illustration of how dplyr can help simplify the manipulation needed during the processing stage."
      ]
    },
    {
      "cell_type": "code",
      "metadata": {
        "id": "KCmDNZ2kMIYi",
        "colab_type": "code",
        "colab": {}
      },
      "source": [
        "process_stream <- read_folder %>%\n",
        "  mutate(x = as.double(x)) %>%\n",
        "  ft_binarizer(\n",
        "    input_col = \"x\",\n",
        "    output_col = \"over\",\n",
        "    threshold = 400\n",
        "  )"
      ],
      "execution_count": 0,
      "outputs": []
    },
    {
      "cell_type": "markdown",
      "metadata": {
        "id": "Xfi0f9zzMIYk",
        "colab_type": "text"
      },
      "source": [
        "4. The output writer is what starts the streaming job. It will start monitoring the input folder, and then write the new results in the “source-out” folder. "
      ]
    },
    {
      "cell_type": "code",
      "metadata": {
        "id": "l2U6lp-PMIYl",
        "colab_type": "code",
        "colab": {}
      },
      "source": [
        "write_output <- stream_write_csv(process_stream, \"source-out\")"
      ],
      "execution_count": 0,
      "outputs": []
    },
    {
      "cell_type": "markdown",
      "metadata": {
        "id": "4PsDwsZcMIYp",
        "colab_type": "text"
      },
      "source": [
        "5. The test generation function will run 100 files every 0.2 seconds. To run the tests “out-of-sync” with the current R session, the future package is used."
      ]
    },
    {
      "cell_type": "code",
      "metadata": {
        "id": "kXDj3Q78MIYp",
        "colab_type": "code",
        "colab": {}
      },
      "source": [
        "invisible(future(stream_generate_test(interval = 0.2, iterations = 100)))"
      ],
      "execution_count": 0,
      "outputs": []
    },
    {
      "cell_type": "markdown",
      "metadata": {
        "id": "_rHxHaU6MIYr",
        "colab_type": "text"
      },
      "source": [
        "6. The “source-out” folder can be treated as a if it was a single table within Spark. Using spark_read_csv(), the data can be mapped, but not brought into memory (memory = FALSE). This allows the current results to be further analyzed using regular dplyr commands."
      ]
    },
    {
      "cell_type": "code",
      "metadata": {
        "id": "FBuiujioMIYs",
        "colab_type": "code",
        "outputId": "1f20eaa5-87ba-4339-a404-79f6d246c764",
        "colab": {
          "base_uri": "https://localhost:8080/",
          "height": 104
        }
      },
      "source": [
        "spark_read_csv(sc, \"stream\", \"source-out\", memory = FALSE)"
      ],
      "execution_count": 13,
      "outputs": [
        {
          "output_type": "display_data",
          "data": {
            "text/plain": [
              "\u001b[90m# Source: spark<?> [?? x 2]\u001b[39m\n",
              "   over     n\n",
              "  \u001b[3m\u001b[90m<dbl>\u001b[39m\u001b[23m \u001b[3m\u001b[90m<dbl>\u001b[39m\u001b[23m\n",
              "\u001b[90m1\u001b[39m     0    12"
            ]
          },
          "metadata": {
            "tags": []
          }
        }
      ]
    },
    {
      "cell_type": "markdown",
      "metadata": {
        "toc-hr-collapsed": true,
        "toc-nb-collapsed": true,
        "id": "CyMGc0yhMIYu",
        "colab_type": "text"
      },
      "source": [
        "## Exercises"
      ]
    },
    {
      "cell_type": "markdown",
      "metadata": {
        "id": "uw-y8gEJMIYu",
        "colab_type": "text"
      },
      "source": [
        "### 1. MapReduce"
      ]
    },
    {
      "cell_type": "markdown",
      "metadata": {
        "id": "_Rm_whOmMIYu",
        "colab_type": "text"
      },
      "source": [
        "__Sales analysis__\n",
        "\n",
        "You need to run a company-wide sales analysis. Your company uses a MapReduce system to handle the massive transaction data.\n",
        "\n",
        "We will have a look at the data first:\n"
      ]
    },
    {
      "cell_type": "code",
      "metadata": {
        "id": "CGdJL5qLMIYu",
        "colab_type": "code",
        "outputId": "3d037c67-6a5a-42db-8b95-2906d3774ece",
        "colab": {
          "base_uri": "https://localhost:8080/",
          "height": 521
        }
      },
      "source": [
        "sales <- read_csv('https://raw.githubusercontent.com/wi3jmu/AIS2020/master/notebooks/data/sales.csv')\n",
        "sales %>% head(10)"
      ],
      "execution_count": 0,
      "outputs": [
        {
          "output_type": "stream",
          "text": [
            "Parsed with column specification:\n",
            "cols(\n",
            "  date = \u001b[34mcol_date(format = \"\")\u001b[39m,\n",
            "  customerID = \u001b[32mcol_double()\u001b[39m,\n",
            "  productID = \u001b[32mcol_double()\u001b[39m,\n",
            "  payment = \u001b[31mcol_character()\u001b[39m,\n",
            "  amount = \u001b[32mcol_double()\u001b[39m,\n",
            "  price = \u001b[32mcol_double()\u001b[39m,\n",
            "  cost = \u001b[32mcol_double()\u001b[39m,\n",
            "  category = \u001b[31mcol_character()\u001b[39m\n",
            ")\n",
            "\n"
          ],
          "name": "stderr"
        },
        {
          "output_type": "display_data",
          "data": {
            "text/plain": [
              "   date       customerID productID payment     amount price  cost   category \n",
              "1  2017-01-16 64292       8403     paypal      3      560.74 234.89 emergency\n",
              "2  2017-08-16 41174       7234     paypal      3      351.14 171.11 specialty\n",
              "3  2017-10-26 49737      32738     paypal      3      343.38 105.14 emergency\n",
              "4  2017-11-24 24021      70159     cash        2      905.96 345.40 emergency\n",
              "5  2017-02-13 78762       2002     cash        2      799.99 407.30 emergency\n",
              "6  2017-07-18 79148      86205     credit card 1      284.07 132.35 emergency\n",
              "7  2017-08-23 79148      40784     cash        3      125.79  47.53 specialty\n",
              "8  2017-11-06 23090      16224     paypal      3       85.77  36.61 specialty\n",
              "9  2017-09-28 12307      82560     credit card 2      658.88 330.44 emergency\n",
              "10 2017-04-19 45757      27578     credit card 1      458.31 269.80 emergency"
            ],
            "text/latex": "A tibble: 10 × 8\n\\begin{tabular}{llllllll}\n date & customerID & productID & payment & amount & price & cost & category\\\\\n <date> & <dbl> & <dbl> & <chr> & <dbl> & <dbl> & <dbl> & <chr>\\\\\n\\hline\n\t 2017-01-16 & 64292 &  8403 & paypal      & 3 & 560.74 & 234.89 & emergency\\\\\n\t 2017-08-16 & 41174 &  7234 & paypal      & 3 & 351.14 & 171.11 & specialty\\\\\n\t 2017-10-26 & 49737 & 32738 & paypal      & 3 & 343.38 & 105.14 & emergency\\\\\n\t 2017-11-24 & 24021 & 70159 & cash        & 2 & 905.96 & 345.40 & emergency\\\\\n\t 2017-02-13 & 78762 &  2002 & cash        & 2 & 799.99 & 407.30 & emergency\\\\\n\t 2017-07-18 & 79148 & 86205 & credit card & 1 & 284.07 & 132.35 & emergency\\\\\n\t 2017-08-23 & 79148 & 40784 & cash        & 3 & 125.79 &  47.53 & specialty\\\\\n\t 2017-11-06 & 23090 & 16224 & paypal      & 3 &  85.77 &  36.61 & specialty\\\\\n\t 2017-09-28 & 12307 & 82560 & credit card & 2 & 658.88 & 330.44 & emergency\\\\\n\t 2017-04-19 & 45757 & 27578 & credit card & 1 & 458.31 & 269.80 & emergency\\\\\n\\end{tabular}\n",
            "text/markdown": "\nA tibble: 10 × 8\n\n| date &lt;date&gt; | customerID &lt;dbl&gt; | productID &lt;dbl&gt; | payment &lt;chr&gt; | amount &lt;dbl&gt; | price &lt;dbl&gt; | cost &lt;dbl&gt; | category &lt;chr&gt; |\n|---|---|---|---|---|---|---|---|\n| 2017-01-16 | 64292 |  8403 | paypal      | 3 | 560.74 | 234.89 | emergency |\n| 2017-08-16 | 41174 |  7234 | paypal      | 3 | 351.14 | 171.11 | specialty |\n| 2017-10-26 | 49737 | 32738 | paypal      | 3 | 343.38 | 105.14 | emergency |\n| 2017-11-24 | 24021 | 70159 | cash        | 2 | 905.96 | 345.40 | emergency |\n| 2017-02-13 | 78762 |  2002 | cash        | 2 | 799.99 | 407.30 | emergency |\n| 2017-07-18 | 79148 | 86205 | credit card | 1 | 284.07 | 132.35 | emergency |\n| 2017-08-23 | 79148 | 40784 | cash        | 3 | 125.79 |  47.53 | specialty |\n| 2017-11-06 | 23090 | 16224 | paypal      | 3 |  85.77 |  36.61 | specialty |\n| 2017-09-28 | 12307 | 82560 | credit card | 2 | 658.88 | 330.44 | emergency |\n| 2017-04-19 | 45757 | 27578 | credit card | 1 | 458.31 | 269.80 | emergency |\n\n",
            "text/html": [
              "<table>\n",
              "<caption>A tibble: 10 × 8</caption>\n",
              "<thead>\n",
              "\t<tr><th scope=col>date</th><th scope=col>customerID</th><th scope=col>productID</th><th scope=col>payment</th><th scope=col>amount</th><th scope=col>price</th><th scope=col>cost</th><th scope=col>category</th></tr>\n",
              "\t<tr><th scope=col>&lt;date&gt;</th><th scope=col>&lt;dbl&gt;</th><th scope=col>&lt;dbl&gt;</th><th scope=col>&lt;chr&gt;</th><th scope=col>&lt;dbl&gt;</th><th scope=col>&lt;dbl&gt;</th><th scope=col>&lt;dbl&gt;</th><th scope=col>&lt;chr&gt;</th></tr>\n",
              "</thead>\n",
              "<tbody>\n",
              "\t<tr><td>2017-01-16</td><td>64292</td><td> 8403</td><td>paypal     </td><td>3</td><td>560.74</td><td>234.89</td><td>emergency</td></tr>\n",
              "\t<tr><td>2017-08-16</td><td>41174</td><td> 7234</td><td>paypal     </td><td>3</td><td>351.14</td><td>171.11</td><td>specialty</td></tr>\n",
              "\t<tr><td>2017-10-26</td><td>49737</td><td>32738</td><td>paypal     </td><td>3</td><td>343.38</td><td>105.14</td><td>emergency</td></tr>\n",
              "\t<tr><td>2017-11-24</td><td>24021</td><td>70159</td><td>cash       </td><td>2</td><td>905.96</td><td>345.40</td><td>emergency</td></tr>\n",
              "\t<tr><td>2017-02-13</td><td>78762</td><td> 2002</td><td>cash       </td><td>2</td><td>799.99</td><td>407.30</td><td>emergency</td></tr>\n",
              "\t<tr><td>2017-07-18</td><td>79148</td><td>86205</td><td>credit card</td><td>1</td><td>284.07</td><td>132.35</td><td>emergency</td></tr>\n",
              "\t<tr><td>2017-08-23</td><td>79148</td><td>40784</td><td>cash       </td><td>3</td><td>125.79</td><td> 47.53</td><td>specialty</td></tr>\n",
              "\t<tr><td>2017-11-06</td><td>23090</td><td>16224</td><td>paypal     </td><td>3</td><td> 85.77</td><td> 36.61</td><td>specialty</td></tr>\n",
              "\t<tr><td>2017-09-28</td><td>12307</td><td>82560</td><td>credit card</td><td>2</td><td>658.88</td><td>330.44</td><td>emergency</td></tr>\n",
              "\t<tr><td>2017-04-19</td><td>45757</td><td>27578</td><td>credit card</td><td>1</td><td>458.31</td><td>269.80</td><td>emergency</td></tr>\n",
              "</tbody>\n",
              "</table>\n"
            ]
          },
          "metadata": {
            "tags": []
          }
        }
      ]
    },
    {
      "cell_type": "markdown",
      "metadata": {
        "id": "RYAyavuBR0eD",
        "colab_type": "text"
      },
      "source": [
        "Define the corresponding Map and Reduce functions:\n",
        "\n",
        "__Map__: Calculates the total profit for each product id within each subset"
      ]
    },
    {
      "cell_type": "code",
      "metadata": {
        "id": "zsij7tfpMIYx",
        "colab_type": "code",
        "colab": {}
      },
      "source": [
        "calculate_profit <- function(df){\n",
        "    df %>%\n",
        "        # Write your code here \n",
        "}"
      ],
      "execution_count": 0,
      "outputs": []
    },
    {
      "cell_type": "markdown",
      "metadata": {
        "id": "AcsQgrX8R3Eu",
        "colab_type": "text"
      },
      "source": [
        "__Reduce__: Adds up the profit for each different product id"
      ]
    },
    {
      "cell_type": "code",
      "metadata": {
        "id": "ZFK1KaR9MIYy",
        "colab_type": "code",
        "colab": {}
      },
      "source": [
        "reduce_profit <- function(df){\n",
        "    df %>%\n",
        "        # Write your code here \n",
        "}"
      ],
      "execution_count": 0,
      "outputs": []
    },
    {
      "cell_type": "code",
      "metadata": {
        "id": "fPRJpeluMIY0",
        "colab_type": "code",
        "outputId": "569772bb-6526-410f-9017-9b1c8fcb49e0",
        "colab": {
          "base_uri": "https://localhost:8080/",
          "height": 313
        }
      },
      "source": [
        "sales %>% #Input\n",
        "    split(sample(rep(1:5, 1000))) %>% #Splitting\n",
        "    map(calculate_profit) %>% #Mapping\n",
        "    map_df(rbind) %>% group_split(productID)%>% #Shuffling\n",
        "    map(reduce_profit) %>% #Reduce\n",
        "    map_df(cbind) %>% arrange(desc(total_profit)) %>%  #Merge and Sort\n",
        "    head(10) #Display only top 10"
      ],
      "execution_count": 0,
      "outputs": [
        {
          "output_type": "display_data",
          "data": {
            "text/plain": [
              "   productID total_profit\n",
              "1  43446     171232.25   \n",
              "2  24221     111657.54   \n",
              "3  60974      88118.82   \n",
              "4  70159      84644.56   \n",
              "5  89266      73408.04   \n",
              "6  86064      68414.58   \n",
              "7   9947      64715.40   \n",
              "8  61070      64571.40   \n",
              "9  62077      63238.50   \n",
              "10  2002      62437.71   "
            ],
            "text/latex": "A data.frame: 10 × 2\n\\begin{tabular}{r|ll}\n  & productID & total\\_profit\\\\\n  & <dbl> & <dbl>\\\\\n\\hline\n\t1 & 43446 & 171232.25\\\\\n\t2 & 24221 & 111657.54\\\\\n\t3 & 60974 &  88118.82\\\\\n\t4 & 70159 &  84644.56\\\\\n\t5 & 89266 &  73408.04\\\\\n\t6 & 86064 &  68414.58\\\\\n\t7 &  9947 &  64715.40\\\\\n\t8 & 61070 &  64571.40\\\\\n\t9 & 62077 &  63238.50\\\\\n\t10 &  2002 &  62437.71\\\\\n\\end{tabular}\n",
            "text/markdown": "\nA data.frame: 10 × 2\n\n| <!--/--> | productID &lt;dbl&gt; | total_profit &lt;dbl&gt; |\n|---|---|---|\n| 1 | 43446 | 171232.25 |\n| 2 | 24221 | 111657.54 |\n| 3 | 60974 |  88118.82 |\n| 4 | 70159 |  84644.56 |\n| 5 | 89266 |  73408.04 |\n| 6 | 86064 |  68414.58 |\n| 7 |  9947 |  64715.40 |\n| 8 | 61070 |  64571.40 |\n| 9 | 62077 |  63238.50 |\n| 10 |  2002 |  62437.71 |\n\n",
            "text/html": [
              "<table>\n",
              "<caption>A data.frame: 10 × 2</caption>\n",
              "<thead>\n",
              "\t<tr><th></th><th scope=col>productID</th><th scope=col>total_profit</th></tr>\n",
              "\t<tr><th></th><th scope=col>&lt;dbl&gt;</th><th scope=col>&lt;dbl&gt;</th></tr>\n",
              "</thead>\n",
              "<tbody>\n",
              "\t<tr><th scope=row>1</th><td>43446</td><td>171232.25</td></tr>\n",
              "\t<tr><th scope=row>2</th><td>24221</td><td>111657.54</td></tr>\n",
              "\t<tr><th scope=row>3</th><td>60974</td><td> 88118.82</td></tr>\n",
              "\t<tr><th scope=row>4</th><td>70159</td><td> 84644.56</td></tr>\n",
              "\t<tr><th scope=row>5</th><td>89266</td><td> 73408.04</td></tr>\n",
              "\t<tr><th scope=row>6</th><td>86064</td><td> 68414.58</td></tr>\n",
              "\t<tr><th scope=row>7</th><td> 9947</td><td> 64715.40</td></tr>\n",
              "\t<tr><th scope=row>8</th><td>61070</td><td> 64571.40</td></tr>\n",
              "\t<tr><th scope=row>9</th><td>62077</td><td> 63238.50</td></tr>\n",
              "\t<tr><th scope=row>10</th><td> 2002</td><td> 62437.71</td></tr>\n",
              "</tbody>\n",
              "</table>\n"
            ]
          },
          "metadata": {
            "tags": []
          }
        }
      ]
    },
    {
      "cell_type": "markdown",
      "metadata": {
        "id": "5MQz_q7mMIY1",
        "colab_type": "text"
      },
      "source": [
        "### 2. Stream Processing"
      ]
    },
    {
      "cell_type": "markdown",
      "metadata": {
        "id": "Dgj5CSa-MIY2",
        "colab_type": "text"
      },
      "source": [
        "1. Why do stateful operation complicate parallelization?"
      ]
    },
    {
      "cell_type": "code",
      "metadata": {
        "id": "kELQxgD5gg70",
        "colab_type": "code",
        "colab": {}
      },
      "source": [
        " # Write your answer here"
      ],
      "execution_count": 0,
      "outputs": []
    },
    {
      "cell_type": "markdown",
      "metadata": {
        "id": "eN_92kfFMIY2",
        "colab_type": "text"
      },
      "source": [
        "2. Why do parallelization operations complicate fault-tolerance?"
      ]
    },
    {
      "cell_type": "code",
      "metadata": {
        "id": "mfp2O1PTgpAG",
        "colab_type": "code",
        "colab": {}
      },
      "source": [
        " # Write your answer here"
      ],
      "execution_count": 0,
      "outputs": []
    }
  ]
}