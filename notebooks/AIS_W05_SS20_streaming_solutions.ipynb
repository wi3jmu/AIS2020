{
  "nbformat": 4,
  "nbformat_minor": 0,
  "metadata": {
    "kernelspec": {
      "display_name": "R",
      "language": "R",
      "name": "ir"
    },
    "language_info": {
      "codemirror_mode": "r",
      "file_extension": ".r",
      "mimetype": "text/x-r-source",
      "name": "R",
      "pygments_lexer": "r",
      "version": "3.6.1"
    },
    "rise": {
      "enable_chalkboard": false,
      "overlay": "<div class='logo'><img src='images/uniwue4c.png'></div>",
      "scroll": true
    },
    "toc": {
      "base_numbering": 1,
      "nav_menu": {},
      "number_sections": true,
      "sideBar": true,
      "skip_h1_title": true,
      "title_cell": "Agenda",
      "title_sidebar": "Contents",
      "toc_cell": true,
      "toc_position": {},
      "toc_section_display": true,
      "toc_window_display": false
    },
    "colab": {
      "name": "AIS_W05_SS20_streaming_solutions.ipynb",
      "provenance": [],
      "toc_visible": true
    }
  },
  "cells": [
    {
      "cell_type": "markdown",
      "metadata": {
        "cell_style": "center",
        "id": "TaLyJWgNMIXQ",
        "colab_type": "text"
      },
      "source": [
        "*Analytical Information Systems*\n",
        "\n",
        "# Worksheet 5 - Big Data and Streaming\n",
        "\n",
        "Matthias Griebel<br>\n",
        "Lehrstuhl für Wirtschaftsinformatik und Informationsmanagement\n",
        "\n",
        "SS 2020"
      ]
    },
    {
      "cell_type": "markdown",
      "metadata": {
        "toc-hr-collapsed": true,
        "toc-nb-collapsed": true,
        "id": "CyMGc0yhMIYu",
        "colab_type": "text"
      },
      "source": [
        "## Exercises"
      ]
    },
    {
      "cell_type": "markdown",
      "metadata": {
        "id": "uw-y8gEJMIYu",
        "colab_type": "text"
      },
      "source": [
        "### 1. MapReduce"
      ]
    },
    {
      "cell_type": "markdown",
      "metadata": {
        "id": "_Rm_whOmMIYu",
        "colab_type": "text"
      },
      "source": [
        "__Sales analysis__\n",
        "\n",
        "You need to run a company-wide sales analysis. Your company uses a MapReduce system to handle the massive transaction data.\n",
        "\n",
        "We will have a look at the data first:\n"
      ]
    },
    {
      "cell_type": "code",
      "metadata": {
        "id": "CGdJL5qLMIYu",
        "colab_type": "code",
        "outputId": "f04d51b5-bc9c-4a21-ca7b-f2de45578135",
        "colab": {
          "base_uri": "https://localhost:8080/",
          "height": 500
        }
      },
      "source": [
        "library(tidyverse)\n",
        "sales <- read_csv('https://raw.githubusercontent.com/wi3jmu/AIS2020/master/notebooks/data/sales.csv')\n",
        "sales %>% head(10)"
      ],
      "execution_count": 14,
      "outputs": [
        {
          "output_type": "stream",
          "text": [
            "Parsed with column specification:\n",
            "cols(\n",
            "  date = \u001b[34mcol_date(format = \"\")\u001b[39m,\n",
            "  customerID = \u001b[32mcol_double()\u001b[39m,\n",
            "  productID = \u001b[32mcol_double()\u001b[39m,\n",
            "  payment = \u001b[31mcol_character()\u001b[39m,\n",
            "  amount = \u001b[32mcol_double()\u001b[39m,\n",
            "  price = \u001b[32mcol_double()\u001b[39m,\n",
            "  cost = \u001b[32mcol_double()\u001b[39m,\n",
            "  category = \u001b[31mcol_character()\u001b[39m\n",
            ")\n",
            "\n"
          ],
          "name": "stderr"
        },
        {
          "output_type": "display_data",
          "data": {
            "text/plain": [
              "   date       customerID productID payment     amount price  cost   category \n",
              "1  2017-01-16 64292       8403     paypal      3      560.74 234.89 emergency\n",
              "2  2017-08-16 41174       7234     paypal      3      351.14 171.11 specialty\n",
              "3  2017-10-26 49737      32738     paypal      3      343.38 105.14 emergency\n",
              "4  2017-11-24 24021      70159     cash        2      905.96 345.40 emergency\n",
              "5  2017-02-13 78762       2002     cash        2      799.99 407.30 emergency\n",
              "6  2017-07-18 79148      86205     credit card 1      284.07 132.35 emergency\n",
              "7  2017-08-23 79148      40784     cash        3      125.79  47.53 specialty\n",
              "8  2017-11-06 23090      16224     paypal      3       85.77  36.61 specialty\n",
              "9  2017-09-28 12307      82560     credit card 2      658.88 330.44 emergency\n",
              "10 2017-04-19 45757      27578     credit card 1      458.31 269.80 emergency"
            ],
            "text/latex": "A tibble: 10 × 8\n\\begin{tabular}{llllllll}\n date & customerID & productID & payment & amount & price & cost & category\\\\\n <date> & <dbl> & <dbl> & <chr> & <dbl> & <dbl> & <dbl> & <chr>\\\\\n\\hline\n\t 2017-01-16 & 64292 &  8403 & paypal      & 3 & 560.74 & 234.89 & emergency\\\\\n\t 2017-08-16 & 41174 &  7234 & paypal      & 3 & 351.14 & 171.11 & specialty\\\\\n\t 2017-10-26 & 49737 & 32738 & paypal      & 3 & 343.38 & 105.14 & emergency\\\\\n\t 2017-11-24 & 24021 & 70159 & cash        & 2 & 905.96 & 345.40 & emergency\\\\\n\t 2017-02-13 & 78762 &  2002 & cash        & 2 & 799.99 & 407.30 & emergency\\\\\n\t 2017-07-18 & 79148 & 86205 & credit card & 1 & 284.07 & 132.35 & emergency\\\\\n\t 2017-08-23 & 79148 & 40784 & cash        & 3 & 125.79 &  47.53 & specialty\\\\\n\t 2017-11-06 & 23090 & 16224 & paypal      & 3 &  85.77 &  36.61 & specialty\\\\\n\t 2017-09-28 & 12307 & 82560 & credit card & 2 & 658.88 & 330.44 & emergency\\\\\n\t 2017-04-19 & 45757 & 27578 & credit card & 1 & 458.31 & 269.80 & emergency\\\\\n\\end{tabular}\n",
            "text/markdown": "\nA tibble: 10 × 8\n\n| date &lt;date&gt; | customerID &lt;dbl&gt; | productID &lt;dbl&gt; | payment &lt;chr&gt; | amount &lt;dbl&gt; | price &lt;dbl&gt; | cost &lt;dbl&gt; | category &lt;chr&gt; |\n|---|---|---|---|---|---|---|---|\n| 2017-01-16 | 64292 |  8403 | paypal      | 3 | 560.74 | 234.89 | emergency |\n| 2017-08-16 | 41174 |  7234 | paypal      | 3 | 351.14 | 171.11 | specialty |\n| 2017-10-26 | 49737 | 32738 | paypal      | 3 | 343.38 | 105.14 | emergency |\n| 2017-11-24 | 24021 | 70159 | cash        | 2 | 905.96 | 345.40 | emergency |\n| 2017-02-13 | 78762 |  2002 | cash        | 2 | 799.99 | 407.30 | emergency |\n| 2017-07-18 | 79148 | 86205 | credit card | 1 | 284.07 | 132.35 | emergency |\n| 2017-08-23 | 79148 | 40784 | cash        | 3 | 125.79 |  47.53 | specialty |\n| 2017-11-06 | 23090 | 16224 | paypal      | 3 |  85.77 |  36.61 | specialty |\n| 2017-09-28 | 12307 | 82560 | credit card | 2 | 658.88 | 330.44 | emergency |\n| 2017-04-19 | 45757 | 27578 | credit card | 1 | 458.31 | 269.80 | emergency |\n\n",
            "text/html": [
              "<table>\n",
              "<caption>A tibble: 10 × 8</caption>\n",
              "<thead>\n",
              "\t<tr><th scope=col>date</th><th scope=col>customerID</th><th scope=col>productID</th><th scope=col>payment</th><th scope=col>amount</th><th scope=col>price</th><th scope=col>cost</th><th scope=col>category</th></tr>\n",
              "\t<tr><th scope=col>&lt;date&gt;</th><th scope=col>&lt;dbl&gt;</th><th scope=col>&lt;dbl&gt;</th><th scope=col>&lt;chr&gt;</th><th scope=col>&lt;dbl&gt;</th><th scope=col>&lt;dbl&gt;</th><th scope=col>&lt;dbl&gt;</th><th scope=col>&lt;chr&gt;</th></tr>\n",
              "</thead>\n",
              "<tbody>\n",
              "\t<tr><td>2017-01-16</td><td>64292</td><td> 8403</td><td>paypal     </td><td>3</td><td>560.74</td><td>234.89</td><td>emergency</td></tr>\n",
              "\t<tr><td>2017-08-16</td><td>41174</td><td> 7234</td><td>paypal     </td><td>3</td><td>351.14</td><td>171.11</td><td>specialty</td></tr>\n",
              "\t<tr><td>2017-10-26</td><td>49737</td><td>32738</td><td>paypal     </td><td>3</td><td>343.38</td><td>105.14</td><td>emergency</td></tr>\n",
              "\t<tr><td>2017-11-24</td><td>24021</td><td>70159</td><td>cash       </td><td>2</td><td>905.96</td><td>345.40</td><td>emergency</td></tr>\n",
              "\t<tr><td>2017-02-13</td><td>78762</td><td> 2002</td><td>cash       </td><td>2</td><td>799.99</td><td>407.30</td><td>emergency</td></tr>\n",
              "\t<tr><td>2017-07-18</td><td>79148</td><td>86205</td><td>credit card</td><td>1</td><td>284.07</td><td>132.35</td><td>emergency</td></tr>\n",
              "\t<tr><td>2017-08-23</td><td>79148</td><td>40784</td><td>cash       </td><td>3</td><td>125.79</td><td> 47.53</td><td>specialty</td></tr>\n",
              "\t<tr><td>2017-11-06</td><td>23090</td><td>16224</td><td>paypal     </td><td>3</td><td> 85.77</td><td> 36.61</td><td>specialty</td></tr>\n",
              "\t<tr><td>2017-09-28</td><td>12307</td><td>82560</td><td>credit card</td><td>2</td><td>658.88</td><td>330.44</td><td>emergency</td></tr>\n",
              "\t<tr><td>2017-04-19</td><td>45757</td><td>27578</td><td>credit card</td><td>1</td><td>458.31</td><td>269.80</td><td>emergency</td></tr>\n",
              "</tbody>\n",
              "</table>\n"
            ]
          },
          "metadata": {
            "tags": []
          }
        }
      ]
    },
    {
      "cell_type": "markdown",
      "metadata": {
        "id": "RYAyavuBR0eD",
        "colab_type": "text"
      },
      "source": [
        "Define the corresponding Map and Reduce functions:\n",
        "\n",
        "__Map__: Calculates the total profit for each product id within each subset"
      ]
    },
    {
      "cell_type": "code",
      "metadata": {
        "id": "zsij7tfpMIYx",
        "colab_type": "code",
        "colab": {}
      },
      "source": [
        "calculate_profit <- function(df){\n",
        "    df %>%\n",
        "        mutate(profit=(price-cost)*amount) %>% \n",
        "        group_by(productID) %>%\n",
        "        summarise(total_profit = sum(profit))\n",
        "}"
      ],
      "execution_count": 0,
      "outputs": []
    },
    {
      "cell_type": "markdown",
      "metadata": {
        "id": "AcsQgrX8R3Eu",
        "colab_type": "text"
      },
      "source": [
        "__Reduce__: Adds up the profit for each different product id"
      ]
    },
    {
      "cell_type": "code",
      "metadata": {
        "id": "ZFK1KaR9MIYy",
        "colab_type": "code",
        "colab": {}
      },
      "source": [
        "reduce_profit <- function(df){\n",
        "    df %>%\n",
        "        summarise(productID=productID[1],\n",
        "                  total_profit=sum(total_profit)) \n",
        "}"
      ],
      "execution_count": 0,
      "outputs": []
    },
    {
      "cell_type": "code",
      "metadata": {
        "id": "fPRJpeluMIY0",
        "colab_type": "code",
        "outputId": "0daa7364-c3cf-40c7-cbcf-8797a7157312",
        "colab": {
          "base_uri": "https://localhost:8080/",
          "height": 467
        }
      },
      "source": [
        "sales %>% #Input\n",
        "    split(sample(rep(1:5, 1000))) %>% #Splitting\n",
        "    map(calculate_profit) %>% #Mapping\n",
        "    map_df(rbind) %>% group_split(productID)%>% #Shuffling\n",
        "    map(reduce_profit) %>% #Reduce\n",
        "    map_df(cbind) %>% arrange(desc(total_profit)) %>%  #Merge and Sort\n",
        "    head(10) #Display only top 10"
      ],
      "execution_count": 17,
      "outputs": [
        {
          "output_type": "stream",
          "text": [
            "`summarise()` ungrouping output (override with `.groups` argument)\n",
            "\n",
            "`summarise()` ungrouping output (override with `.groups` argument)\n",
            "\n",
            "`summarise()` ungrouping output (override with `.groups` argument)\n",
            "\n",
            "`summarise()` ungrouping output (override with `.groups` argument)\n",
            "\n",
            "`summarise()` ungrouping output (override with `.groups` argument)\n",
            "\n"
          ],
          "name": "stderr"
        },
        {
          "output_type": "display_data",
          "data": {
            "text/plain": [
              "   productID total_profit\n",
              "1  43446     171232.25   \n",
              "2  24221     111657.54   \n",
              "3  60974      88118.82   \n",
              "4  70159      84644.56   \n",
              "5  89266      73408.04   \n",
              "6  86064      68414.58   \n",
              "7   9947      64715.40   \n",
              "8  61070      64571.40   \n",
              "9  62077      63238.50   \n",
              "10  2002      62437.71   "
            ],
            "text/latex": "A data.frame: 10 × 2\n\\begin{tabular}{r|ll}\n  & productID & total\\_profit\\\\\n  & <dbl> & <dbl>\\\\\n\\hline\n\t1 & 43446 & 171232.25\\\\\n\t2 & 24221 & 111657.54\\\\\n\t3 & 60974 &  88118.82\\\\\n\t4 & 70159 &  84644.56\\\\\n\t5 & 89266 &  73408.04\\\\\n\t6 & 86064 &  68414.58\\\\\n\t7 &  9947 &  64715.40\\\\\n\t8 & 61070 &  64571.40\\\\\n\t9 & 62077 &  63238.50\\\\\n\t10 &  2002 &  62437.71\\\\\n\\end{tabular}\n",
            "text/markdown": "\nA data.frame: 10 × 2\n\n| <!--/--> | productID &lt;dbl&gt; | total_profit &lt;dbl&gt; |\n|---|---|---|\n| 1 | 43446 | 171232.25 |\n| 2 | 24221 | 111657.54 |\n| 3 | 60974 |  88118.82 |\n| 4 | 70159 |  84644.56 |\n| 5 | 89266 |  73408.04 |\n| 6 | 86064 |  68414.58 |\n| 7 |  9947 |  64715.40 |\n| 8 | 61070 |  64571.40 |\n| 9 | 62077 |  63238.50 |\n| 10 |  2002 |  62437.71 |\n\n",
            "text/html": [
              "<table>\n",
              "<caption>A data.frame: 10 × 2</caption>\n",
              "<thead>\n",
              "\t<tr><th></th><th scope=col>productID</th><th scope=col>total_profit</th></tr>\n",
              "\t<tr><th></th><th scope=col>&lt;dbl&gt;</th><th scope=col>&lt;dbl&gt;</th></tr>\n",
              "</thead>\n",
              "<tbody>\n",
              "\t<tr><th scope=row>1</th><td>43446</td><td>171232.25</td></tr>\n",
              "\t<tr><th scope=row>2</th><td>24221</td><td>111657.54</td></tr>\n",
              "\t<tr><th scope=row>3</th><td>60974</td><td> 88118.82</td></tr>\n",
              "\t<tr><th scope=row>4</th><td>70159</td><td> 84644.56</td></tr>\n",
              "\t<tr><th scope=row>5</th><td>89266</td><td> 73408.04</td></tr>\n",
              "\t<tr><th scope=row>6</th><td>86064</td><td> 68414.58</td></tr>\n",
              "\t<tr><th scope=row>7</th><td> 9947</td><td> 64715.40</td></tr>\n",
              "\t<tr><th scope=row>8</th><td>61070</td><td> 64571.40</td></tr>\n",
              "\t<tr><th scope=row>9</th><td>62077</td><td> 63238.50</td></tr>\n",
              "\t<tr><th scope=row>10</th><td> 2002</td><td> 62437.71</td></tr>\n",
              "</tbody>\n",
              "</table>\n"
            ]
          },
          "metadata": {
            "tags": []
          }
        }
      ]
    },
    {
      "cell_type": "markdown",
      "metadata": {
        "id": "5MQz_q7mMIY1",
        "colab_type": "text"
      },
      "source": [
        "### 2. Stream Processing"
      ]
    },
    {
      "cell_type": "markdown",
      "metadata": {
        "id": "Dgj5CSa-MIY2",
        "colab_type": "text"
      },
      "source": [
        "1. Why do stateful operation complicate parallelization?"
      ]
    },
    {
      "cell_type": "code",
      "metadata": {
        "id": "kELQxgD5gg70",
        "colab_type": "code",
        "colab": {}
      },
      "source": [
        " # Need to join results across parallel computations"
      ],
      "execution_count": 0,
      "outputs": []
    },
    {
      "cell_type": "markdown",
      "metadata": {
        "id": "eN_92kfFMIY2",
        "colab_type": "text"
      },
      "source": [
        "2. Why do parallelization operations complicate fault-tolerance?"
      ]
    },
    {
      "cell_type": "code",
      "metadata": {
        "id": "mfp2O1PTgpAG",
        "colab_type": "code",
        "colab": {}
      },
      "source": [
        " # Handeling the failure of a node is more complicated; e.g. if we need to ensure exactly-once semantics"
      ],
      "execution_count": 0,
      "outputs": []
    }
  ]
}