{
 "cells": [
  {
   "cell_type": "markdown",
   "metadata": {
    "colab_type": "text",
    "id": "19WySn1P8V1U"
   },
   "source": [
    "*Analytical Information Systems*\n",
    "\n",
    "# Worksheet 1 - Introduction to Jupyter and R Analytic Pipelines\n",
    "\n",
    "Matthias Griebel<br>\n",
    "Lehrstuhl für Wirtschaftsinformatik und Informationsmanagement\n",
    "\n",
    "SS 2020"
   ]
  },
  {
   "cell_type": "markdown",
   "metadata": {
    "colab_type": "text",
    "id": "VnE3hANj8V1V"
   },
   "source": [
    "## Jupyter and R Working Environment"
   ]
  },
  {
   "cell_type": "markdown",
   "metadata": {
    "cell_style": "center",
    "colab_type": "text",
    "id": "2SlM3NUP8V1W"
   },
   "source": [
    "__We will be using R__\n",
    "\n",
    "<img src=\"https://upload.wikimedia.org/wikipedia/commons/thumb/1/1b/R_logo.svg/724px-R_logo.svg.png\" width=\"100\" align=\"right\">\n",
    "\n",
    "\n",
    "R is not the only language that can be used for data analysis. Why R rather than another?\n",
    "- interactive language\n",
    "- data structures & functions\n",
    "- graphics\n",
    "- packages & community!\n",
    "\n"
   ]
  },
  {
   "cell_type": "markdown",
   "metadata": {
    "cell_style": "center",
    "colab_type": "text",
    "id": "m6Efcfy-8V1X"
   },
   "source": [
    "__... and tidyverse__\n",
    "\n",
    "<img src=\"https://github.com/matjesg/AIS_2019/raw/master/notebooks/images/01/ecosystem.png\" width=\"300\" align=\"right\">\n",
    "\n",
    "The [tidyverse](https://www.tidyverse.org) is a collection of R packages that share common philosophies and are designed to work together.\n",
    "\n",
    "- Reuse existing data structures\n",
    "- Compose simple functions with the pipe\n",
    "- Embrace functional programming\n",
    "- Design for humans\n",
    "\n",
    "\n"
   ]
  },
  {
   "cell_type": "markdown",
   "metadata": {
    "colab_type": "text",
    "id": "bKfbS1968V1Y"
   },
   "source": [
    "__within the Jupyter Ecosystem__\n",
    "\n",
    "Project Jupyter exists to develop open-source software, open-standards, and services for interactive computing across dozens of programming languages (https://jupyter.org/)."
   ]
  },
  {
   "cell_type": "markdown",
   "metadata": {
    "colab_type": "text",
    "id": "L5f3H6tP8V1Z"
   },
   "source": [
    "### The Jupyter Notebook (this!)\n",
    "\n",
    "<img src=\"https://upload.wikimedia.org/wikipedia/commons/thumb/3/38/Jupyter_logo.svg/250px-Jupyter_logo.svg.png\" width=\"100\" align=\"right\">\n",
    "\n",
    "- open-source web application \n",
    "- create and share documents that contain\n",
    "    - live code and narrative text\n",
    "    - data cleaning and transformation\n",
    "    - numerical simulation\n",
    "    - statistical modeling \n",
    "    - data visualization\n",
    "    - machine learning\n",
    "    - and much more "
   ]
  },
  {
   "cell_type": "markdown",
   "metadata": {
    "colab_type": "text",
    "id": "AJqcX8WM8V1Z"
   },
   "source": [
    "__Jupyter Notebooks Cells__\n",
    "- A Markdown cell (this cell) contains text formatted using Markdown and displays its output in-place when it is run\n",
    "- A code cell contains code to be executed in the kernel and displays its output below"
   ]
  },
  {
   "cell_type": "markdown",
   "metadata": {
    "colab_type": "text",
    "id": "qbLwUAqY8V1a"
   },
   "source": [
    "Now, write and run your first code in the next cell and run the code\n",
    "```R\n",
    "string <- \"your text\"\n",
    "print(string)\n",
    "```"
   ]
  },
  {
   "cell_type": "code",
   "execution_count": 1,
   "metadata": {
    "colab": {},
    "colab_type": "code",
    "id": "vqeEng-b8V1b"
   },
   "outputs": [
    {
     "name": "stdout",
     "output_type": "stream",
     "text": [
      "[1] \"hello world\"\n"
     ]
    }
   ],
   "source": [
    "string <- \"hello world\"\n",
    "print(string)"
   ]
  },
  {
   "cell_type": "markdown",
   "metadata": {
    "colab_type": "text",
    "id": "UCUAEyWk8V1h"
   },
   "source": [
    "### Google Colab"
   ]
  },
  {
   "cell_type": "markdown",
   "metadata": {
    "colab_type": "text",
    "id": "a97A5MSr8V1i"
   },
   "source": [
    "<img alt=\"Colaboratory logo\" height=\"45px\" src=\"https://colab.research.google.com/img/colab_favicon.ico\" align=\"right\" hspace=\"10px\" vspace=\"0px\">\n",
    "\n",
    "[Colaboratory](https://colab.research.google.com/) is a free Jupyter notebook environment that requires no setup and runs entirely in the cloud.\n",
    "\n",
    "With Colaboratory you can \n",
    "- write and execute code, \n",
    "- save and share your analyses, and \n",
    "- access powerful computing resources (GPU and TPU), \n",
    "\n",
    "all for free from your browser. [More information](https://colab.research.google.com/notebooks/welcome.ipynb)"
   ]
  },
  {
   "cell_type": "markdown",
   "metadata": {
    "colab_type": "text",
    "id": "s5BPOxfq8V1j"
   },
   "source": [
    "### R Programming"
   ]
  },
  {
   "cell_type": "markdown",
   "metadata": {
    "colab_type": "text",
    "id": "dO1wCfQ68V1k"
   },
   "source": [
    "#### R Packages\n",
    "\n",
    "Packages are the fundamental units of reproducible R code. They include reusable R functions, the documentation that describes how to use them, and sample data. \n",
    "\n",
    "Example: Install and load the *tidyverse*\n",
    "```R\n",
    "# install\n",
    "install.packages('tidyverse')\n",
    "# load\n",
    "library(tidyverse)\n",
    "```"
   ]
  },
  {
   "cell_type": "markdown",
   "metadata": {
    "colab_type": "text",
    "id": "cD_-gj1O8V1k"
   },
   "source": [
    "The *tidyverse* package is already pre-installed, so we just need to load them"
   ]
  },
  {
   "cell_type": "code",
   "execution_count": 10,
   "metadata": {
    "colab": {},
    "colab_type": "code",
    "id": "_8lo7BRy8V1l",
    "scrolled": true
   },
   "outputs": [],
   "source": [
    "library(tidyverse)"
   ]
  },
  {
   "cell_type": "markdown",
   "metadata": {
    "colab_type": "text",
    "id": "_l0AhfQb8V1o"
   },
   "source": [
    "#### Operators in R"
   ]
  },
  {
   "cell_type": "markdown",
   "metadata": {
    "colab_type": "text",
    "id": "_0AqrfXo8V1p"
   },
   "source": [
    "#### Assignment operators\n",
    "\n",
    "These operators are used to assign values to variables\n",
    "<table style=\"font-size: 100%;\">\n",
    "<tbody>\n",
    "<tr>\n",
    "<th>Operator</th>\n",
    "<th>Description</th>\n",
    "</tr>\n",
    "<tr>\n",
    "<td>&lt;-, =</td>\n",
    "<td>Leftwards assignment</td>\n",
    "</tr>\n",
    "<tr>\n",
    "<td>-&gt;</td>\n",
    "<td>Rightwards assignment</td>\n",
    "</tr>\n",
    "</tbody>\n",
    "</table>"
   ]
  },
  {
   "cell_type": "code",
   "execution_count": 3,
   "metadata": {
    "colab": {},
    "colab_type": "code",
    "id": "LXSnM1MP8V1q"
   },
   "outputs": [
    {
     "data": {
      "text/html": [
       "5"
      ],
      "text/latex": [
       "5"
      ],
      "text/markdown": [
       "5"
      ],
      "text/plain": [
       "[1] 5"
      ]
     },
     "metadata": {},
     "output_type": "display_data"
    }
   ],
   "source": [
    "x <- 5\n",
    "x"
   ]
  },
  {
   "cell_type": "markdown",
   "metadata": {
    "colab_type": "text",
    "id": "2pySpL648V1u"
   },
   "source": [
    "#### Arithmetic operators\n",
    "\n",
    "These operators are used to carry out mathematical operations like addition and multiplication.\n",
    "\n",
    "<table style=\"font-size: 100%;\">\n",
    "<tbody>\n",
    "<tr>\n",
    "<th>Operator</th>\n",
    "<th>Description</th>\n",
    "</tr>\n",
    "<tr>\n",
    "<td>+</td>\n",
    "<td>Addition</td>\n",
    "</tr>\n",
    "<tr>\n",
    "<td>&#8211;</td>\n",
    "<td>Subtraction</td>\n",
    "</tr>\n",
    "<tr>\n",
    "<td>*</td>\n",
    "<td>Multiplication</td>\n",
    "</tr>\n",
    "<tr>\n",
    "<td>/</td>\n",
    "<td>Division</td>\n",
    "</tr>\n",
    "<tr>\n",
    "<td>^</td>\n",
    "<td>Exponent</td>\n",
    "</tr>\n",
    "<tr>\n",
    "<td>%%</td>\n",
    "<td>Modulus (Remainder from division)</td>\n",
    "</tr>\n",
    "<tr>\n",
    "<td>%/%</td>\n",
    "<td>Integer Division</td>\n",
    "</tr>\n",
    "</tbody>\n",
    "</table>"
   ]
  },
  {
   "cell_type": "code",
   "execution_count": 4,
   "metadata": {
    "colab": {},
    "colab_type": "code",
    "id": "iNC-tmBw8V1v"
   },
   "outputs": [
    {
     "data": {
      "text/html": [
       "9765625"
      ],
      "text/latex": [
       "9765625"
      ],
      "text/markdown": [
       "9765625"
      ],
      "text/plain": [
       "[1] 9765625"
      ]
     },
     "metadata": {},
     "output_type": "display_data"
    }
   ],
   "source": [
    "x^10"
   ]
  },
  {
   "cell_type": "markdown",
   "metadata": {
    "colab_type": "text",
    "id": "TnHh46cM8V1z"
   },
   "source": [
    "#### Relational operators\n",
    "Relational operators test or define some kind of relation between two entities/values\n",
    "<table style=\"font-size: 100%;\">\n",
    "<tbody>\n",
    "<tr>\n",
    "<th>Operator</th>\n",
    "<th>Description</th>\n",
    "</tr>\n",
    "<tr>\n",
    "<td>&lt;</td>\n",
    "<td>Less than</td>\n",
    "</tr>\n",
    "<tr>\n",
    "<td>&gt;</td>\n",
    "<td>Greater than</td>\n",
    "</tr>\n",
    "<tr>\n",
    "<td>&lt;=</td>\n",
    "<td>Less than or equal to</td>\n",
    "</tr>\n",
    "<tr>\n",
    "<td>&gt;=</td>\n",
    "<td>Greater than or equal to</td>\n",
    "</tr>\n",
    "<tr>\n",
    "<td>==</td>\n",
    "<td>Equal to</td>\n",
    "</tr>\n",
    "<tr>\n",
    "<td>!=</td>\n",
    "<td>Not equal to</td>\n",
    "</tr>\n",
    "</tbody>\n",
    "</table>"
   ]
  },
  {
   "cell_type": "code",
   "execution_count": 5,
   "metadata": {
    "colab": {},
    "colab_type": "code",
    "id": "XMAGyzGu8V1z"
   },
   "outputs": [
    {
     "data": {
      "text/html": [
       "TRUE"
      ],
      "text/latex": [
       "TRUE"
      ],
      "text/markdown": [
       "TRUE"
      ],
      "text/plain": [
       "[1] TRUE"
      ]
     },
     "metadata": {},
     "output_type": "display_data"
    }
   ],
   "source": [
    "x < 10"
   ]
  },
  {
   "cell_type": "markdown",
   "metadata": {
    "colab_type": "text",
    "id": "e7_yCAK28V13"
   },
   "source": [
    "#### The pipe operator\n",
    "\n",
    "<img src=\"https://github.com/matjesg/AIS_2019/raw/master/notebooks/images/01/pipes.png\" width=\"150\">\n",
    "\n",
    "Pipes are a powerful tool for clearly expressing a sequence of multiple operations.<br>\n",
    "\n",
    "In a pipe, we can rewrite the code as follows\n",
    "```R\n",
    "string %>%\n",
    "    print()\n",
    "```"
   ]
  },
  {
   "cell_type": "code",
   "execution_count": 6,
   "metadata": {
    "colab": {},
    "colab_type": "code",
    "id": "XBU9nSRH8V13"
   },
   "outputs": [
    {
     "name": "stdout",
     "output_type": "stream",
     "text": [
      "[1] \"hello world\"\n"
     ]
    }
   ],
   "source": [
    "string %>%\n",
    "    print()"
   ]
  },
  {
   "cell_type": "markdown",
   "metadata": {
    "colab_type": "text",
    "id": "PLxi12No8V16"
   },
   "source": [
    "### Relational Data and Data Frames"
   ]
  },
  {
   "cell_type": "markdown",
   "metadata": {
    "colab_type": "text",
    "id": "UvyY4jiE8V17"
   },
   "source": [
    "__ARIS Data View__\n",
    "\n",
    "<img src=\"https://github.com/matjesg/AIS_2019/raw/master/notebooks/images/01/aris.png\" width=\"500\">"
   ]
  },
  {
   "cell_type": "markdown",
   "metadata": {
    "colab_type": "text",
    "id": "BMafU1kb8V18"
   },
   "source": [
    "The relational model represents the database as a collection of relations (= tables, in R: *data frames* or *tibbles*).\n",
    "\n",
    "- Each row of a table represents a list of related data values (= data record). Such a line is referred to as a \"tuple”\n",
    "- A column corresponds to an attribute\n",
    "    - Attributes are assigned a data type, format, or value range \n",
    "    - Each attribute value is atomic and cannot be further broken down into components"
   ]
  },
  {
   "cell_type": "markdown",
   "metadata": {
    "colab_type": "text",
    "id": "jxf22wsi8V18"
   },
   "source": [
    "#### Working on the Student Performance Data Set \n",
    "\n",
    "The [data set](https://rstudio-pubs-static.s3.amazonaws.com/108835_65a73467d96f4c79a5f808f5b8833922.html) contains information on students in secondary education in Portugal.\n",
    "\n",
    "Important  attributes/columns:\n",
    "- G1 - first period grade (from 0 to 20) \n",
    "- G2 - second period grade (from 0 to 20) \n",
    "- G3 - final grade (from 0 to 20)"
   ]
  },
  {
   "cell_type": "markdown",
   "metadata": {
    "colab_type": "text",
    "id": "Sqpatd_K8V1_"
   },
   "source": [
    "Let's download the data and save it to the data frame \"student_data\""
   ]
  },
  {
   "cell_type": "code",
   "execution_count": 7,
   "metadata": {
    "colab": {},
    "colab_type": "code",
    "id": "qrYR4lVC8V1_"
   },
   "outputs": [],
   "source": [
    "url = \"https://raw.githubusercontent.com/arunk13/MSDA-Assignments/master/IS607Fall2015/Assignment3/student-mat.csv\"\n",
    "student_data <- read.table(file= url, header = TRUE, sep = \";\")"
   ]
  },
  {
   "cell_type": "markdown",
   "metadata": {
    "colab_type": "text",
    "id": "zds7oa6y8V2D"
   },
   "source": [
    "#### Have a look at the data\n",
    "\n",
    "To view your data frame, write the name in a code cell and run it"
   ]
  },
  {
   "cell_type": "code",
   "execution_count": 8,
   "metadata": {
    "colab": {},
    "colab_type": "code",
    "id": "kyzruYRY8V2D",
    "scrolled": true
   },
   "outputs": [
    {
     "data": {
      "text/html": [
       "<table>\n",
       "<thead><tr><th scope=col>school</th><th scope=col>sex</th><th scope=col>age</th><th scope=col>address</th><th scope=col>famsize</th><th scope=col>Pstatus</th><th scope=col>Medu</th><th scope=col>Fedu</th><th scope=col>Mjob</th><th scope=col>Fjob</th><th scope=col>...</th><th scope=col>famrel</th><th scope=col>freetime</th><th scope=col>goout</th><th scope=col>Dalc</th><th scope=col>Walc</th><th scope=col>health</th><th scope=col>absences</th><th scope=col>G1</th><th scope=col>G2</th><th scope=col>G3</th></tr></thead>\n",
       "<tbody>\n",
       "\t<tr><td>GP      </td><td>F       </td><td>18      </td><td>U       </td><td>GT3     </td><td>A       </td><td>4       </td><td>4       </td><td>at_home </td><td>teacher </td><td>...     </td><td>4       </td><td>3       </td><td>4       </td><td>1       </td><td>1       </td><td>3       </td><td> 6      </td><td> 5      </td><td> 6      </td><td> 6      </td></tr>\n",
       "\t<tr><td>GP      </td><td>F       </td><td>17      </td><td>U       </td><td>GT3     </td><td>T       </td><td>1       </td><td>1       </td><td>at_home </td><td>other   </td><td>...     </td><td>5       </td><td>3       </td><td>3       </td><td>1       </td><td>1       </td><td>3       </td><td> 4      </td><td> 5      </td><td> 5      </td><td> 6      </td></tr>\n",
       "\t<tr><td>GP      </td><td>F       </td><td>15      </td><td>U       </td><td>LE3     </td><td>T       </td><td>1       </td><td>1       </td><td>at_home </td><td>other   </td><td>...     </td><td>4       </td><td>3       </td><td>2       </td><td>2       </td><td>3       </td><td>3       </td><td>10      </td><td> 7      </td><td> 8      </td><td>10      </td></tr>\n",
       "\t<tr><td>GP      </td><td>F       </td><td>15      </td><td>U       </td><td>GT3     </td><td>T       </td><td>4       </td><td>2       </td><td>health  </td><td>services</td><td>...     </td><td>3       </td><td>2       </td><td>2       </td><td>1       </td><td>1       </td><td>5       </td><td> 2      </td><td>15      </td><td>14      </td><td>15      </td></tr>\n",
       "\t<tr><td>GP      </td><td>F       </td><td>16      </td><td>U       </td><td>GT3     </td><td>T       </td><td>3       </td><td>3       </td><td>other   </td><td>other   </td><td>...     </td><td>4       </td><td>3       </td><td>2       </td><td>1       </td><td>2       </td><td>5       </td><td> 4      </td><td> 6      </td><td>10      </td><td>10      </td></tr>\n",
       "\t<tr><td>GP      </td><td>M       </td><td>16      </td><td>U       </td><td>LE3     </td><td>T       </td><td>4       </td><td>3       </td><td>services</td><td>other   </td><td>...     </td><td>5       </td><td>4       </td><td>2       </td><td>1       </td><td>2       </td><td>5       </td><td>10      </td><td>15      </td><td>15      </td><td>15      </td></tr>\n",
       "</tbody>\n",
       "</table>\n"
      ],
      "text/latex": [
       "\\begin{tabular}{r|lllllllllllllllllllllllllllllllll}\n",
       " school & sex & age & address & famsize & Pstatus & Medu & Fedu & Mjob & Fjob & ... & famrel & freetime & goout & Dalc & Walc & health & absences & G1 & G2 & G3\\\\\n",
       "\\hline\n",
       "\t GP         & F          & 18         & U          & GT3        & A          & 4          & 4          & at\\_home  & teacher    & ...        & 4          & 3          & 4          & 1          & 1          & 3          &  6         &  5         &  6         &  6        \\\\\n",
       "\t GP         & F          & 17         & U          & GT3        & T          & 1          & 1          & at\\_home  & other      & ...        & 5          & 3          & 3          & 1          & 1          & 3          &  4         &  5         &  5         &  6        \\\\\n",
       "\t GP         & F          & 15         & U          & LE3        & T          & 1          & 1          & at\\_home  & other      & ...        & 4          & 3          & 2          & 2          & 3          & 3          & 10         &  7         &  8         & 10        \\\\\n",
       "\t GP       & F        & 15       & U        & GT3      & T        & 4        & 2        & health   & services & ...      & 3        & 2        & 2        & 1        & 1        & 5        &  2       & 15       & 14       & 15      \\\\\n",
       "\t GP       & F        & 16       & U        & GT3      & T        & 3        & 3        & other    & other    & ...      & 4        & 3        & 2        & 1        & 2        & 5        &  4       &  6       & 10       & 10      \\\\\n",
       "\t GP       & M        & 16       & U        & LE3      & T        & 4        & 3        & services & other    & ...      & 5        & 4        & 2        & 1        & 2        & 5        & 10       & 15       & 15       & 15      \\\\\n",
       "\\end{tabular}\n"
      ],
      "text/markdown": [
       "\n",
       "| school | sex | age | address | famsize | Pstatus | Medu | Fedu | Mjob | Fjob | ... | famrel | freetime | goout | Dalc | Walc | health | absences | G1 | G2 | G3 |\n",
       "|---|---|---|---|---|---|---|---|---|---|---|---|---|---|---|---|---|---|---|---|---|\n",
       "| GP       | F        | 18       | U        | GT3      | A        | 4        | 4        | at_home  | teacher  | ...      | 4        | 3        | 4        | 1        | 1        | 3        |  6       |  5       |  6       |  6       |\n",
       "| GP       | F        | 17       | U        | GT3      | T        | 1        | 1        | at_home  | other    | ...      | 5        | 3        | 3        | 1        | 1        | 3        |  4       |  5       |  5       |  6       |\n",
       "| GP       | F        | 15       | U        | LE3      | T        | 1        | 1        | at_home  | other    | ...      | 4        | 3        | 2        | 2        | 3        | 3        | 10       |  7       |  8       | 10       |\n",
       "| GP       | F        | 15       | U        | GT3      | T        | 4        | 2        | health   | services | ...      | 3        | 2        | 2        | 1        | 1        | 5        |  2       | 15       | 14       | 15       |\n",
       "| GP       | F        | 16       | U        | GT3      | T        | 3        | 3        | other    | other    | ...      | 4        | 3        | 2        | 1        | 2        | 5        |  4       |  6       | 10       | 10       |\n",
       "| GP       | M        | 16       | U        | LE3      | T        | 4        | 3        | services | other    | ...      | 5        | 4        | 2        | 1        | 2        | 5        | 10       | 15       | 15       | 15       |\n",
       "\n"
      ],
      "text/plain": [
       "  school sex age address famsize Pstatus Medu Fedu Mjob     Fjob     ... famrel\n",
       "1 GP     F   18  U       GT3     A       4    4    at_home  teacher  ... 4     \n",
       "2 GP     F   17  U       GT3     T       1    1    at_home  other    ... 5     \n",
       "3 GP     F   15  U       LE3     T       1    1    at_home  other    ... 4     \n",
       "4 GP     F   15  U       GT3     T       4    2    health   services ... 3     \n",
       "5 GP     F   16  U       GT3     T       3    3    other    other    ... 4     \n",
       "6 GP     M   16  U       LE3     T       4    3    services other    ... 5     \n",
       "  freetime goout Dalc Walc health absences G1 G2 G3\n",
       "1 3        4     1    1    3       6        5  6  6\n",
       "2 3        3     1    1    3       4        5  5  6\n",
       "3 3        2     2    3    3      10        7  8 10\n",
       "4 2        2     1    1    5       2       15 14 15\n",
       "5 3        2     1    2    5       4        6 10 10\n",
       "6 4        2     1    2    5      10       15 15 15"
      ]
     },
     "metadata": {},
     "output_type": "display_data"
    }
   ],
   "source": [
    "student_data %>%\n",
    "    head()"
   ]
  },
  {
   "cell_type": "markdown",
   "metadata": {
    "colab_type": "text",
    "id": "JrfH4Ulr8V2H"
   },
   "source": [
    "#### View first or last part\n",
    "\n",
    "*head()* and *tail()* return first or last part of the data frame"
   ]
  },
  {
   "cell_type": "code",
   "execution_count": 9,
   "metadata": {
    "colab": {},
    "colab_type": "code",
    "id": "rDwLC0NC8V2H"
   },
   "outputs": [
    {
     "data": {
      "text/html": [
       "<table>\n",
       "<thead><tr><th></th><th scope=col>school</th><th scope=col>sex</th><th scope=col>age</th><th scope=col>address</th><th scope=col>famsize</th><th scope=col>Pstatus</th><th scope=col>Medu</th><th scope=col>Fedu</th><th scope=col>Mjob</th><th scope=col>Fjob</th><th scope=col>...</th><th scope=col>famrel</th><th scope=col>freetime</th><th scope=col>goout</th><th scope=col>Dalc</th><th scope=col>Walc</th><th scope=col>health</th><th scope=col>absences</th><th scope=col>G1</th><th scope=col>G2</th><th scope=col>G3</th></tr></thead>\n",
       "<tbody>\n",
       "\t<tr><th scope=row>390</th><td>MS      </td><td>F       </td><td>18      </td><td>U       </td><td>GT3     </td><td>T       </td><td>1       </td><td>1       </td><td>other   </td><td>other   </td><td>...     </td><td>1       </td><td>1       </td><td>1       </td><td>1       </td><td>1       </td><td>5       </td><td> 0      </td><td> 6      </td><td> 5      </td><td> 0      </td></tr>\n",
       "\t<tr><th scope=row>391</th><td>MS      </td><td>M       </td><td>20      </td><td>U       </td><td>LE3     </td><td>A       </td><td>2       </td><td>2       </td><td>services</td><td>services</td><td>...     </td><td>5       </td><td>5       </td><td>4       </td><td>4       </td><td>5       </td><td>4       </td><td>11      </td><td> 9      </td><td> 9      </td><td> 9      </td></tr>\n",
       "\t<tr><th scope=row>392</th><td>MS      </td><td>M       </td><td>17      </td><td>U       </td><td>LE3     </td><td>T       </td><td>3       </td><td>1       </td><td>services</td><td>services</td><td>...     </td><td>2       </td><td>4       </td><td>5       </td><td>3       </td><td>4       </td><td>2       </td><td> 3      </td><td>14      </td><td>16      </td><td>16      </td></tr>\n",
       "\t<tr><th scope=row>393</th><td>MS      </td><td>M       </td><td>21      </td><td>R       </td><td>GT3     </td><td>T       </td><td>1       </td><td>1       </td><td>other   </td><td>other   </td><td>...     </td><td>5       </td><td>5       </td><td>3       </td><td>3       </td><td>3       </td><td>3       </td><td> 3      </td><td>10      </td><td> 8      </td><td> 7      </td></tr>\n",
       "\t<tr><th scope=row>394</th><td>MS      </td><td>M       </td><td>18      </td><td>R       </td><td>LE3     </td><td>T       </td><td>3       </td><td>2       </td><td>services</td><td>other   </td><td>...     </td><td>4       </td><td>4       </td><td>1       </td><td>3       </td><td>4       </td><td>5       </td><td> 0      </td><td>11      </td><td>12      </td><td>10      </td></tr>\n",
       "\t<tr><th scope=row>395</th><td>MS      </td><td>M       </td><td>19      </td><td>U       </td><td>LE3     </td><td>T       </td><td>1       </td><td>1       </td><td>other   </td><td>at_home </td><td>...     </td><td>3       </td><td>2       </td><td>3       </td><td>3       </td><td>3       </td><td>5       </td><td> 5      </td><td> 8      </td><td> 9      </td><td> 9      </td></tr>\n",
       "</tbody>\n",
       "</table>\n"
      ],
      "text/latex": [
       "\\begin{tabular}{r|lllllllllllllllllllllllllllllllll}\n",
       "  & school & sex & age & address & famsize & Pstatus & Medu & Fedu & Mjob & Fjob & ... & famrel & freetime & goout & Dalc & Walc & health & absences & G1 & G2 & G3\\\\\n",
       "\\hline\n",
       "\t390 & MS       & F        & 18       & U        & GT3      & T        & 1        & 1        & other    & other    & ...      & 1        & 1        & 1        & 1        & 1        & 5        &  0       &  6       &  5       &  0      \\\\\n",
       "\t391 & MS       & M        & 20       & U        & LE3      & A        & 2        & 2        & services & services & ...      & 5        & 5        & 4        & 4        & 5        & 4        & 11       &  9       &  9       &  9      \\\\\n",
       "\t392 & MS       & M        & 17       & U        & LE3      & T        & 3        & 1        & services & services & ...      & 2        & 4        & 5        & 3        & 4        & 2        &  3       & 14       & 16       & 16      \\\\\n",
       "\t393 & MS       & M        & 21       & R        & GT3      & T        & 1        & 1        & other    & other    & ...      & 5        & 5        & 3        & 3        & 3        & 3        &  3       & 10       &  8       &  7      \\\\\n",
       "\t394 & MS       & M        & 18       & R        & LE3      & T        & 3        & 2        & services & other    & ...      & 4        & 4        & 1        & 3        & 4        & 5        &  0       & 11       & 12       & 10      \\\\\n",
       "\t395 & MS         & M          & 19         & U          & LE3        & T          & 1          & 1          & other      & at\\_home  & ...        & 3          & 2          & 3          & 3          & 3          & 5          &  5         &  8         &  9         &  9        \\\\\n",
       "\\end{tabular}\n"
      ],
      "text/markdown": [
       "\n",
       "| <!--/--> | school | sex | age | address | famsize | Pstatus | Medu | Fedu | Mjob | Fjob | ... | famrel | freetime | goout | Dalc | Walc | health | absences | G1 | G2 | G3 |\n",
       "|---|---|---|---|---|---|---|---|---|---|---|---|---|---|---|---|---|---|---|---|---|---|\n",
       "| 390 | MS       | F        | 18       | U        | GT3      | T        | 1        | 1        | other    | other    | ...      | 1        | 1        | 1        | 1        | 1        | 5        |  0       |  6       |  5       |  0       |\n",
       "| 391 | MS       | M        | 20       | U        | LE3      | A        | 2        | 2        | services | services | ...      | 5        | 5        | 4        | 4        | 5        | 4        | 11       |  9       |  9       |  9       |\n",
       "| 392 | MS       | M        | 17       | U        | LE3      | T        | 3        | 1        | services | services | ...      | 2        | 4        | 5        | 3        | 4        | 2        |  3       | 14       | 16       | 16       |\n",
       "| 393 | MS       | M        | 21       | R        | GT3      | T        | 1        | 1        | other    | other    | ...      | 5        | 5        | 3        | 3        | 3        | 3        |  3       | 10       |  8       |  7       |\n",
       "| 394 | MS       | M        | 18       | R        | LE3      | T        | 3        | 2        | services | other    | ...      | 4        | 4        | 1        | 3        | 4        | 5        |  0       | 11       | 12       | 10       |\n",
       "| 395 | MS       | M        | 19       | U        | LE3      | T        | 1        | 1        | other    | at_home  | ...      | 3        | 2        | 3        | 3        | 3        | 5        |  5       |  8       |  9       |  9       |\n",
       "\n"
      ],
      "text/plain": [
       "    school sex age address famsize Pstatus Medu Fedu Mjob     Fjob     ...\n",
       "390 MS     F   18  U       GT3     T       1    1    other    other    ...\n",
       "391 MS     M   20  U       LE3     A       2    2    services services ...\n",
       "392 MS     M   17  U       LE3     T       3    1    services services ...\n",
       "393 MS     M   21  R       GT3     T       1    1    other    other    ...\n",
       "394 MS     M   18  R       LE3     T       3    2    services other    ...\n",
       "395 MS     M   19  U       LE3     T       1    1    other    at_home  ...\n",
       "    famrel freetime goout Dalc Walc health absences G1 G2 G3\n",
       "390 1      1        1     1    1    5       0        6  5  0\n",
       "391 5      5        4     4    5    4      11        9  9  9\n",
       "392 2      4        5     3    4    2       3       14 16 16\n",
       "393 5      5        3     3    3    3       3       10  8  7\n",
       "394 4      4        1     3    4    5       0       11 12 10\n",
       "395 3      2        3     3    3    5       5        8  9  9"
      ]
     },
     "metadata": {},
     "output_type": "display_data"
    }
   ],
   "source": [
    "student_data %>%\n",
    "    tail()"
   ]
  },
  {
   "cell_type": "markdown",
   "metadata": {
    "colab_type": "text",
    "id": "KH-92nQv8V2L"
   },
   "source": [
    "#### Get a glimpse of your data\n",
    "\n",
    "*glimpse()* outputs a transposed version of the standard view: columns run down the page, and data runs across. This makes it possible to see every column in a data frame"
   ]
  },
  {
   "cell_type": "code",
   "execution_count": 10,
   "metadata": {
    "colab": {},
    "colab_type": "code",
    "id": "bBR4UGig8V2M"
   },
   "outputs": [
    {
     "name": "stdout",
     "output_type": "stream",
     "text": [
      "Observations: 395\n",
      "Variables: 33\n",
      "$ school     <fct> GP, GP, GP, GP, GP, GP, GP, GP, GP, GP, GP, GP, GP, GP, GP…\n",
      "$ sex        <fct> F, F, F, F, F, M, M, F, M, M, F, F, M, M, M, F, F, F, M, M…\n",
      "$ age        <int> 18, 17, 15, 15, 16, 16, 16, 17, 15, 15, 15, 15, 15, 15, 15…\n",
      "$ address    <fct> U, U, U, U, U, U, U, U, U, U, U, U, U, U, U, U, U, U, U, U…\n",
      "$ famsize    <fct> GT3, GT3, LE3, GT3, GT3, LE3, LE3, GT3, LE3, GT3, GT3, GT3…\n",
      "$ Pstatus    <fct> A, T, T, T, T, T, T, A, A, T, T, T, T, T, A, T, T, T, T, T…\n",
      "$ Medu       <int> 4, 1, 1, 4, 3, 4, 2, 4, 3, 3, 4, 2, 4, 4, 2, 4, 4, 3, 3, 4…\n",
      "$ Fedu       <int> 4, 1, 1, 2, 3, 3, 2, 4, 2, 4, 4, 1, 4, 3, 2, 4, 4, 3, 2, 3…\n",
      "$ Mjob       <fct> at_home, at_home, at_home, health, other, services, other,…\n",
      "$ Fjob       <fct> teacher, other, other, services, other, other, other, teac…\n",
      "$ reason     <fct> course, course, other, home, home, reputation, home, home,…\n",
      "$ guardian   <fct> mother, father, mother, mother, father, mother, mother, mo…\n",
      "$ traveltime <int> 2, 1, 1, 1, 1, 1, 1, 2, 1, 1, 1, 3, 1, 2, 1, 1, 1, 3, 1, 1…\n",
      "$ studytime  <int> 2, 2, 2, 3, 2, 2, 2, 2, 2, 2, 2, 3, 1, 2, 3, 1, 3, 2, 1, 1…\n",
      "$ failures   <int> 0, 0, 3, 0, 0, 0, 0, 0, 0, 0, 0, 0, 0, 0, 0, 0, 0, 0, 3, 0…\n",
      "$ schoolsup  <fct> yes, no, yes, no, no, no, no, yes, no, no, no, no, no, no,…\n",
      "$ famsup     <fct> no, yes, no, yes, yes, yes, no, yes, yes, yes, yes, yes, y…\n",
      "$ paid       <fct> no, no, yes, yes, yes, yes, no, no, yes, yes, yes, no, yes…\n",
      "$ activities <fct> no, no, no, yes, no, yes, no, no, no, yes, no, yes, yes, n…\n",
      "$ nursery    <fct> yes, no, yes, yes, yes, yes, yes, yes, yes, yes, yes, yes,…\n",
      "$ higher     <fct> yes, yes, yes, yes, yes, yes, yes, yes, yes, yes, yes, yes…\n",
      "$ internet   <fct> no, yes, yes, yes, no, yes, yes, no, yes, yes, yes, yes, y…\n",
      "$ romantic   <fct> no, no, no, yes, no, no, no, no, no, no, no, no, no, no, y…\n",
      "$ famrel     <int> 4, 5, 4, 3, 4, 5, 4, 4, 4, 5, 3, 5, 4, 5, 4, 4, 3, 5, 5, 3…\n",
      "$ freetime   <int> 3, 3, 3, 2, 3, 4, 4, 1, 2, 5, 3, 2, 3, 4, 5, 4, 2, 3, 5, 1…\n",
      "$ goout      <int> 4, 3, 2, 2, 2, 2, 4, 4, 2, 1, 3, 2, 3, 3, 2, 4, 3, 2, 5, 3…\n",
      "$ Dalc       <int> 1, 1, 2, 1, 1, 1, 1, 1, 1, 1, 1, 1, 1, 1, 1, 1, 1, 1, 2, 1…\n",
      "$ Walc       <int> 1, 1, 3, 1, 2, 2, 1, 1, 1, 1, 2, 1, 3, 2, 1, 2, 2, 1, 4, 3…\n",
      "$ health     <int> 3, 3, 3, 5, 5, 5, 3, 1, 1, 5, 2, 4, 5, 3, 3, 2, 2, 4, 5, 5…\n",
      "$ absences   <int> 6, 4, 10, 2, 4, 10, 0, 6, 0, 0, 0, 4, 2, 2, 0, 4, 6, 4, 16…\n",
      "$ G1         <int> 5, 5, 7, 15, 6, 15, 12, 6, 16, 14, 10, 10, 14, 10, 14, 14,…\n",
      "$ G2         <int> 6, 5, 8, 14, 10, 15, 12, 5, 18, 15, 8, 12, 14, 10, 16, 14,…\n",
      "$ G3         <int> 6, 6, 10, 15, 10, 15, 11, 6, 19, 15, 9, 12, 14, 11, 16, 14…\n"
     ]
    }
   ],
   "source": [
    "glimpse(student_data)"
   ]
  },
  {
   "cell_type": "markdown",
   "metadata": {
    "colab_type": "text",
    "id": "awKthJVE8V2S"
   },
   "source": [
    "#### Data summaries\n",
    "\n",
    "You can use the *summary()* command to get a better feel for how your data are distributed"
   ]
  },
  {
   "cell_type": "code",
   "execution_count": 11,
   "metadata": {
    "colab": {},
    "colab_type": "code",
    "id": "6QWloHZJ8V2T"
   },
   "outputs": [
    {
     "data": {
      "text/plain": [
       " school   sex          age       address famsize   Pstatus      Medu      \n",
       " GP:349   F:208   Min.   :15.0   R: 88   GT3:281   A: 41   Min.   :0.000  \n",
       " MS: 46   M:187   1st Qu.:16.0   U:307   LE3:114   T:354   1st Qu.:2.000  \n",
       "                  Median :17.0                             Median :3.000  \n",
       "                  Mean   :16.7                             Mean   :2.749  \n",
       "                  3rd Qu.:18.0                             3rd Qu.:4.000  \n",
       "                  Max.   :22.0                             Max.   :4.000  \n",
       "      Fedu             Mjob           Fjob            reason      guardian  \n",
       " Min.   :0.000   at_home : 59   at_home : 20   course    :145   father: 90  \n",
       " 1st Qu.:2.000   health  : 34   health  : 18   home      :109   mother:273  \n",
       " Median :2.000   other   :141   other   :217   other     : 36   other : 32  \n",
       " Mean   :2.522   services:103   services:111   reputation:105               \n",
       " 3rd Qu.:3.000   teacher : 58   teacher : 29                                \n",
       " Max.   :4.000                                                              \n",
       "   traveltime      studytime        failures      schoolsup famsup     paid    \n",
       " Min.   :1.000   Min.   :1.000   Min.   :0.0000   no :344   no :153   no :214  \n",
       " 1st Qu.:1.000   1st Qu.:1.000   1st Qu.:0.0000   yes: 51   yes:242   yes:181  \n",
       " Median :1.000   Median :2.000   Median :0.0000                                \n",
       " Mean   :1.448   Mean   :2.035   Mean   :0.3342                                \n",
       " 3rd Qu.:2.000   3rd Qu.:2.000   3rd Qu.:0.0000                                \n",
       " Max.   :4.000   Max.   :4.000   Max.   :3.0000                                \n",
       " activities nursery   higher    internet  romantic      famrel     \n",
       " no :194    no : 81   no : 20   no : 66   no :263   Min.   :1.000  \n",
       " yes:201    yes:314   yes:375   yes:329   yes:132   1st Qu.:4.000  \n",
       "                                                    Median :4.000  \n",
       "                                                    Mean   :3.944  \n",
       "                                                    3rd Qu.:5.000  \n",
       "                                                    Max.   :5.000  \n",
       "    freetime         goout            Dalc            Walc      \n",
       " Min.   :1.000   Min.   :1.000   Min.   :1.000   Min.   :1.000  \n",
       " 1st Qu.:3.000   1st Qu.:2.000   1st Qu.:1.000   1st Qu.:1.000  \n",
       " Median :3.000   Median :3.000   Median :1.000   Median :2.000  \n",
       " Mean   :3.235   Mean   :3.109   Mean   :1.481   Mean   :2.291  \n",
       " 3rd Qu.:4.000   3rd Qu.:4.000   3rd Qu.:2.000   3rd Qu.:3.000  \n",
       " Max.   :5.000   Max.   :5.000   Max.   :5.000   Max.   :5.000  \n",
       "     health         absences            G1              G2       \n",
       " Min.   :1.000   Min.   : 0.000   Min.   : 3.00   Min.   : 0.00  \n",
       " 1st Qu.:3.000   1st Qu.: 0.000   1st Qu.: 8.00   1st Qu.: 9.00  \n",
       " Median :4.000   Median : 4.000   Median :11.00   Median :11.00  \n",
       " Mean   :3.554   Mean   : 5.709   Mean   :10.91   Mean   :10.71  \n",
       " 3rd Qu.:5.000   3rd Qu.: 8.000   3rd Qu.:13.00   3rd Qu.:13.00  \n",
       " Max.   :5.000   Max.   :75.000   Max.   :19.00   Max.   :19.00  \n",
       "       G3       \n",
       " Min.   : 0.00  \n",
       " 1st Qu.: 8.00  \n",
       " Median :11.00  \n",
       " Mean   :10.42  \n",
       " 3rd Qu.:14.00  \n",
       " Max.   :20.00  "
      ]
     },
     "metadata": {},
     "output_type": "display_data"
    }
   ],
   "source": [
    "student_data %>%\n",
    "    summary()"
   ]
  },
  {
   "cell_type": "markdown",
   "metadata": {
    "colab_type": "text",
    "id": "iyjJHTxU8V2W"
   },
   "source": [
    "### Help and Documentation"
   ]
  },
  {
   "cell_type": "markdown",
   "metadata": {
    "colab_type": "text",
    "id": "qTjJF8U28V2X"
   },
   "source": [
    "#### Accessing the documentation with '?'\n",
    "\n",
    "The question mark is a simple shortcut to get help\n",
    "\n",
    "```R\n",
    "?tidyverse\n",
    "```"
   ]
  },
  {
   "cell_type": "code",
   "execution_count": 12,
   "metadata": {
    "colab": {},
    "colab_type": "code",
    "id": "hV-saLn98V2Y"
   },
   "outputs": [
    {
     "data": {
      "text/html": [
       "\n",
       "<table width=\"100%\" summary=\"page for tidyverse-package {tidyverse}\"><tr><td>tidyverse-package {tidyverse}</td><td style=\"text-align: right;\">R Documentation</td></tr></table>\n",
       "\n",
       "<h2>tidyverse: Easily Install and Load the 'Tidyverse'</h2>\n",
       "\n",
       "<h3>Description</h3>\n",
       "\n",
       "<p>The 'tidyverse' is a set of packages that work in harmony\n",
       "because they share common data representations and 'API' design. This\n",
       "package is designed to make it easy to install and load multiple\n",
       "'tidyverse' packages in a single step. Learn more about the 'tidyverse'\n",
       "at &lt;https://tidyverse.org&gt;.\n",
       "</p>\n",
       "\n",
       "\n",
       "<h3>Author(s)</h3>\n",
       "\n",
       "<p><strong>Maintainer</strong>: Hadley Wickham <a href=\"mailto:hadley@rstudio.com\">hadley@rstudio.com</a>\n",
       "</p>\n",
       "<p>Other contributors:\n",
       "</p>\n",
       "\n",
       "<ul>\n",
       "<li><p> RStudio [copyright holder, funder]\n",
       "</p>\n",
       "</li></ul>\n",
       "\n",
       "\n",
       "\n",
       "<h3>See Also</h3>\n",
       "\n",
       "<p>Useful links:\n",
       "</p>\n",
       "\n",
       "<ul>\n",
       "<li> <p><a href=\"http://tidyverse.tidyverse.org\">http://tidyverse.tidyverse.org</a>\n",
       "</p>\n",
       "</li>\n",
       "<li> <p><a href=\"https://github.com/tidyverse/tidyverse\">https://github.com/tidyverse/tidyverse</a>\n",
       "</p>\n",
       "</li>\n",
       "<li><p> Report bugs at <a href=\"https://github.com/tidyverse/tidyverse/issues\">https://github.com/tidyverse/tidyverse/issues</a>\n",
       "</p>\n",
       "</li></ul>\n",
       "\n",
       "\n",
       "<hr /><div style=\"text-align: center;\">[Package <em>tidyverse</em> version 1.2.1 ]</div>"
      ],
      "text/latex": [
       "\\inputencoding{utf8}\n",
       "\\HeaderA{tidyverse-package}{tidyverse: Easily Install and Load the 'Tidyverse'}{tidyverse.Rdash.package}\n",
       "\\aliasA{tidyverse}{tidyverse-package}{tidyverse}\n",
       "\\keyword{internal}{tidyverse-package}\n",
       "%\n",
       "\\begin{Description}\\relax\n",
       "The 'tidyverse' is a set of packages that work in harmony\n",
       "because they share common data representations and 'API' design. This\n",
       "package is designed to make it easy to install and load multiple\n",
       "'tidyverse' packages in a single step. Learn more about the 'tidyverse'\n",
       "at <https://tidyverse.org>.\n",
       "\\end{Description}\n",
       "%\n",
       "\\begin{Author}\\relax\n",
       "\\strong{Maintainer}: Hadley Wickham \\email{hadley@rstudio.com}\n",
       "\n",
       "Other contributors:\n",
       "\\begin{itemize}\n",
       "\n",
       "\\item{} RStudio [copyright holder, funder]\n",
       "\n",
       "\\end{itemize}\n",
       "\n",
       "\n",
       "\\end{Author}\n",
       "%\n",
       "\\begin{SeeAlso}\\relax\n",
       "Useful links:\n",
       "\\begin{itemize}\n",
       "\n",
       "\\item{} \\url{http://tidyverse.tidyverse.org}\n",
       "\\item{} \\url{https://github.com/tidyverse/tidyverse}\n",
       "\\item{} Report bugs at \\url{https://github.com/tidyverse/tidyverse/issues}\n",
       "\n",
       "\\end{itemize}\n",
       "\n",
       "\n",
       "\\end{SeeAlso}"
      ],
      "text/plain": [
       "tidyverse-package          package:tidyverse           R Documentation\n",
       "\n",
       "_\bt_\bi_\bd_\by_\bv_\be_\br_\bs_\be: _\bE_\ba_\bs_\bi_\bl_\by _\bI_\bn_\bs_\bt_\ba_\bl_\bl _\ba_\bn_\bd _\bL_\bo_\ba_\bd _\bt_\bh_\be '_\bT_\bi_\bd_\by_\bv_\be_\br_\bs_\be'\n",
       "\n",
       "_\bD_\be_\bs_\bc_\br_\bi_\bp_\bt_\bi_\bo_\bn:\n",
       "\n",
       "     The 'tidyverse' is a set of packages that work in harmony because\n",
       "     they share common data representations and 'API' design. This\n",
       "     package is designed to make it easy to install and load multiple\n",
       "     'tidyverse' packages in a single step. Learn more about the\n",
       "     'tidyverse' at <https://tidyverse.org>.\n",
       "\n",
       "_\bA_\bu_\bt_\bh_\bo_\br(_\bs):\n",
       "\n",
       "     *Maintainer*: Hadley Wickham <email: hadley@rstudio.com>\n",
       "\n",
       "     Other contributors:\n",
       "\n",
       "        • RStudio [copyright holder, funder]\n",
       "\n",
       "_\bS_\be_\be _\bA_\bl_\bs_\bo:\n",
       "\n",
       "     Useful links:\n",
       "\n",
       "        • <URL: http://tidyverse.tidyverse.org>\n",
       "\n",
       "        • <URL: https://github.com/tidyverse/tidyverse>\n",
       "\n",
       "        • Report bugs at <URL:\n",
       "          https://github.com/tidyverse/tidyverse/issues>\n"
      ]
     },
     "metadata": {},
     "output_type": "display_data"
    }
   ],
   "source": [
    "?tidyverse"
   ]
  },
  {
   "cell_type": "markdown",
   "metadata": {
    "colab_type": "text",
    "id": "hOHvgL8V8V2a"
   },
   "source": [
    "### Recommended Books"
   ]
  },
  {
   "cell_type": "markdown",
   "metadata": {
    "cell_style": "split",
    "colab_type": "text",
    "id": "KDSCD1j-8V2b"
   },
   "source": [
    "R for Data Science (https://r4ds.had.co.nz/)\n",
    "\n",
    "<img src=\"https://d33wubrfki0l68.cloudfront.net/b88ef926a004b0fce72b2526b0b5c4413666a4cb/24a30/cover.png\" width=\"100\" style=\"float:left\">"
   ]
  },
  {
   "cell_type": "markdown",
   "metadata": {
    "cell_style": "split",
    "colab_type": "text",
    "id": "PkCYZjoE8V2b"
   },
   "source": [
    "An Introduction to Statistical Learning (https://www.springer.com/de/book/9781461471370)\n",
    "\n",
    "<img src=\"https://images.springer.com/sgw/books/medium/9781461471370.jpg\" width=\"100\" style=\"float:left\">"
   ]
  },
  {
   "cell_type": "markdown",
   "metadata": {
    "colab_type": "text",
    "id": "iSV46rUf8V2c"
   },
   "source": [
    "#### Cheat Sheets\n",
    "\n",
    "- Cheat sheets make it easy to learn about your favorite packages\n",
    "- [Here](https://www.rstudio.com/resources/cheatsheets/), you will find some cheat sheets"
   ]
  },
  {
   "cell_type": "markdown",
   "metadata": {
    "colab_type": "text",
    "id": "5BWK9DdH8V2d"
   },
   "source": [
    "## Analytic Pipelines: Data Transformation with *dplyr*"
   ]
  },
  {
   "cell_type": "markdown",
   "metadata": {
    "colab_type": "text",
    "id": "jPnJq3B08V2e",
    "toc-hr-collapsed": true,
    "toc-nb-collapsed": true
   },
   "source": [
    "The *dplyr* packages provides a grammar for manipulating tables in R. It can be conceptualized as an alternative to a traditional query language like SQL.\n",
    "\n",
    "Main functions are\n",
    "\n",
    "- *select()* extracts variables/columns as a table\n",
    "\n",
    "- *filter()* extracts rows that meet logical criteria\n",
    "\n",
    "- *group_by()* creates a \"grouped\" copy of a table. *dplyr* functions will manipulate each \"group\" separately and then combine the results\n",
    "\n",
    "- *summarise()* applies summary functions to columns to create a new table of summary statistics based on grouping.\n",
    "\n",
    "- *arrange()* orders rows by values of a column or columns\n",
    "\n",
    "- *mutate()* computes new columns/variables"
   ]
  },
  {
   "cell_type": "markdown",
   "metadata": {
    "colab_type": "text",
    "id": "rTiFtfr08V2f"
   },
   "source": [
    "Multiple operations can be executed in sequence using the pipe operator:\n",
    "\n",
    "```R\n",
    "df %>%\n",
    "    filter() %>%\n",
    "    mutate() %>%\n",
    "    arrange()\n",
    "```"
   ]
  },
  {
   "cell_type": "markdown",
   "metadata": {
    "colab_type": "text",
    "id": "uJaANdAO8V2g"
   },
   "source": [
    "We will now apply these functions to our student dataset. You can use the  [Cheat Cheat](https://content.cdntwrk.com/files/aT05NjI5Mjgmdj0xJmlzc3VlTmFtZT1kYXRhLXRyYW5zZm9ybWF0aW9uLWNoZWF0LXNoZWV0JmNtZD1kJnNpZz01ZjdlZGUxZDJiM2QwMmYxNDUzODIwYzA0NzE5NTA2YQ%253D%253D) to work on the following tasks. "
   ]
  },
  {
   "cell_type": "markdown",
   "metadata": {
    "colab_type": "text",
    "id": "N-6Z4DET8V2g"
   },
   "source": [
    "#### Select variables\n",
    "\n",
    "Select the attributes *sex* and *age* from the data"
   ]
  },
  {
   "cell_type": "code",
   "execution_count": 13,
   "metadata": {
    "colab": {},
    "colab_type": "code",
    "id": "m4ulVXRF8V2h"
   },
   "outputs": [
    {
     "data": {
      "text/html": [
       "<table>\n",
       "<thead><tr><th scope=col>sex</th><th scope=col>age</th></tr></thead>\n",
       "<tbody>\n",
       "\t<tr><td>F </td><td>18</td></tr>\n",
       "\t<tr><td>F </td><td>17</td></tr>\n",
       "\t<tr><td>F </td><td>15</td></tr>\n",
       "\t<tr><td>F </td><td>15</td></tr>\n",
       "\t<tr><td>F </td><td>16</td></tr>\n",
       "\t<tr><td>M </td><td>16</td></tr>\n",
       "</tbody>\n",
       "</table>\n"
      ],
      "text/latex": [
       "\\begin{tabular}{r|ll}\n",
       " sex & age\\\\\n",
       "\\hline\n",
       "\t F  & 18\\\\\n",
       "\t F  & 17\\\\\n",
       "\t F  & 15\\\\\n",
       "\t F  & 15\\\\\n",
       "\t F  & 16\\\\\n",
       "\t M  & 16\\\\\n",
       "\\end{tabular}\n"
      ],
      "text/markdown": [
       "\n",
       "| sex | age |\n",
       "|---|---|\n",
       "| F  | 18 |\n",
       "| F  | 17 |\n",
       "| F  | 15 |\n",
       "| F  | 15 |\n",
       "| F  | 16 |\n",
       "| M  | 16 |\n",
       "\n"
      ],
      "text/plain": [
       "  sex age\n",
       "1 F   18 \n",
       "2 F   17 \n",
       "3 F   15 \n",
       "4 F   15 \n",
       "5 F   16 \n",
       "6 M   16 "
      ]
     },
     "metadata": {},
     "output_type": "display_data"
    }
   ],
   "source": [
    "student_data %>%\n",
    "    select(sex, age) %>%\n",
    "    head()"
   ]
  },
  {
   "cell_type": "markdown",
   "metadata": {
    "colab_type": "text",
    "id": "JvL-lhoS8V2k"
   },
   "source": [
    "#### Make new variables\n",
    "\n",
    "Calculate the average grade from the first period grade (G1) and the second period grade (G2) in a new columns 'MeanGrade'"
   ]
  },
  {
   "cell_type": "code",
   "execution_count": 14,
   "metadata": {
    "colab": {},
    "colab_type": "code",
    "id": "ZZDJmHWD8V2l"
   },
   "outputs": [
    {
     "data": {
      "text/html": [
       "<table>\n",
       "<thead><tr><th scope=col>school</th><th scope=col>sex</th><th scope=col>age</th><th scope=col>address</th><th scope=col>famsize</th><th scope=col>Pstatus</th><th scope=col>Medu</th><th scope=col>Fedu</th><th scope=col>Mjob</th><th scope=col>Fjob</th><th scope=col>...</th><th scope=col>freetime</th><th scope=col>goout</th><th scope=col>Dalc</th><th scope=col>Walc</th><th scope=col>health</th><th scope=col>absences</th><th scope=col>G1</th><th scope=col>G2</th><th scope=col>G3</th><th scope=col>MeanGrade</th></tr></thead>\n",
       "<tbody>\n",
       "\t<tr><td>GP      </td><td>F       </td><td>18      </td><td>U       </td><td>GT3     </td><td>A       </td><td>4       </td><td>4       </td><td>at_home </td><td>teacher </td><td>...     </td><td>3       </td><td>4       </td><td>1       </td><td>1       </td><td>3       </td><td> 6      </td><td> 5      </td><td> 6      </td><td> 6      </td><td> 5.5    </td></tr>\n",
       "\t<tr><td>GP      </td><td>F       </td><td>17      </td><td>U       </td><td>GT3     </td><td>T       </td><td>1       </td><td>1       </td><td>at_home </td><td>other   </td><td>...     </td><td>3       </td><td>3       </td><td>1       </td><td>1       </td><td>3       </td><td> 4      </td><td> 5      </td><td> 5      </td><td> 6      </td><td> 5.0    </td></tr>\n",
       "\t<tr><td>GP      </td><td>F       </td><td>15      </td><td>U       </td><td>LE3     </td><td>T       </td><td>1       </td><td>1       </td><td>at_home </td><td>other   </td><td>...     </td><td>3       </td><td>2       </td><td>2       </td><td>3       </td><td>3       </td><td>10      </td><td> 7      </td><td> 8      </td><td>10      </td><td> 7.5    </td></tr>\n",
       "\t<tr><td>GP      </td><td>F       </td><td>15      </td><td>U       </td><td>GT3     </td><td>T       </td><td>4       </td><td>2       </td><td>health  </td><td>services</td><td>...     </td><td>2       </td><td>2       </td><td>1       </td><td>1       </td><td>5       </td><td> 2      </td><td>15      </td><td>14      </td><td>15      </td><td>14.5    </td></tr>\n",
       "\t<tr><td>GP      </td><td>F       </td><td>16      </td><td>U       </td><td>GT3     </td><td>T       </td><td>3       </td><td>3       </td><td>other   </td><td>other   </td><td>...     </td><td>3       </td><td>2       </td><td>1       </td><td>2       </td><td>5       </td><td> 4      </td><td> 6      </td><td>10      </td><td>10      </td><td> 8.0    </td></tr>\n",
       "\t<tr><td>GP      </td><td>M       </td><td>16      </td><td>U       </td><td>LE3     </td><td>T       </td><td>4       </td><td>3       </td><td>services</td><td>other   </td><td>...     </td><td>4       </td><td>2       </td><td>1       </td><td>2       </td><td>5       </td><td>10      </td><td>15      </td><td>15      </td><td>15      </td><td>15.0    </td></tr>\n",
       "</tbody>\n",
       "</table>\n"
      ],
      "text/latex": [
       "\\begin{tabular}{r|llllllllllllllllllllllllllllllllll}\n",
       " school & sex & age & address & famsize & Pstatus & Medu & Fedu & Mjob & Fjob & ... & freetime & goout & Dalc & Walc & health & absences & G1 & G2 & G3 & MeanGrade\\\\\n",
       "\\hline\n",
       "\t GP         & F          & 18         & U          & GT3        & A          & 4          & 4          & at\\_home  & teacher    & ...        & 3          & 4          & 1          & 1          & 3          &  6         &  5         &  6         &  6         &  5.5      \\\\\n",
       "\t GP         & F          & 17         & U          & GT3        & T          & 1          & 1          & at\\_home  & other      & ...        & 3          & 3          & 1          & 1          & 3          &  4         &  5         &  5         &  6         &  5.0      \\\\\n",
       "\t GP         & F          & 15         & U          & LE3        & T          & 1          & 1          & at\\_home  & other      & ...        & 3          & 2          & 2          & 3          & 3          & 10         &  7         &  8         & 10         &  7.5      \\\\\n",
       "\t GP       & F        & 15       & U        & GT3      & T        & 4        & 2        & health   & services & ...      & 2        & 2        & 1        & 1        & 5        &  2       & 15       & 14       & 15       & 14.5    \\\\\n",
       "\t GP       & F        & 16       & U        & GT3      & T        & 3        & 3        & other    & other    & ...      & 3        & 2        & 1        & 2        & 5        &  4       &  6       & 10       & 10       &  8.0    \\\\\n",
       "\t GP       & M        & 16       & U        & LE3      & T        & 4        & 3        & services & other    & ...      & 4        & 2        & 1        & 2        & 5        & 10       & 15       & 15       & 15       & 15.0    \\\\\n",
       "\\end{tabular}\n"
      ],
      "text/markdown": [
       "\n",
       "| school | sex | age | address | famsize | Pstatus | Medu | Fedu | Mjob | Fjob | ... | freetime | goout | Dalc | Walc | health | absences | G1 | G2 | G3 | MeanGrade |\n",
       "|---|---|---|---|---|---|---|---|---|---|---|---|---|---|---|---|---|---|---|---|---|\n",
       "| GP       | F        | 18       | U        | GT3      | A        | 4        | 4        | at_home  | teacher  | ...      | 3        | 4        | 1        | 1        | 3        |  6       |  5       |  6       |  6       |  5.5     |\n",
       "| GP       | F        | 17       | U        | GT3      | T        | 1        | 1        | at_home  | other    | ...      | 3        | 3        | 1        | 1        | 3        |  4       |  5       |  5       |  6       |  5.0     |\n",
       "| GP       | F        | 15       | U        | LE3      | T        | 1        | 1        | at_home  | other    | ...      | 3        | 2        | 2        | 3        | 3        | 10       |  7       |  8       | 10       |  7.5     |\n",
       "| GP       | F        | 15       | U        | GT3      | T        | 4        | 2        | health   | services | ...      | 2        | 2        | 1        | 1        | 5        |  2       | 15       | 14       | 15       | 14.5     |\n",
       "| GP       | F        | 16       | U        | GT3      | T        | 3        | 3        | other    | other    | ...      | 3        | 2        | 1        | 2        | 5        |  4       |  6       | 10       | 10       |  8.0     |\n",
       "| GP       | M        | 16       | U        | LE3      | T        | 4        | 3        | services | other    | ...      | 4        | 2        | 1        | 2        | 5        | 10       | 15       | 15       | 15       | 15.0     |\n",
       "\n"
      ],
      "text/plain": [
       "  school sex age address famsize Pstatus Medu Fedu Mjob     Fjob     ...\n",
       "1 GP     F   18  U       GT3     A       4    4    at_home  teacher  ...\n",
       "2 GP     F   17  U       GT3     T       1    1    at_home  other    ...\n",
       "3 GP     F   15  U       LE3     T       1    1    at_home  other    ...\n",
       "4 GP     F   15  U       GT3     T       4    2    health   services ...\n",
       "5 GP     F   16  U       GT3     T       3    3    other    other    ...\n",
       "6 GP     M   16  U       LE3     T       4    3    services other    ...\n",
       "  freetime goout Dalc Walc health absences G1 G2 G3 MeanGrade\n",
       "1 3        4     1    1    3       6        5  6  6  5.5     \n",
       "2 3        3     1    1    3       4        5  5  6  5.0     \n",
       "3 3        2     2    3    3      10        7  8 10  7.5     \n",
       "4 2        2     1    1    5       2       15 14 15 14.5     \n",
       "5 3        2     1    2    5       4        6 10 10  8.0     \n",
       "6 4        2     1    2    5      10       15 15 15 15.0     "
      ]
     },
     "metadata": {},
     "output_type": "display_data"
    }
   ],
   "source": [
    "student_data %>%\n",
    "    mutate(\"MeanGrade\" = (G1+G2)/2) %>%\n",
    "    head()"
   ]
  },
  {
   "cell_type": "markdown",
   "metadata": {
    "colab_type": "text",
    "id": "OKHQe2Ez8V2n"
   },
   "source": [
    "#### Extract data\n",
    "Filter only male students"
   ]
  },
  {
   "cell_type": "code",
   "execution_count": 15,
   "metadata": {
    "colab": {},
    "colab_type": "code",
    "id": "z28KHfC28V2o",
    "scrolled": true
   },
   "outputs": [
    {
     "data": {
      "text/html": [
       "<table>\n",
       "<thead><tr><th scope=col>school</th><th scope=col>sex</th><th scope=col>age</th><th scope=col>address</th><th scope=col>famsize</th><th scope=col>Pstatus</th><th scope=col>Medu</th><th scope=col>Fedu</th><th scope=col>Mjob</th><th scope=col>Fjob</th><th scope=col>...</th><th scope=col>famrel</th><th scope=col>freetime</th><th scope=col>goout</th><th scope=col>Dalc</th><th scope=col>Walc</th><th scope=col>health</th><th scope=col>absences</th><th scope=col>G1</th><th scope=col>G2</th><th scope=col>G3</th></tr></thead>\n",
       "<tbody>\n",
       "\t<tr><td>GP      </td><td>M       </td><td>16      </td><td>U       </td><td>LE3     </td><td>T       </td><td>4       </td><td>3       </td><td>services</td><td>other   </td><td>...     </td><td>5       </td><td>4       </td><td>2       </td><td>1       </td><td>2       </td><td>5       </td><td>10      </td><td>15      </td><td>15      </td><td>15      </td></tr>\n",
       "\t<tr><td>GP      </td><td>M       </td><td>16      </td><td>U       </td><td>LE3     </td><td>T       </td><td>2       </td><td>2       </td><td>other   </td><td>other   </td><td>...     </td><td>4       </td><td>4       </td><td>4       </td><td>1       </td><td>1       </td><td>3       </td><td> 0      </td><td>12      </td><td>12      </td><td>11      </td></tr>\n",
       "\t<tr><td>GP      </td><td>M       </td><td>15      </td><td>U       </td><td>LE3     </td><td>A       </td><td>3       </td><td>2       </td><td>services</td><td>other   </td><td>...     </td><td>4       </td><td>2       </td><td>2       </td><td>1       </td><td>1       </td><td>1       </td><td> 0      </td><td>16      </td><td>18      </td><td>19      </td></tr>\n",
       "\t<tr><td>GP      </td><td>M       </td><td>15      </td><td>U       </td><td>GT3     </td><td>T       </td><td>3       </td><td>4       </td><td>other   </td><td>other   </td><td>...     </td><td>5       </td><td>5       </td><td>1       </td><td>1       </td><td>1       </td><td>5       </td><td> 0      </td><td>14      </td><td>15      </td><td>15      </td></tr>\n",
       "\t<tr><td>GP      </td><td>M       </td><td>15      </td><td>U       </td><td>LE3     </td><td>T       </td><td>4       </td><td>4       </td><td>health  </td><td>services</td><td>...     </td><td>4       </td><td>3       </td><td>3       </td><td>1       </td><td>3       </td><td>5       </td><td> 2      </td><td>14      </td><td>14      </td><td>14      </td></tr>\n",
       "\t<tr><td>GP      </td><td>M       </td><td>15      </td><td>U       </td><td>GT3     </td><td>T       </td><td>4       </td><td>3       </td><td>teacher </td><td>other   </td><td>...     </td><td>5       </td><td>4       </td><td>3       </td><td>1       </td><td>2       </td><td>3       </td><td> 2      </td><td>10      </td><td>10      </td><td>11      </td></tr>\n",
       "</tbody>\n",
       "</table>\n"
      ],
      "text/latex": [
       "\\begin{tabular}{r|lllllllllllllllllllllllllllllllll}\n",
       " school & sex & age & address & famsize & Pstatus & Medu & Fedu & Mjob & Fjob & ... & famrel & freetime & goout & Dalc & Walc & health & absences & G1 & G2 & G3\\\\\n",
       "\\hline\n",
       "\t GP       & M        & 16       & U        & LE3      & T        & 4        & 3        & services & other    & ...      & 5        & 4        & 2        & 1        & 2        & 5        & 10       & 15       & 15       & 15      \\\\\n",
       "\t GP       & M        & 16       & U        & LE3      & T        & 2        & 2        & other    & other    & ...      & 4        & 4        & 4        & 1        & 1        & 3        &  0       & 12       & 12       & 11      \\\\\n",
       "\t GP       & M        & 15       & U        & LE3      & A        & 3        & 2        & services & other    & ...      & 4        & 2        & 2        & 1        & 1        & 1        &  0       & 16       & 18       & 19      \\\\\n",
       "\t GP       & M        & 15       & U        & GT3      & T        & 3        & 4        & other    & other    & ...      & 5        & 5        & 1        & 1        & 1        & 5        &  0       & 14       & 15       & 15      \\\\\n",
       "\t GP       & M        & 15       & U        & LE3      & T        & 4        & 4        & health   & services & ...      & 4        & 3        & 3        & 1        & 3        & 5        &  2       & 14       & 14       & 14      \\\\\n",
       "\t GP       & M        & 15       & U        & GT3      & T        & 4        & 3        & teacher  & other    & ...      & 5        & 4        & 3        & 1        & 2        & 3        &  2       & 10       & 10       & 11      \\\\\n",
       "\\end{tabular}\n"
      ],
      "text/markdown": [
       "\n",
       "| school | sex | age | address | famsize | Pstatus | Medu | Fedu | Mjob | Fjob | ... | famrel | freetime | goout | Dalc | Walc | health | absences | G1 | G2 | G3 |\n",
       "|---|---|---|---|---|---|---|---|---|---|---|---|---|---|---|---|---|---|---|---|---|\n",
       "| GP       | M        | 16       | U        | LE3      | T        | 4        | 3        | services | other    | ...      | 5        | 4        | 2        | 1        | 2        | 5        | 10       | 15       | 15       | 15       |\n",
       "| GP       | M        | 16       | U        | LE3      | T        | 2        | 2        | other    | other    | ...      | 4        | 4        | 4        | 1        | 1        | 3        |  0       | 12       | 12       | 11       |\n",
       "| GP       | M        | 15       | U        | LE3      | A        | 3        | 2        | services | other    | ...      | 4        | 2        | 2        | 1        | 1        | 1        |  0       | 16       | 18       | 19       |\n",
       "| GP       | M        | 15       | U        | GT3      | T        | 3        | 4        | other    | other    | ...      | 5        | 5        | 1        | 1        | 1        | 5        |  0       | 14       | 15       | 15       |\n",
       "| GP       | M        | 15       | U        | LE3      | T        | 4        | 4        | health   | services | ...      | 4        | 3        | 3        | 1        | 3        | 5        |  2       | 14       | 14       | 14       |\n",
       "| GP       | M        | 15       | U        | GT3      | T        | 4        | 3        | teacher  | other    | ...      | 5        | 4        | 3        | 1        | 2        | 3        |  2       | 10       | 10       | 11       |\n",
       "\n"
      ],
      "text/plain": [
       "  school sex age address famsize Pstatus Medu Fedu Mjob     Fjob     ... famrel\n",
       "1 GP     M   16  U       LE3     T       4    3    services other    ... 5     \n",
       "2 GP     M   16  U       LE3     T       2    2    other    other    ... 4     \n",
       "3 GP     M   15  U       LE3     A       3    2    services other    ... 4     \n",
       "4 GP     M   15  U       GT3     T       3    4    other    other    ... 5     \n",
       "5 GP     M   15  U       LE3     T       4    4    health   services ... 4     \n",
       "6 GP     M   15  U       GT3     T       4    3    teacher  other    ... 5     \n",
       "  freetime goout Dalc Walc health absences G1 G2 G3\n",
       "1 4        2     1    2    5      10       15 15 15\n",
       "2 4        4     1    1    3       0       12 12 11\n",
       "3 2        2     1    1    1       0       16 18 19\n",
       "4 5        1     1    1    5       0       14 15 15\n",
       "5 3        3     1    3    5       2       14 14 14\n",
       "6 4        3     1    2    3       2       10 10 11"
      ]
     },
     "metadata": {},
     "output_type": "display_data"
    }
   ],
   "source": [
    "student_data %>%\n",
    "    filter(sex=='M') %>%\n",
    "    head()"
   ]
  },
  {
   "cell_type": "markdown",
   "metadata": {
    "colab_type": "text",
    "id": "KZk90ob68V2q"
   },
   "source": [
    "#### Sorting the data\n",
    "\n",
    "Select only the female students and sort them by age."
   ]
  },
  {
   "cell_type": "code",
   "execution_count": 16,
   "metadata": {
    "colab": {},
    "colab_type": "code",
    "id": "OoaeiS5t8V2r"
   },
   "outputs": [
    {
     "data": {
      "text/html": [
       "<table>\n",
       "<thead><tr><th scope=col>school</th><th scope=col>sex</th><th scope=col>age</th><th scope=col>address</th><th scope=col>famsize</th><th scope=col>Pstatus</th><th scope=col>Medu</th><th scope=col>Fedu</th><th scope=col>Mjob</th><th scope=col>Fjob</th><th scope=col>...</th><th scope=col>famrel</th><th scope=col>freetime</th><th scope=col>goout</th><th scope=col>Dalc</th><th scope=col>Walc</th><th scope=col>health</th><th scope=col>absences</th><th scope=col>G1</th><th scope=col>G2</th><th scope=col>G3</th></tr></thead>\n",
       "<tbody>\n",
       "\t<tr><td>MS      </td><td>F       </td><td>20      </td><td>U       </td><td>GT3     </td><td>T       </td><td>4       </td><td>2       </td><td>health  </td><td>other   </td><td>...     </td><td>5       </td><td>4       </td><td>3       </td><td>1       </td><td>1       </td><td>3       </td><td> 4      </td><td>15      </td><td>14      </td><td>15      </td></tr>\n",
       "\t<tr><td>GP      </td><td>F       </td><td>19      </td><td>U       </td><td>GT3     </td><td>T       </td><td>0       </td><td>1       </td><td>at_home </td><td>other   </td><td>...     </td><td>3       </td><td>4       </td><td>2       </td><td>1       </td><td>1       </td><td>5       </td><td> 2      </td><td> 7      </td><td> 8      </td><td> 9      </td></tr>\n",
       "\t<tr><td>GP      </td><td>F       </td><td>19      </td><td>U       </td><td>GT3     </td><td>T       </td><td>3       </td><td>3       </td><td>other   </td><td>other   </td><td>...     </td><td>4       </td><td>3       </td><td>3       </td><td>1       </td><td>2       </td><td>3       </td><td>10      </td><td> 8      </td><td> 8      </td><td> 8      </td></tr>\n",
       "\t<tr><td>GP      </td><td>F       </td><td>19      </td><td>U       </td><td>GT3     </td><td>T       </td><td>3       </td><td>3       </td><td>other   </td><td>services</td><td>...     </td><td>4       </td><td>3       </td><td>5       </td><td>3       </td><td>3       </td><td>5       </td><td>15      </td><td> 9      </td><td> 9      </td><td> 9      </td></tr>\n",
       "\t<tr><td>GP      </td><td>F       </td><td>19      </td><td>U       </td><td>GT3     </td><td>T       </td><td>4       </td><td>4       </td><td>health  </td><td>other   </td><td>...     </td><td>2       </td><td>3       </td><td>4       </td><td>2       </td><td>3       </td><td>2       </td><td> 0      </td><td>10      </td><td> 9      </td><td> 0      </td></tr>\n",
       "\t<tr><td>GP      </td><td>F       </td><td>19      </td><td>U       </td><td>LE3     </td><td>T       </td><td>1       </td><td>1       </td><td>at_home </td><td>other   </td><td>...     </td><td>4       </td><td>4       </td><td>3       </td><td>1       </td><td>3       </td><td>3       </td><td>18      </td><td>12      </td><td>10      </td><td>10      </td></tr>\n",
       "</tbody>\n",
       "</table>\n"
      ],
      "text/latex": [
       "\\begin{tabular}{r|lllllllllllllllllllllllllllllllll}\n",
       " school & sex & age & address & famsize & Pstatus & Medu & Fedu & Mjob & Fjob & ... & famrel & freetime & goout & Dalc & Walc & health & absences & G1 & G2 & G3\\\\\n",
       "\\hline\n",
       "\t MS       & F        & 20       & U        & GT3      & T        & 4        & 2        & health   & other    & ...      & 5        & 4        & 3        & 1        & 1        & 3        &  4       & 15       & 14       & 15      \\\\\n",
       "\t GP        & F         & 19        & U         & GT3       & T         & 0         & 1         & at\\_home & other     & ...       & 3         & 4         & 2         & 1         & 1         & 5         &  2        &  7        &  8        &  9       \\\\\n",
       "\t GP       & F        & 19       & U        & GT3      & T        & 3        & 3        & other    & other    & ...      & 4        & 3        & 3        & 1        & 2        & 3        & 10       &  8       &  8       &  8      \\\\\n",
       "\t GP       & F        & 19       & U        & GT3      & T        & 3        & 3        & other    & services & ...      & 4        & 3        & 5        & 3        & 3        & 5        & 15       &  9       &  9       &  9      \\\\\n",
       "\t GP       & F        & 19       & U        & GT3      & T        & 4        & 4        & health   & other    & ...      & 2        & 3        & 4        & 2        & 3        & 2        &  0       & 10       &  9       &  0      \\\\\n",
       "\t GP        & F         & 19        & U         & LE3       & T         & 1         & 1         & at\\_home & other     & ...       & 4         & 4         & 3         & 1         & 3         & 3         & 18        & 12        & 10        & 10       \\\\\n",
       "\\end{tabular}\n"
      ],
      "text/markdown": [
       "\n",
       "| school | sex | age | address | famsize | Pstatus | Medu | Fedu | Mjob | Fjob | ... | famrel | freetime | goout | Dalc | Walc | health | absences | G1 | G2 | G3 |\n",
       "|---|---|---|---|---|---|---|---|---|---|---|---|---|---|---|---|---|---|---|---|---|\n",
       "| MS       | F        | 20       | U        | GT3      | T        | 4        | 2        | health   | other    | ...      | 5        | 4        | 3        | 1        | 1        | 3        |  4       | 15       | 14       | 15       |\n",
       "| GP       | F        | 19       | U        | GT3      | T        | 0        | 1        | at_home  | other    | ...      | 3        | 4        | 2        | 1        | 1        | 5        |  2       |  7       |  8       |  9       |\n",
       "| GP       | F        | 19       | U        | GT3      | T        | 3        | 3        | other    | other    | ...      | 4        | 3        | 3        | 1        | 2        | 3        | 10       |  8       |  8       |  8       |\n",
       "| GP       | F        | 19       | U        | GT3      | T        | 3        | 3        | other    | services | ...      | 4        | 3        | 5        | 3        | 3        | 5        | 15       |  9       |  9       |  9       |\n",
       "| GP       | F        | 19       | U        | GT3      | T        | 4        | 4        | health   | other    | ...      | 2        | 3        | 4        | 2        | 3        | 2        |  0       | 10       |  9       |  0       |\n",
       "| GP       | F        | 19       | U        | LE3      | T        | 1        | 1        | at_home  | other    | ...      | 4        | 4        | 3        | 1        | 3        | 3        | 18       | 12       | 10       | 10       |\n",
       "\n"
      ],
      "text/plain": [
       "  school sex age address famsize Pstatus Medu Fedu Mjob    Fjob     ... famrel\n",
       "1 MS     F   20  U       GT3     T       4    2    health  other    ... 5     \n",
       "2 GP     F   19  U       GT3     T       0    1    at_home other    ... 3     \n",
       "3 GP     F   19  U       GT3     T       3    3    other   other    ... 4     \n",
       "4 GP     F   19  U       GT3     T       3    3    other   services ... 4     \n",
       "5 GP     F   19  U       GT3     T       4    4    health  other    ... 2     \n",
       "6 GP     F   19  U       LE3     T       1    1    at_home other    ... 4     \n",
       "  freetime goout Dalc Walc health absences G1 G2 G3\n",
       "1 4        3     1    1    3       4       15 14 15\n",
       "2 4        2     1    1    5       2        7  8  9\n",
       "3 3        3     1    2    3      10        8  8  8\n",
       "4 3        5     3    3    5      15        9  9  9\n",
       "5 3        4     2    3    2       0       10  9  0\n",
       "6 4        3     1    3    3      18       12 10 10"
      ]
     },
     "metadata": {},
     "output_type": "display_data"
    }
   ],
   "source": [
    "student_data %>%\n",
    "    filter(sex=='F') %>%\n",
    "    arrange(-age) %>%\n",
    "    head()"
   ]
  },
  {
   "cell_type": "markdown",
   "metadata": {
    "colab_type": "text",
    "id": "udeGeg_88V2w"
   },
   "source": [
    "#### Summarize the data\n",
    "\n",
    "What is the average absences of the students?"
   ]
  },
  {
   "cell_type": "code",
   "execution_count": 17,
   "metadata": {
    "colab": {},
    "colab_type": "code",
    "id": "56g7l4lw8V2w"
   },
   "outputs": [
    {
     "data": {
      "text/html": [
       "<table>\n",
       "<thead><tr><th scope=col>Mean_absences</th></tr></thead>\n",
       "<tbody>\n",
       "\t<tr><td>5.708861</td></tr>\n",
       "</tbody>\n",
       "</table>\n"
      ],
      "text/latex": [
       "\\begin{tabular}{r|l}\n",
       " Mean\\_absences\\\\\n",
       "\\hline\n",
       "\t 5.708861\\\\\n",
       "\\end{tabular}\n"
      ],
      "text/markdown": [
       "\n",
       "| Mean_absences |\n",
       "|---|\n",
       "| 5.708861 |\n",
       "\n"
      ],
      "text/plain": [
       "  Mean_absences\n",
       "1 5.708861     "
      ]
     },
     "metadata": {},
     "output_type": "display_data"
    }
   ],
   "source": [
    "student_data %>%\n",
    "    summarise(Mean_absences = mean(absences))"
   ]
  },
  {
   "cell_type": "markdown",
   "metadata": {
    "colab_type": "text",
    "id": "uYf201W68V2z"
   },
   "source": [
    "#### Grouping and summarizing\n",
    "\n",
    "Calculate the average absences of both male and female students"
   ]
  },
  {
   "cell_type": "code",
   "execution_count": 18,
   "metadata": {
    "colab": {},
    "colab_type": "code",
    "id": "_T1fmoNb8V20",
    "scrolled": true
   },
   "outputs": [
    {
     "data": {
      "text/html": [
       "<table>\n",
       "<thead><tr><th scope=col>age</th><th scope=col>sex</th><th scope=col>Mean_absences</th></tr></thead>\n",
       "<tbody>\n",
       "\t<tr><td>15      </td><td>F       </td><td>3.894737</td></tr>\n",
       "\t<tr><td>15      </td><td>M       </td><td>2.863636</td></tr>\n",
       "\t<tr><td>16      </td><td>F       </td><td>5.888889</td></tr>\n",
       "\t<tr><td>16      </td><td>M       </td><td>4.980000</td></tr>\n",
       "\t<tr><td>17      </td><td>F       </td><td>6.913793</td></tr>\n",
       "\t<tr><td>17      </td><td>M       </td><td>5.800000</td></tr>\n",
       "</tbody>\n",
       "</table>\n"
      ],
      "text/latex": [
       "\\begin{tabular}{r|lll}\n",
       " age & sex & Mean\\_absences\\\\\n",
       "\\hline\n",
       "\t 15       & F        & 3.894737\\\\\n",
       "\t 15       & M        & 2.863636\\\\\n",
       "\t 16       & F        & 5.888889\\\\\n",
       "\t 16       & M        & 4.980000\\\\\n",
       "\t 17       & F        & 6.913793\\\\\n",
       "\t 17       & M        & 5.800000\\\\\n",
       "\\end{tabular}\n"
      ],
      "text/markdown": [
       "\n",
       "| age | sex | Mean_absences |\n",
       "|---|---|---|\n",
       "| 15       | F        | 3.894737 |\n",
       "| 15       | M        | 2.863636 |\n",
       "| 16       | F        | 5.888889 |\n",
       "| 16       | M        | 4.980000 |\n",
       "| 17       | F        | 6.913793 |\n",
       "| 17       | M        | 5.800000 |\n",
       "\n"
      ],
      "text/plain": [
       "  age sex Mean_absences\n",
       "1 15  F   3.894737     \n",
       "2 15  M   2.863636     \n",
       "3 16  F   5.888889     \n",
       "4 16  M   4.980000     \n",
       "5 17  F   6.913793     \n",
       "6 17  M   5.800000     "
      ]
     },
     "metadata": {},
     "output_type": "display_data"
    }
   ],
   "source": [
    "student_data %>%\n",
    "    group_by(age, sex) %>%\n",
    "    summarise(Mean_absences = mean(absences)) %>%\n",
    "    head()"
   ]
  }
 ],
 "metadata": {
  "colab": {
   "name": "AIS_W01_SS20_Intro.ipynb",
   "provenance": []
  },
  "kernelspec": {
   "display_name": "R",
   "language": "R",
   "name": "ir"
  },
  "language_info": {
   "codemirror_mode": "r",
   "file_extension": ".r",
   "mimetype": "text/x-r-source",
   "name": "R",
   "pygments_lexer": "r",
   "version": "3.6.1"
  },
  "rise": {
   "enable_chalkboard": false,
   "overlay": "<div class='logo'><img src='images/uniwue4c.png'></div>",
   "scroll": true
  },
  "toc": {
   "base_numbering": 1,
   "nav_menu": {},
   "number_sections": false,
   "sideBar": true,
   "skip_h1_title": true,
   "title_cell": "Agenda",
   "title_sidebar": "Contents",
   "toc_cell": true,
   "toc_position": {},
   "toc_section_display": true,
   "toc_window_display": false
  },
  "toc-autonumbering": false,
  "toc-showmarkdowntxt": true,
  "toc-showtags": false
 },
 "nbformat": 4,
 "nbformat_minor": 4
}
